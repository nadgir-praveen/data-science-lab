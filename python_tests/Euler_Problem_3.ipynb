{
  "nbformat": 4,
  "nbformat_minor": 0,
  "metadata": {
    "colab": {
      "provenance": [],
      "authorship_tag": "ABX9TyNGSxL+KIGX/Ad0qj0e+I9l",
      "include_colab_link": true
    },
    "kernelspec": {
      "name": "python3",
      "display_name": "Python 3"
    },
    "language_info": {
      "name": "python"
    }
  },
  "cells": [
    {
      "cell_type": "markdown",
      "metadata": {
        "id": "view-in-github",
        "colab_type": "text"
      },
      "source": [
        "<a href=\"https://colab.research.google.com/github/nadgir-praveen/data-science-lab/blob/main/python_tests/Euler_Problem_3.ipynb\" target=\"_parent\"><img src=\"https://colab.research.google.com/assets/colab-badge.svg\" alt=\"Open In Colab\"/></a>"
      ]
    },
    {
      "cell_type": "markdown",
      "source": [
        "Euler Problem 3\n",
        "\n",
        "The prime factors of 13195 are 5, 7, 13 and 29.\n",
        "What is the largest prime factor of the number 600851475143?"
      ],
      "metadata": {
        "id": "U5tGI_Phr3et"
      }
    },
    {
      "cell_type": "code",
      "source": [
        "import math"
      ],
      "metadata": {
        "id": "J4gAh9v0Lu5y"
      },
      "execution_count": 109,
      "outputs": []
    },
    {
      "cell_type": "code",
      "execution_count": 116,
      "metadata": {
        "id": "OZU4Ct7vrygC"
      },
      "outputs": [],
      "source": [
        "is_prime = lambda num: False if {False for i in range(2, int(math.sqrt(num))) if not num%i} else True"
      ]
    },
    {
      "cell_type": "code",
      "source": [
        "prime_factor = lambda num: max([i for i in range(2, int(math.sqrt(num)+2)) if not num%i and is_prime(i)])\n",
        "print(prime_factor(600851475143))"
      ],
      "metadata": {
        "colab": {
          "base_uri": "https://localhost:8080/"
        },
        "id": "7j37NSAwtgM9",
        "outputId": "d482c716-5eb0-403f-8986-f4271ceb11e8"
      },
      "execution_count": 118,
      "outputs": [
        {
          "output_type": "stream",
          "name": "stdout",
          "text": [
            "6857\n"
          ]
        }
      ]
    }
  ]
}