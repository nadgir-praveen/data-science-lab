{
  "nbformat": 4,
  "nbformat_minor": 0,
  "metadata": {
    "accelerator": "GPU",
    "colab": {
      "provenance": [],
      "gpuType": "T4",
      "include_colab_link": true
    },
    "kernelspec": {
      "display_name": "Python 3",
      "name": "python3"
    }
  },
  "cells": [
    {
      "cell_type": "markdown",
      "metadata": {
        "id": "view-in-github",
        "colab_type": "text"
      },
      "source": [
        "<a href=\"https://colab.research.google.com/github/nadgir-praveen/data-science-lab/blob/main/mini_projects/PN_M4_NB_MiniProject_3_Video_Classification.ipynb\" target=\"_parent\"><img src=\"https://colab.research.google.com/assets/colab-badge.svg\" alt=\"Open In Colab\"/></a>"
      ]
    },
    {
      "cell_type": "markdown",
      "metadata": {
        "id": "WFBl3DsqB3AE"
      },
      "source": [
        "# Advanced Certification Program in Computational Data Science\n",
        "\n",
        "##  A program by IISc and TalentSprint\n",
        "\n",
        "### Mini Project Notebook: Video based Action Classification using LSTM"
      ]
    },
    {
      "cell_type": "markdown",
      "metadata": {
        "id": "maritime-miami"
      },
      "source": [
        "## Learning Objectives"
      ]
    },
    {
      "cell_type": "markdown",
      "metadata": {
        "id": "95F1ym6qB8VU"
      },
      "source": [
        "At the end of the experiment, you will be able to :\n",
        "\n",
        "* extract frames out of a video\n",
        "* build the CNN model to extract features from the video frames\n",
        "* train LSTM/GRU model to perform action classification"
      ]
    },
    {
      "cell_type": "markdown",
      "metadata": {
        "id": "P8aczZmzvXTc"
      },
      "source": [
        "## Information"
      ]
    },
    {
      "cell_type": "markdown",
      "metadata": {
        "id": "L0Ld7v8N6Z12"
      },
      "source": [
        "**Background:** The CNN LSTM architecture involves using Convolutional Neural Network (CNN) layers for feature extraction on input data combined with LSTMs to support sequence prediction.\n",
        "\n",
        "CNN LSTMs were developed for visual time series prediction problems and the application of generating textual descriptions from sequences of images (e.g. videos). Specifically, the problems of:\n",
        "\n",
        "\n",
        "\n",
        "*   Activity Recognition: Generating a textual description of an activity demonstrated in a sequence of images\n",
        "*   Image Description: Generating a textual description of a single image.\n",
        "*   Video Description: Generating a textual description of a sequence of images."
      ]
    },
    {
      "cell_type": "markdown",
      "metadata": {
        "id": "rwfDjPVOaTDV"
      },
      "source": [
        "**Applications:** Applications such as surveillance, video retrieval and\n",
        "human-computer interaction require methods for recognizing human actions in various scenarios. In the area of robotics, the tasks of\n",
        "autonomous navigation or social interaction could also take advantage of the knowledge extracted\n",
        "from live video recordings. Typical scenarios\n",
        "include scenes with cluttered, moving backgrounds, nonstationary camera, scale variations, individual variations in\n",
        "appearance and cloth of people, changes in light and view\n",
        "point and so forth. All of these conditions introduce challenging problems that can be addressed using deep learning (computer vision) models."
      ]
    },
    {
      "cell_type": "markdown",
      "metadata": {
        "id": "kgx1PkHfCDyJ"
      },
      "source": [
        "## Dataset\n",
        "\n"
      ]
    },
    {
      "cell_type": "markdown",
      "metadata": {
        "id": "adc87eHGA_NY"
      },
      "source": [
        "**Dataset:** This dataset consists of labelled videos of 6 human actions (walking, jogging, running, boxing, hand waving and hand clapping) performed several times by 25 subjects in four different scenarios: outdoors s1, outdoors with scale variation s2, outdoors with different clothes s3 and indoors s4 as illustrated below.\n",
        "\n",
        "![img](https://cdn.iisc.talentsprint.com/CDS/Images/actions.gif)\n",
        "\n",
        "All sequences were taken over homogeneous backgrounds with a static camera with 25fps frame rate. The sequences were downsampled to the spatial resolution of 160x120 pixels and have a length of four seconds in average. In summary, there are 25x6x4=600 video files for each combination of 25 subjects, 6 actions and 4 scenarios. For this mini-project we have randomly selected 20% of the data as test set.\n",
        "\n",
        "Dataset source: https://www.csc.kth.se/cvap/actions/"
      ]
    },
    {
      "cell_type": "markdown",
      "metadata": {
        "id": "WN7vlh6jB40i"
      },
      "source": [
        "**Methodology:**\n",
        "\n",
        "When performing image classification, we input an image to our CNN; Obtain the predictions from the CNN;\n",
        "Choose the label with the largest corresponding probability\n",
        "\n",
        "\n",
        "Since a video is just a series of image frames, in a video classification, we Loop over all frames in the video file;\n",
        "For each frame, pass the frame through the CNN; Classify each frame individually and independently of each other; Choose the label with the largest corresponding probability;\n",
        "Label the frame and write the output frame to disk"
      ]
    },
    {
      "cell_type": "markdown",
      "metadata": {
        "id": "LoLphNfQF_28"
      },
      "source": [
        "Refer this [Video Classification using Keras](https://medium.com/video-classification-using-keras-and-tensorflow/action-recognition-and-video-classification-using-keras-and-tensorflow-56badcbe5f77) for complete understanding and implementation example of video classification."
      ]
    },
    {
      "cell_type": "markdown",
      "metadata": {
        "id": "ih-oasWmdZul"
      },
      "source": [
        "## Problem Statement"
      ]
    },
    {
      "cell_type": "markdown",
      "metadata": {
        "id": "-18cjyCTCHE-"
      },
      "source": [
        "Train a CNN-LSTM based deep neural net to recognize the action being performed in a video"
      ]
    },
    {
      "cell_type": "markdown",
      "metadata": {
        "id": "operating-latter"
      },
      "source": [
        "## Grading = 10 Points"
      ]
    },
    {
      "cell_type": "markdown",
      "source": [
        "### Install and re-start the runtime"
      ],
      "metadata": {
        "id": "8tKT4MlqAbub"
      }
    },
    {
      "cell_type": "code",
      "source": [
        "!pip3 install imageio==2.4.1"
      ],
      "metadata": {
        "id": "pgxCas9hAeUq",
        "colab": {
          "base_uri": "https://localhost:8080/"
        },
        "outputId": "bebc6992-00bd-4889-b899-24361efb19ff"
      },
      "execution_count": null,
      "outputs": [
        {
          "output_type": "stream",
          "name": "stdout",
          "text": [
            "Requirement already satisfied: imageio==2.4.1 in /usr/local/lib/python3.10/dist-packages (2.4.1)\n",
            "Requirement already satisfied: numpy in /usr/local/lib/python3.10/dist-packages (from imageio==2.4.1) (1.25.2)\n",
            "Requirement already satisfied: pillow in /usr/local/lib/python3.10/dist-packages (from imageio==2.4.1) (9.4.0)\n"
          ]
        }
      ]
    },
    {
      "cell_type": "code",
      "metadata": {
        "id": "kX5ljpgMqkxh",
        "colab": {
          "base_uri": "https://localhost:8080/"
        },
        "outputId": "ac37e496-5e8a-4fab-be34-ad250759e5c5"
      },
      "source": [
        "#@title Download Dataset\n",
        "!wget -qq https://cdn.iisc.talentsprint.com/CDS/MiniProjects/Actions.zip\n",
        "!unzip -qq Actions.zip\n",
        "print(\"Dataset downloaded successfully!!\")"
      ],
      "execution_count": null,
      "outputs": [
        {
          "output_type": "stream",
          "name": "stdout",
          "text": [
            "replace Actions/train/Walking/person01_walking_d1_uncomp.avi? [y]es, [n]o, [A]ll, [N]one, [r]ename: A\n",
            "Dataset downloaded successfully!!\n"
          ]
        }
      ]
    },
    {
      "cell_type": "markdown",
      "metadata": {
        "id": "abstract-stocks"
      },
      "source": [
        "### Import required packages"
      ]
    },
    {
      "cell_type": "code",
      "metadata": {
        "id": "2LgMamdMvHRv"
      },
      "source": [
        "import keras\n",
        "from keras import applications\n",
        "from keras import optimizers\n",
        "from keras.models import Sequential, Model\n",
        "from keras.layers import *\n",
        "from keras.applications.vgg16 import VGG16\n",
        "from keras.models import Model\n",
        "from keras.layers import Dense, Input\n",
        "from keras.layers import GlobalAveragePooling2D\n",
        "from keras.layers import LSTM\n",
        "from keras.layers import TimeDistributed\n",
        "from keras.layers import Conv2D, BatchNormalization, MaxPool2D, GlobalMaxPool2D\n",
        "from keras.layers import GRU, Dense, Dropout\n",
        "from keras.layers import Conv2D, BatchNormalization, MaxPool2D, GlobalMaxPool2D\n",
        "from tensorflow.keras.optimizers import Adam\n",
        "\n",
        "import os, glob\n",
        "import cv2\n",
        "import numpy as np\n",
        "import math\n",
        "import pandas as pd\n",
        "from matplotlib import pyplot as plt"
      ],
      "execution_count": null,
      "outputs": []
    },
    {
      "cell_type": "markdown",
      "metadata": {
        "id": "sQ_RWsv1vsFI"
      },
      "source": [
        "### Load the data and generate frames of video (2 points)\n",
        "\n",
        "Detecting an action is possible by analyzing a series of images (that we name “frames”) that are taken in time.\n",
        "\n",
        "Hint: Refer data preparation section in [keras_video_classification](https://keras.io/examples/vision/video_classification/)\n"
      ]
    },
    {
      "cell_type": "code",
      "metadata": {
        "id": "6Sqyn9UAsXy4"
      },
      "source": [
        "data_dir = \"/content/Actions/train/\"\n",
        "test_data_dir = \"/content/Actions/test/\"\n",
        "video_directory = \"/content/images/\"\n",
        "\n",
        "# YOUR CODE HERE"
      ],
      "execution_count": null,
      "outputs": []
    },
    {
      "cell_type": "code",
      "source": [
        "# load all images in a directory\n",
        "test_video_files = glob.glob('/content/Actions/test/*/*', recursive=True)\n",
        "print(f'test video files are {len(test_video_files)}')\n",
        "\n",
        "train_video_files = glob.glob('/content/Actions/train/*/*', recursive=True)\n",
        "print(f'train video files are {len(train_video_files)}')\n",
        "\n",
        "test_dataset = pd.DataFrame(data={'video':test_video_files })\n",
        "test_dataset['label'] = test_dataset['video'].apply(lambda d: d.split('/')[4])\n",
        "\n",
        "train_dataset = pd.DataFrame(data={'video':train_video_files })\n",
        "train_dataset['label'] = train_dataset['video'].apply(lambda d: d.split('/')[4])\n",
        "\n",
        "\n"
      ],
      "metadata": {
        "colab": {
          "base_uri": "https://localhost:8080/"
        },
        "id": "_UwEuTFRlkRR",
        "outputId": "011816d0-2e76-4d87-a3af-5e51c4946988"
      },
      "execution_count": null,
      "outputs": [
        {
          "output_type": "stream",
          "name": "stdout",
          "text": [
            "test video files are 120\n",
            "train video files are 479\n"
          ]
        }
      ]
    },
    {
      "cell_type": "code",
      "source": [
        "# # The following two methods are taken from this tutorial:\n",
        "# # https://www.tensorflow.org/hub/tutorials/action_recognition_with_tf_hub\n",
        "\n",
        "\n",
        "# def crop_center_square(frame):\n",
        "#     y, x = frame.shape[0:2]\n",
        "#     min_dim = min(y, x)\n",
        "#     start_x = (x // 2) - (min_dim // 2)\n",
        "#     start_y = (y // 2) - (min_dim // 2)\n",
        "#     return frame[start_y : start_y + min_dim, start_x : start_x + min_dim]\n",
        "\n",
        "\n",
        "# def load_video(path, max_frames=0, resize=(IMG_SIZE, IMG_SIZE)):\n",
        "#     cap = cv2.VideoCapture(path)\n",
        "#     frames = []\n",
        "#     try:\n",
        "#         while True:\n",
        "#             ret, frame = cap.read()\n",
        "#             if not ret:\n",
        "#                 break\n",
        "#             frame = crop_center_square(frame)\n",
        "#             frame = cv2.resize(frame, resize)\n",
        "#             frame = frame[:, :, [2, 1, 0]]\n",
        "#             frames.append(frame)\n",
        "\n",
        "#             if len(frames) == max_frames:\n",
        "#                 break\n",
        "#     finally:\n",
        "#         cap.release()\n",
        "#     return np.array(frames)"
      ],
      "metadata": {
        "id": "m-OdywcrNicx"
      },
      "execution_count": null,
      "outputs": []
    },
    {
      "cell_type": "code",
      "source": [
        "test_video_files[0].split('/')[5].split('.')[0]\n",
        "!rm -rf /content/images"
      ],
      "metadata": {
        "id": "z7-sqKenbw-c"
      },
      "execution_count": null,
      "outputs": []
    },
    {
      "cell_type": "code",
      "source": [
        "os.makedirs(\"/content/images/train\")\n",
        "os.makedirs(\"/content/images/test\")\n"
      ],
      "metadata": {
        "id": "rcmzRRroBIZY"
      },
      "execution_count": null,
      "outputs": []
    },
    {
      "cell_type": "code",
      "metadata": {
        "id": "uPQf1AoPMVFM"
      },
      "source": [
        "# YOUR CODE HERE\n",
        "\n",
        "def extract_frames(video_path, frame_rate=1, max_frames=25, resize=(160, 120)):\n",
        "    \"\"\"\n",
        "    Extract frames from a video at a specified frame rate and return as a NumPy array.\n",
        "\n",
        "    Args:\n",
        "        video_path (str): Path to the input video file.\n",
        "        frame_rate (int): Number of frames to skip between saved frames. Default is 1 (save every frame).\n",
        "\n",
        "    Returns:\n",
        "        np.ndarray: Array of video frames with shape (num_frames, height, width, channels).\n",
        "    \"\"\"\n",
        "    video_capture = cv2.VideoCapture(video_path)\n",
        "    frames = []\n",
        "    frame_count = 0\n",
        "\n",
        "    while True:\n",
        "        ret, frame = video_capture.read()\n",
        "        if not ret:\n",
        "            break\n",
        "\n",
        "        if frame_count % frame_rate == 0:\n",
        "            frame = cv2.resize(frame, resize)\n",
        "            frames.append(frame)\n",
        "\n",
        "        frame_count += 1\n",
        "        if frame_count == max_frames:\n",
        "          break\n",
        "\n",
        "    video_capture.release()\n",
        "    frames = np.array(frames)  # Convert list of frames to NumPy array\n",
        "    return frames, frame_count\n",
        "\n"
      ],
      "execution_count": null,
      "outputs": []
    },
    {
      "cell_type": "code",
      "source": [
        "MAX_FRAMES = 50\n",
        "def preprocess_videos(video_df,path):\n",
        "    all_frames = []\n",
        "    all_lables = []\n",
        "    for index, row in video_df.iterrows():\n",
        "        video_name=row.video\n",
        "        tag = row.label\n",
        "        frames, count = extract_frames(video_name, frame_rate=1, max_frames=MAX_FRAMES)\n",
        "        if count == MAX_FRAMES:\n",
        "            all_frames.append(frames)\n",
        "            # all_lables.append(tag)\n",
        "            all_lables.append(tag)\n",
        "            # Convert lists to numpy arrays\n",
        "    all_frames = np.array(all_frames)\n",
        "    all_lables = np.array(all_lables)\n",
        "\n",
        "    return all_frames, all_lables\n",
        "\n",
        "\n",
        "X, y = preprocess_videos(train_dataset,\"/content/images/train\")\n",
        "test_frames, test_lables = preprocess_videos(test_dataset,\"/content/images/test\")\n",
        "\n"
      ],
      "metadata": {
        "id": "TEXMt2mtCvw1"
      },
      "execution_count": null,
      "outputs": []
    },
    {
      "cell_type": "code",
      "source": [
        "print(f\"Frames shape: {X.shape}\")\n",
        "print(f\"Labels shape: {y.shape}\")\n",
        "print(f\"Frames shape: {test_frames.shape}\")\n",
        "print(f\"Labels shape: {test_lables.shape}\")"
      ],
      "metadata": {
        "colab": {
          "base_uri": "https://localhost:8080/"
        },
        "id": "Tj3YzuLUIa1C",
        "outputId": "4b55ef1e-4c4a-447e-b620-bfff2ef70e43"
      },
      "execution_count": null,
      "outputs": [
        {
          "output_type": "stream",
          "name": "stdout",
          "text": [
            "Frames shape: (479, 50, 120, 160, 3)\n",
            "Labels shape: (479,)\n",
            "Frames shape: (120, 50, 120, 160, 3)\n",
            "Labels shape: (120,)\n"
          ]
        }
      ]
    },
    {
      "cell_type": "code",
      "source": [
        "from keras.utils import to_categorical\n",
        "from sklearn.preprocessing import LabelEncoder\n",
        "\n",
        "le = LabelEncoder()\n",
        "le.fit(y)\n",
        "y = to_categorical(le.transform(y))\n",
        "print(y.shape)\n",
        "\n",
        "test_lables = to_categorical(le.transform(test_lables))\n",
        "print(test_lables.shape)\n"
      ],
      "metadata": {
        "colab": {
          "base_uri": "https://localhost:8080/"
        },
        "id": "eNMj3nizO6vx",
        "outputId": "17ab2534-c157-4e93-e62b-ffca7c185564"
      },
      "execution_count": null,
      "outputs": [
        {
          "output_type": "stream",
          "name": "stdout",
          "text": [
            "(479, 6)\n",
            "(120, 6)\n"
          ]
        }
      ]
    },
    {
      "cell_type": "markdown",
      "metadata": {
        "id": "Ytc8suTIMN8y"
      },
      "source": [
        "#### Visualize the frames and analyze the object in each frame. (1 point)\n",
        "\n",
        "* Plot the frames of each class per row (6 rows)\n",
        "* Plot the title as label on each subplot"
      ]
    },
    {
      "cell_type": "markdown",
      "metadata": {
        "id": "QleRUjGgtwTP"
      },
      "source": [
        "### Create the Neural Network (4 points)\n",
        "\n",
        "We can build the model in several ways. We can use a well-known model that we inject in time distributed layer, or we can build our own.\n",
        "\n",
        "With custom ConvNet each input image of the sequence must pass to a convolutional network. The goal is to train that model for each frame and then decide the class to infer.\n",
        "\n",
        "* Use ConvNet and Time distributed to detect features.\n",
        "* Inject the Time distributed output to GRU or LSTM to treat as a time series.\n",
        "* Apply a DenseNet to take the decision and classify."
      ]
    },
    {
      "cell_type": "markdown",
      "metadata": {
        "id": "xVY2FVVDnATG"
      },
      "source": [
        "##### Build the ConvNet for the feature extraction, GRU LSTM layers as a time series and Dense layers for classification"
      ]
    },
    {
      "cell_type": "markdown",
      "metadata": {
        "id": "xcYlSojgwIrb"
      },
      "source": [
        "#### Setup the parameters and train the model with epochs, batch wise\n",
        "\n",
        "* Use train data to fit the model and test data for validation\n",
        "* Configure batch size and epochs\n",
        "* Plot the loss of train and test data"
      ]
    },
    {
      "cell_type": "code",
      "metadata": {
        "id": "OAKAXQ1PVCe_",
        "colab": {
          "base_uri": "https://localhost:8080/"
        },
        "outputId": "84508d0a-e8cf-4df2-fadd-4c3c0afe71d2"
      },
      "source": [
        "# Note: There will be a high memory requirement for the training steps below.\n",
        "# You should work on a GPU/TPU based runtime. See 'Change Runtime' in Colab\n",
        "# Training time for each epoch could be ~30 mins\n",
        "# To save and re-load your model later, see the reference below:\n",
        "# https://colab.research.google.com/github/tensorflow/docs/blob/master/site/en/tutorials/keras/save_and_load.ipynb\n",
        "\n",
        "# YOUR CODE HERE\n",
        "\n",
        "# import tensorflow as tf\n",
        "# from tensorflow.keras.models import Model\n",
        "# from tensorflow.keras.layers import Input, Conv2D, MaxPooling2D, Flatten, Dense, TimeDistributed, LSTM\n",
        "# from tensorflow.keras.optimizers import Adam\n",
        "from sklearn.model_selection import train_test_split\n",
        "\n",
        "# Parameters\n",
        "num_classes = 6  # Number of classes in your dataset (change as needed)\n",
        "frame_height = 120  # Height of each frame\n",
        "frame_width = 160  # Width of each frame\n",
        "channels = 3  # Number of channels (e.g., 3 for RGB)\n",
        "sequence_length = None  # Set to None to handle variable-length sequences\n",
        "batch_size = 16  # Batch size for training\n",
        "epochs = 10  # Number of epochs\n",
        "\n",
        "# CNN + RNN Model\n",
        "input_shape = (sequence_length, frame_height, frame_width, channels)\n",
        "inputs = Input(shape=input_shape)\n",
        "\n",
        "# TimeDistributed CNN\n",
        "cnn = TimeDistributed(Conv2D(32, (3, 3), activation='relu'))(inputs)\n",
        "cnn = TimeDistributed(MaxPooling2D((2, 2)))(cnn)\n",
        "cnn = TimeDistributed(Conv2D(64, (3, 3), activation='relu'))(cnn)\n",
        "cnn = TimeDistributed(MaxPooling2D((2, 2)))(cnn)\n",
        "cnn = TimeDistributed(Conv2D(128, (3, 3), activation='relu'))(cnn)\n",
        "cnn = TimeDistributed(MaxPooling2D((2, 2)))(cnn)\n",
        "cnn = TimeDistributed(Flatten())(cnn)\n",
        "\n",
        "# LSTM\n",
        "lstm = LSTM(256, return_sequences=False)(cnn)\n",
        "\n",
        "# Fully Connected\n",
        "dense = Dense(512, activation='relu')(lstm)\n",
        "outputs = Dense(num_classes, activation='softmax')(dense)\n",
        "\n",
        "# Model\n",
        "model = Model(inputs, outputs)\n",
        "\n",
        "# Compile\n",
        "model.compile(optimizer=Adam(), loss='categorical_crossentropy', metrics=['accuracy'])\n",
        "\n",
        "# Summary\n",
        "model.summary()\n",
        "\n",
        "# Prepare data for training\n",
        "# X = np.expand_dims(X, axis=0)  # Add batch dimension\n",
        "\n",
        "\n",
        "X_train, X_val, y_train, y_val = train_test_split(X, y, test_size=0.2, random_state=42)\n",
        "\n",
        "# Train the model\n",
        "history = model.fit(X_train, y_train, validation_data=(X_val, y_val), epochs=epochs, batch_size=batch_size)\n",
        "\n",
        "# Evaluate the model\n",
        "loss, accuracy = model.evaluate(X_val, y_val)\n",
        "print(f\"Validation Loss: {loss}\")\n",
        "print(f\"Validation Accuracy: {accuracy}\")\n",
        "\n"
      ],
      "execution_count": null,
      "outputs": [
        {
          "output_type": "stream",
          "name": "stdout",
          "text": [
            "Model: \"model\"\n",
            "_________________________________________________________________\n",
            " Layer (type)                Output Shape              Param #   \n",
            "=================================================================\n",
            " input_1 (InputLayer)        [(None, None, 120, 160,   0         \n",
            "                              3)]                                \n",
            "                                                                 \n",
            " time_distributed (TimeDist  (None, None, 118, 158,    896       \n",
            " ributed)                    32)                                 \n",
            "                                                                 \n",
            " time_distributed_1 (TimeDi  (None, None, 59, 79, 32   0         \n",
            " stributed)                  )                                   \n",
            "                                                                 \n",
            " time_distributed_2 (TimeDi  (None, None, 57, 77, 64   18496     \n",
            " stributed)                  )                                   \n",
            "                                                                 \n",
            " time_distributed_3 (TimeDi  (None, None, 28, 38, 64   0         \n",
            " stributed)                  )                                   \n",
            "                                                                 \n",
            " time_distributed_4 (TimeDi  (None, None, 26, 36, 12   73856     \n",
            " stributed)                  8)                                  \n",
            "                                                                 \n",
            " time_distributed_5 (TimeDi  (None, None, 13, 18, 12   0         \n",
            " stributed)                  8)                                  \n",
            "                                                                 \n",
            " time_distributed_6 (TimeDi  (None, None, 29952)       0         \n",
            " stributed)                                                      \n",
            "                                                                 \n",
            " lstm (LSTM)                 (None, 256)               30934016  \n",
            "                                                                 \n",
            " dense (Dense)               (None, 512)               131584    \n",
            "                                                                 \n",
            " dense_1 (Dense)             (None, 6)                 3078      \n",
            "                                                                 \n",
            "=================================================================\n",
            "Total params: 31161926 (118.87 MB)\n",
            "Trainable params: 31161926 (118.87 MB)\n",
            "Non-trainable params: 0 (0.00 Byte)\n",
            "_________________________________________________________________\n",
            "Epoch 1/10\n",
            "24/24 [==============================] - 43s 1s/step - loss: 1.8523 - accuracy: 0.1488 - val_loss: 1.8240 - val_accuracy: 0.1354\n",
            "Epoch 2/10\n",
            "24/24 [==============================] - 14s 579ms/step - loss: 1.8278 - accuracy: 0.1645 - val_loss: 1.8052 - val_accuracy: 0.1458\n",
            "Epoch 3/10\n",
            "24/24 [==============================] - 14s 582ms/step - loss: 1.8423 - accuracy: 0.1462 - val_loss: 1.8740 - val_accuracy: 0.1458\n",
            "Epoch 4/10\n",
            "24/24 [==============================] - 14s 583ms/step - loss: 1.8297 - accuracy: 0.1540 - val_loss: 1.9137 - val_accuracy: 0.1354\n",
            "Epoch 5/10\n",
            "24/24 [==============================] - 14s 590ms/step - loss: 1.8218 - accuracy: 0.1671 - val_loss: 1.8415 - val_accuracy: 0.1250\n",
            "Epoch 6/10\n",
            "24/24 [==============================] - 15s 617ms/step - loss: 1.8174 - accuracy: 0.1488 - val_loss: 1.8276 - val_accuracy: 0.2292\n",
            "Epoch 7/10\n",
            "24/24 [==============================] - 14s 593ms/step - loss: 1.8356 - accuracy: 0.1540 - val_loss: 1.8199 - val_accuracy: 0.1354\n",
            "Epoch 8/10\n",
            "24/24 [==============================] - 14s 588ms/step - loss: 1.8113 - accuracy: 0.1932 - val_loss: 1.7967 - val_accuracy: 0.1458\n",
            "Epoch 9/10\n",
            "24/24 [==============================] - 15s 608ms/step - loss: 1.8250 - accuracy: 0.1201 - val_loss: 1.8277 - val_accuracy: 0.1354\n",
            "Epoch 10/10\n",
            "24/24 [==============================] - 14s 586ms/step - loss: 1.8122 - accuracy: 0.1723 - val_loss: 1.8515 - val_accuracy: 0.1354\n",
            "3/3 [==============================] - 8s 235ms/step - loss: 1.8515 - accuracy: 0.1354\n",
            "Validation Loss: 1.8514633178710938\n",
            "Validation Accuracy: 0.1354166716337204\n"
          ]
        }
      ]
    },
    {
      "cell_type": "markdown",
      "metadata": {
        "id": "uuIG5DHUOAkm"
      },
      "source": [
        "### Use pre-trained model for feature extraction (3 points)\n",
        "\n",
        "To create a deep learning network for video classification:\n",
        "\n",
        "* Convert videos to sequences of feature vectors using a pretrained convolutional neural network, such as VGG16, to extract features from each frame.\n",
        "\n",
        "* Train an LSTM network on the sequences to predict the video labels.\n",
        "\n",
        "* Assemble a network that classifies videos directly by combining layers from both networks.\n",
        "\n",
        "Hint: [VGG-16 CNN and LSTM](https://riptutorial.com/keras/example/29812/vgg-16-cnn-and-lstm-for-video-classification)"
      ]
    },
    {
      "cell_type": "markdown",
      "metadata": {
        "id": "wqCpO1LO_4S1"
      },
      "source": [
        "#### Load and fine-tune the pre-trained model"
      ]
    },
    {
      "cell_type": "code",
      "metadata": {
        "id": "QhFb7AeA_2rg"
      },
      "source": [
        "# YOUR CODE HERE"
      ],
      "execution_count": null,
      "outputs": []
    },
    {
      "cell_type": "markdown",
      "metadata": {
        "id": "UBMJM0U9_00u"
      },
      "source": [
        "#### Setup the parameters and train the model with epochs, batch wise\n",
        "\n",
        "* Use train data to fit the model and test data for validation\n",
        "* Configure batch size and epochs\n",
        "* Plot the loss of train and test data"
      ]
    },
    {
      "cell_type": "code",
      "metadata": {
        "id": "YpJlYHcIBuyk"
      },
      "source": [
        "# YOUR CODE HERE"
      ],
      "execution_count": null,
      "outputs": []
    },
    {
      "cell_type": "markdown",
      "metadata": {
        "id": "owOW-XyZb792"
      },
      "source": [
        "### Report Analysis\n",
        "\n",
        "* Discuss on FPS, Number of frames and duration of each video\n",
        "* Analyze the impact of the LSTM, GRU and TimeDistributed layers\n",
        "* Discuss about the model convergence using pre-trained and ConvNet\n",
        "* *Additional Reading*: Read and discuss about the use of Conv3D in video classification"
      ]
    }
  ]
}