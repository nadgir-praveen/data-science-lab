{
  "nbformat": 4,
  "nbformat_minor": 5,
  "metadata": {
    "colab": {
      "provenance": [],
      "gpuType": "T4",
      "include_colab_link": true
    },
    "kernelspec": {
      "display_name": "Python 3",
      "name": "python3"
    },
    "language_info": {
      "codemirror_mode": {
        "name": "ipython",
        "version": 3
      },
      "file_extension": ".py",
      "mimetype": "text/x-python",
      "name": "python",
      "nbconvert_exporter": "python",
      "pygments_lexer": "ipython3",
      "version": "3.6.7rc1"
    },
    "accelerator": "GPU"
  },
  "cells": [
    {
      "cell_type": "markdown",
      "metadata": {
        "id": "view-in-github",
        "colab_type": "text"
      },
      "source": [
        "<a href=\"https://colab.research.google.com/github/nadgir-praveen/data-science-lab/blob/main/mini_projects/PN_M3_NB_MiniProject_01_MLR_MPI_OpenMP.ipynb\" target=\"_parent\"><img src=\"https://colab.research.google.com/assets/colab-badge.svg\" alt=\"Open In Colab\"/></a>"
      ]
    },
    {
      "cell_type": "markdown",
      "metadata": {
        "id": "heated-queens"
      },
      "source": [
        "# Advanced Certification Program in Computational Data Science\n",
        "## A program by IISc and TalentSprint\n",
        "### Mini-Project: Implementation of Multiple Linear Regression using MPI and OpenMP"
      ],
      "id": "heated-queens"
    },
    {
      "cell_type": "markdown",
      "metadata": {
        "id": "military-proportion"
      },
      "source": [
        "## Learning Objectives"
      ],
      "id": "military-proportion"
    },
    {
      "cell_type": "markdown",
      "metadata": {
        "id": "durable-grounds"
      },
      "source": [
        "At the end of the mini-project, you will be able to :\n",
        "\n",
        "* understand the collective communication operations like scatter, gather, broadcast\n",
        "* understand the blocking and non-blocking communication\n",
        "* implement multiple linear regression and run it using MPI\n",
        "* implement the multiple linear regression based predictions using OpenMP"
      ],
      "id": "durable-grounds"
    },
    {
      "cell_type": "markdown",
      "metadata": {
        "id": "growing-queens"
      },
      "source": [
        "### Dataset"
      ],
      "id": "growing-queens"
    },
    {
      "cell_type": "markdown",
      "metadata": {
        "id": "yLwz-D_xVT8o"
      },
      "source": [
        "The dataset chosen for this mini-project is [Combined Cycle Power Plant](https://archive.ics.uci.edu/ml/datasets/combined+cycle+power+plant). The dataset is made up of 9568 records and 5 columns. Each record contains the values for Ambient Temperature, Exhaust Vaccum, Ambient Pressure, Relative Humidity and Energy Output.\n",
        "\n",
        "Predicting full load electrical power output of a base load power plant is important in order to maximize the profit from the available megawatt hours.  The base load operation of a power plant is influenced by four main parameters, which are used as input variables in the dataset, such as ambient temperature, atmospheric pressure, relative humidity, and exhaust steam pressure. These parameters affect electrical power output, which is considered as the target variable.\n",
        "\n",
        "**Note:** The data was collected over a six year period (2006-11)."
      ],
      "id": "yLwz-D_xVT8o"
    },
    {
      "cell_type": "markdown",
      "metadata": {
        "id": "dominant-residence"
      },
      "source": [
        "## Information"
      ],
      "id": "dominant-residence"
    },
    {
      "cell_type": "markdown",
      "metadata": {
        "id": "coated-timing"
      },
      "source": [
        "#### MPI in a Nutshell\n",
        "\n",
        "MPI stands for \"Message Passing Interface\". It is a library of functions (in C / Python) or subroutines (in Fortran) that you insert into source code to perform data communication between processes. MPI was developed over two years of discussions led by the MPI Forum, a group of roughly sixty people representing some forty organizations.\n",
        "\n",
        "To know more about MPI click [here](https://hpc-tutorials.llnl.gov/mpi/)\n",
        "\n",
        "\n",
        "#### Multiple Linear Regression\n",
        "\n",
        "Multiple regression is an extension of simple linear regression. It is used when we want to predict the value of a variable based on the value of two or more other variables. The variable we want to predict is called the dependent variable (or sometimes, the outcome, target or criterion variable). The variables we are using to predict the value of the dependent variable are called the independent variables (or sometimes, the predictor, explanatory or regressor variables)."
      ],
      "id": "coated-timing"
    },
    {
      "cell_type": "markdown",
      "metadata": {
        "id": "global-savings"
      },
      "source": [
        "**Note:** We will be using the mpi4py Python package for MPI based code implementation"
      ],
      "id": "global-savings"
    },
    {
      "cell_type": "markdown",
      "metadata": {
        "id": "ndQNKsjS7c04"
      },
      "source": [
        "## Grading = 20 Points"
      ],
      "id": "ndQNKsjS7c04"
    },
    {
      "cell_type": "markdown",
      "metadata": {
        "id": "green-deviation"
      },
      "source": [
        "**Run the below code to install mpi4py package**"
      ],
      "id": "green-deviation"
    },
    {
      "cell_type": "code",
      "metadata": {
        "id": "designing-marketing",
        "scrolled": true,
        "colab": {
          "base_uri": "https://localhost:8080/"
        },
        "outputId": "2f325cdd-43ab-4815-c64a-0fd65e79f403"
      },
      "source": [
        "!pip install mpi4py"
      ],
      "id": "designing-marketing",
      "execution_count": null,
      "outputs": [
        {
          "output_type": "stream",
          "name": "stdout",
          "text": [
            "Collecting mpi4py\n",
            "  Downloading mpi4py-3.1.5.tar.gz (2.5 MB)\n",
            "\u001b[2K     \u001b[90m━━━━━━━━━━━━━━━━━━━━━━━━━━━━━━━━━━━━━━━━\u001b[0m \u001b[32m2.5/2.5 MB\u001b[0m \u001b[31m12.5 MB/s\u001b[0m eta \u001b[36m0:00:00\u001b[0m\n",
            "\u001b[?25h  Installing build dependencies ... \u001b[?25l\u001b[?25hdone\n",
            "  Getting requirements to build wheel ... \u001b[?25l\u001b[?25hdone\n",
            "  Preparing metadata (pyproject.toml) ... \u001b[?25l\u001b[?25hdone\n",
            "Building wheels for collected packages: mpi4py\n",
            "  Building wheel for mpi4py (pyproject.toml) ... \u001b[?25l\u001b[?25hdone\n",
            "  Created wheel for mpi4py: filename=mpi4py-3.1.5-cp310-cp310-linux_x86_64.whl size=2746513 sha256=3349c7f57d6fa18acf2b58d1cdc26d9bfb87f09c5d437ff9f0706d3b1fafd069\n",
            "  Stored in directory: /root/.cache/pip/wheels/18/2b/7f/c852523089e9182b45fca50ff56f49a51eeb6284fd25a66713\n",
            "Successfully built mpi4py\n",
            "Installing collected packages: mpi4py\n",
            "Successfully installed mpi4py-3.1.5\n"
          ]
        }
      ]
    },
    {
      "cell_type": "markdown",
      "metadata": {
        "id": "dedicated-thong"
      },
      "source": [
        "#### Importing Necessary Packages"
      ],
      "id": "dedicated-thong"
    },
    {
      "cell_type": "code",
      "metadata": {
        "id": "reported-acrobat",
        "scrolled": true
      },
      "source": [
        "# Importing pandas\n",
        "import pandas as pd\n",
        "# Importing Numpy\n",
        "import numpy as np\n",
        "# Importing MPI from mpi4py package\n",
        "from mpi4py import MPI\n",
        "# Importing sqrt function from the Math\n",
        "from math import sqrt\n",
        "# Importing Decimal, ROUND_HALF_UP functions from the decimal package\n",
        "from decimal import Decimal, ROUND_HALF_UP\n",
        "import time"
      ],
      "id": "reported-acrobat",
      "execution_count": null,
      "outputs": []
    },
    {
      "cell_type": "markdown",
      "metadata": {
        "id": "standing-zimbabwe"
      },
      "source": [
        "#### Downloading the data"
      ],
      "id": "standing-zimbabwe"
    },
    {
      "cell_type": "code",
      "metadata": {
        "id": "universal-jonathan",
        "scrolled": true,
        "cellView": "form"
      },
      "source": [
        "#@title Download the data\n",
        "!wget -qq https://cdn.iisc.talentsprint.com/CDS/Datasets/PowerPlantData.csv"
      ],
      "id": "universal-jonathan",
      "execution_count": null,
      "outputs": []
    },
    {
      "cell_type": "markdown",
      "metadata": {
        "id": "forty-still"
      },
      "source": [
        "### Overview\n",
        "\n",
        "* Load the data and perform data pre-processing\n",
        "* Identify the features, target and split the data into train and test\n",
        "* Implement multiple Linear Regression by estimating the coefficients on the given data\n",
        "* Use MPI package to distribute the data and implement `communicator`\n",
        "* Define functions for each objective and make a script (.py) file to execute using MPI command\n",
        "* Use OpenMP component to predict the data and calculate the error on the predicted data\n",
        "* Implement the Linear Regression from `sklearn` and compare the results"
      ],
      "id": "forty-still"
    },
    {
      "cell_type": "markdown",
      "metadata": {
        "id": "early-peace"
      },
      "source": [
        "#### Exercise 1: Load data (1 point)\n",
        "\n",
        "Write a function that takes the filename as input and loads the data in a pandas dataframe with the column names as Ambient Temperature, Exhaust Vaccum, Ambient Pressure, Relative Humidity and Energy Output respectively.\n",
        "\n",
        "**Hint:** read_csv()\n"
      ],
      "id": "early-peace"
    },
    {
      "cell_type": "code",
      "metadata": {
        "id": "differential-vacation",
        "scrolled": true
      },
      "source": [
        "FILENAME = \"/content/PowerPlantData.csv\" # File path\n",
        "\n",
        "# YOUR CODE HERE to Define a function to load the data\n",
        "def load_data(file_name):\n",
        "    df = pd.read_csv(file_name)\n",
        "    return df"
      ],
      "id": "differential-vacation",
      "execution_count": null,
      "outputs": []
    },
    {
      "cell_type": "code",
      "source": [
        "df = load_data(FILENAME)\n",
        "df.sample(5)\n",
        "df.info()"
      ],
      "metadata": {
        "colab": {
          "base_uri": "https://localhost:8080/"
        },
        "id": "-gva3sOUMYA9",
        "outputId": "83e458cb-17ab-45cc-b4e6-cb197d529ba8"
      },
      "id": "-gva3sOUMYA9",
      "execution_count": null,
      "outputs": [
        {
          "output_type": "stream",
          "name": "stdout",
          "text": [
            "<class 'pandas.core.frame.DataFrame'>\n",
            "RangeIndex: 9568 entries, 0 to 9567\n",
            "Data columns (total 5 columns):\n",
            " #   Column  Non-Null Count  Dtype  \n",
            "---  ------  --------------  -----  \n",
            " 0   AT      9568 non-null   float64\n",
            " 1   V       9568 non-null   float64\n",
            " 2   AP      9568 non-null   float64\n",
            " 3   RH      9568 non-null   float64\n",
            " 4   PE      9568 non-null   float64\n",
            "dtypes: float64(5)\n",
            "memory usage: 373.9 KB\n"
          ]
        }
      ]
    },
    {
      "cell_type": "markdown",
      "metadata": {
        "id": "italian-expense"
      },
      "source": [
        "#### Exercise 2: Explore data (1 point)\n",
        "\n",
        "Write a function that takes the data loaded using the above defined function as input and explore it.\n",
        "\n",
        "**Hint:** You can define and check for following things in the dataset inside a function\n",
        "\n",
        "- checking for the number of rows and columns\n",
        "- summary of the dataset\n",
        "- check for the null values\n",
        "- check for the duplicate values"
      ],
      "id": "italian-expense"
    },
    {
      "cell_type": "code",
      "metadata": {
        "id": "local-quarter",
        "scrolled": true
      },
      "source": [
        "# YOUR CODE HERE\n",
        "def process(df):\n",
        "    print(f'data set size is(rows, columns): {df.shape}')\n",
        "    if df.shape[0] == 0 or df.shape[1] == 0:\n",
        "        return 'dataframe does not contain any info'\n",
        "    print('\\n data set properties: \\n')\n",
        "    print(df.describe())\n",
        "    cols_with_nulls = df.columns[df.isnull().any()].tolist()\n",
        "    if len(cols_with_nulls):\n",
        "        print('There are columns with null values')\n",
        "        # handle null values\n",
        "    cols_with_nans = df.columns[df.isna().any()].tolist()\n",
        "    if len(cols_with_nans):\n",
        "        print('There are columns with NAN values')\n",
        "        # handle NAN values\n",
        "    # check for duplicates\n",
        "    if df[df.duplicated()].shape[0] > 1:\n",
        "        print(f'there are {df[df.duplicated()].shape[0]} duplicate rows, dropping')\n",
        "        df.drop_duplicates(inplace=True, ignore_index=True)\n",
        "    return df\n"
      ],
      "id": "local-quarter",
      "execution_count": null,
      "outputs": []
    },
    {
      "cell_type": "code",
      "source": [
        "df = load_data(FILENAME)\n",
        "df = process(df)"
      ],
      "metadata": {
        "colab": {
          "base_uri": "https://localhost:8080/"
        },
        "id": "LfAypzQp84Iv",
        "outputId": "90bc729e-060c-4f7d-9b72-45f92045a10f"
      },
      "id": "LfAypzQp84Iv",
      "execution_count": null,
      "outputs": [
        {
          "output_type": "stream",
          "name": "stdout",
          "text": [
            "data set size is(rows, columns): (9568, 5)\n",
            "\n",
            " data set properties: \n",
            "\n",
            "                AT            V           AP           RH           PE\n",
            "count  9568.000000  9568.000000  9568.000000  9568.000000  9568.000000\n",
            "mean     19.651231    54.305804  1013.259078    73.308978   454.365009\n",
            "std       7.452473    12.707893     5.938784    14.600269    17.066995\n",
            "min       1.810000    25.360000   992.890000    25.560000   420.260000\n",
            "25%      13.510000    41.740000  1009.100000    63.327500   439.750000\n",
            "50%      20.345000    52.080000  1012.940000    74.975000   451.550000\n",
            "75%      25.720000    66.540000  1017.260000    84.830000   468.430000\n",
            "max      37.110000    81.560000  1033.300000   100.160000   495.760000\n",
            "there are 41 duplicate rows, dropping\n"
          ]
        }
      ]
    },
    {
      "cell_type": "markdown",
      "metadata": {
        "id": "whole-retailer"
      },
      "source": [
        "#### Exercise 3: Handle missing data (1 point)\n",
        "\n",
        "After exploring the dataset if there are any null values present in the dataset then define a function that takes data loaded using the above defined function as input and handle the null values accordingly.\n",
        "\n",
        "**Hint:**\n",
        "\n",
        "- Drop the records containing the null values - dropna()\n",
        "- Replace the null values with the mean/median/mode - fillna()"
      ],
      "id": "whole-retailer"
    },
    {
      "cell_type": "code",
      "metadata": {
        "id": "incorporated-child",
        "scrolled": true
      },
      "source": [
        "# Function to handle missing data\n",
        "\n",
        "# YOUR CODE HERE"
      ],
      "id": "incorporated-child",
      "execution_count": null,
      "outputs": []
    },
    {
      "cell_type": "markdown",
      "metadata": {
        "id": "loaded-arbitration"
      },
      "source": [
        "#### Exercise 4: Scale the data (1 point)\n",
        "\n",
        "Write a function that takes the data after handling the missing data as input and returns the standardized data.\n",
        "\n",
        "**Hint:**\n",
        "\n",
        "- standardization of the data  can be performed using the below formula\n",
        "\n",
        "$ (x - mean(x)) / std(x) $"
      ],
      "id": "loaded-arbitration"
    },
    {
      "cell_type": "code",
      "metadata": {
        "id": "extraordinary-qatar",
        "scrolled": true
      },
      "source": [
        "# Defining a function to standardize the data\n",
        "# YOUR CODE HERE\n",
        "\n",
        "def standardize_data(df, cols):\n",
        "    for c in cols:\n",
        "        print(f'column: {c}, Mean: {df[c].mean()}, std: {df[c].std()}')\n",
        "        df[c] = df[c] - df[c].mean()/df[c].std()\n",
        "    return df\n"
      ],
      "id": "extraordinary-qatar",
      "execution_count": null,
      "outputs": []
    },
    {
      "cell_type": "code",
      "source": [
        "df = load_data(FILENAME)\n",
        "df = process(df)\n",
        "df = standardize_data(df, ['AT', 'V', 'AP', 'RH'])"
      ],
      "metadata": {
        "colab": {
          "base_uri": "https://localhost:8080/"
        },
        "id": "H9LdkuR09hkf",
        "outputId": "f0bee23e-e6f5-4ddc-c85d-b6297b3262b9"
      },
      "id": "H9LdkuR09hkf",
      "execution_count": null,
      "outputs": [
        {
          "output_type": "stream",
          "name": "stdout",
          "text": [
            "data set size is(rows, columns): (9568, 5)\n",
            "\n",
            " data set properties: \n",
            "\n",
            "                AT            V           AP           RH           PE\n",
            "count  9568.000000  9568.000000  9568.000000  9568.000000  9568.000000\n",
            "mean     19.651231    54.305804  1013.259078    73.308978   454.365009\n",
            "std       7.452473    12.707893     5.938784    14.600269    17.066995\n",
            "min       1.810000    25.360000   992.890000    25.560000   420.260000\n",
            "25%      13.510000    41.740000  1009.100000    63.327500   439.750000\n",
            "50%      20.345000    52.080000  1012.940000    74.975000   451.550000\n",
            "75%      25.720000    66.540000  1017.260000    84.830000   468.430000\n",
            "max      37.110000    81.560000  1033.300000   100.160000   495.760000\n",
            "there are 41 duplicate rows, dropping\n",
            "column: AT, Mean: 19.658225044610052, std: 7.444397078136742\n",
            "column: V, Mean: 54.29342080403065, std: 12.686309009374435\n",
            "column: AP, Mean: 1013.2370840768342, std: 5.9405260647572895\n",
            "column: RH, Mean: 73.33495119135091, std: 14.60751325291208\n"
          ]
        }
      ]
    },
    {
      "cell_type": "markdown",
      "metadata": {
        "id": "thermal-rehabilitation"
      },
      "source": [
        "#### Exercise 5: Feature selection (1 point)\n",
        "\n",
        "Write a function that takes scaled data as input and returns the features and target variable values\n",
        "\n",
        "**Hint:**\n",
        "\n",
        "- Features: AmbientTemperature, ExhaustVaccum, AmbientPressure, RelativeHumidity\n",
        "- Target Variable: EnergyOutput"
      ],
      "id": "thermal-rehabilitation"
    },
    {
      "cell_type": "code",
      "metadata": {
        "id": "terminal-starter",
        "scrolled": true
      },
      "source": [
        "# Define a function\n",
        "# YOUR CODE HERE\n",
        "\n",
        "def get_features_target(df):\n",
        "    return df[['AT', 'V', 'AP', 'RH']].values, df[['PE']].values\n"
      ],
      "id": "terminal-starter",
      "execution_count": null,
      "outputs": []
    },
    {
      "cell_type": "code",
      "source": [
        "df = load_data(FILENAME)\n",
        "df = process(df)\n",
        "df = standardize_data(df, ['AT', 'V', 'AP', 'RH', 'PE'])\n",
        "features, target = get_features_target(df)"
      ],
      "metadata": {
        "colab": {
          "base_uri": "https://localhost:8080/"
        },
        "id": "taefz6Ub-oo9",
        "outputId": "f2fdb8b3-c218-4e2c-f512-36130dce742c"
      },
      "id": "taefz6Ub-oo9",
      "execution_count": null,
      "outputs": [
        {
          "output_type": "stream",
          "name": "stdout",
          "text": [
            "data set size is(rows, columns): (9568, 5)\n",
            "\n",
            " data set properties: \n",
            "\n",
            "                AT            V           AP           RH           PE\n",
            "count  9568.000000  9568.000000  9568.000000  9568.000000  9568.000000\n",
            "mean     19.651231    54.305804  1013.259078    73.308978   454.365009\n",
            "std       7.452473    12.707893     5.938784    14.600269    17.066995\n",
            "min       1.810000    25.360000   992.890000    25.560000   420.260000\n",
            "25%      13.510000    41.740000  1009.100000    63.327500   439.750000\n",
            "50%      20.345000    52.080000  1012.940000    74.975000   451.550000\n",
            "75%      25.720000    66.540000  1017.260000    84.830000   468.430000\n",
            "max      37.110000    81.560000  1033.300000   100.160000   495.760000\n",
            "there are 41 duplicate rows, dropping\n",
            "column: AT, Mean: 19.658225044610052, std: 7.444397078136742\n",
            "column: V, Mean: 54.29342080403065, std: 12.686309009374435\n",
            "column: AP, Mean: 1013.2370840768342, std: 5.9405260647572895\n",
            "column: RH, Mean: 73.33495119135091, std: 14.60751325291208\n",
            "column: PE, Mean: 454.3359095203107, std: 17.039080412855856\n"
          ]
        }
      ]
    },
    {
      "cell_type": "markdown",
      "metadata": {
        "id": "timely-bruce"
      },
      "source": [
        "#### Exercise 6: Correlation (1 point)\n",
        "\n",
        "Calculate correlation between the variables"
      ],
      "id": "timely-bruce"
    },
    {
      "cell_type": "code",
      "metadata": {
        "id": "durable-making",
        "scrolled": true,
        "colab": {
          "base_uri": "https://localhost:8080/",
          "height": 557
        },
        "outputId": "b618a89e-2343-4c71-c9b2-302953305983"
      },
      "source": [
        "# YOUR CODE HERE\n",
        "import seaborn as sns\n",
        "corr = df.corr()\n",
        "print(corr)\n",
        "\n",
        "\n",
        "sns.heatmap(df.corr(), annot=True)"
      ],
      "id": "durable-making",
      "execution_count": null,
      "outputs": [
        {
          "output_type": "stream",
          "name": "stdout",
          "text": [
            "          AT         V        AP        RH        PE\n",
            "AT  1.000000  0.843689 -0.508222 -0.543947 -0.947908\n",
            "V   0.843689  1.000000 -0.415718 -0.312214 -0.869900\n",
            "AP -0.508222 -0.415718  1.000000  0.101631  0.518687\n",
            "RH -0.543947 -0.312214  0.101631  1.000000  0.391175\n",
            "PE -0.947908 -0.869900  0.518687  0.391175  1.000000\n"
          ]
        },
        {
          "output_type": "execute_result",
          "data": {
            "text/plain": [
              "<Axes: >"
            ]
          },
          "metadata": {},
          "execution_count": 13
        },
        {
          "output_type": "display_data",
          "data": {
            "text/plain": [
              "<Figure size 640x480 with 2 Axes>"
            ],
            "image/png": "[encoded data removed]"
          },
          "metadata": {}
        }
      ]
    },
    {
      "cell_type": "markdown",
      "metadata": {
        "id": "honest-remainder"
      },
      "source": [
        "#### Exercise 7: Estimate the coefficients (2 points)\n",
        "\n",
        "Write a function that takes features and target as input and returns the estimated coefficient values\n",
        "\n",
        "**Hint:**\n",
        "\n",
        "- Calculate the estimated coefficients using the below formula\n",
        "\n",
        "$ β = (X^T X)^{-1} X^T y $\n",
        "\n",
        "- transpose(), np.linalg.inv()"
      ],
      "id": "honest-remainder"
    },
    {
      "cell_type": "code",
      "metadata": {
        "id": "dimensional-victory",
        "scrolled": true,
        "colab": {
          "base_uri": "https://localhost:8080/"
        },
        "outputId": "8970b519-9138-47b8-bf7a-590d1cd9e4fa"
      },
      "source": [
        "# Calculating the coeffients\n",
        "\n",
        "# YOUR CODE HERE\n",
        "\n",
        "def coefficients(X, y):\n",
        "    return np.linalg.inv(X.T.dot(X)).dot(X.T).dot(y)\n",
        "\n",
        "\n",
        "print(coefficients(features, target))"
      ],
      "id": "dimensional-victory",
      "execution_count": null,
      "outputs": [
        {
          "output_type": "stream",
          "name": "stdout",
          "text": [
            "[[-1.6334648 ]\n",
            " [-0.27796428]\n",
            " [ 0.56433398]\n",
            " [-0.09064591]]\n"
          ]
        }
      ]
    },
    {
      "cell_type": "markdown",
      "metadata": {
        "id": "interior-bennett"
      },
      "source": [
        "#### Exercise 8: Fit the data to estimate the coefficients (2 points)\n",
        "\n",
        "Write a function named fit which takes features and targets as input and returns the intercept and coefficient values.\n",
        "\n",
        "**Hint:**\n",
        "\n",
        "- create a dummy column in the features dataframe which is made up of all ones\n",
        "- convert the features dataframe into numpy array\n",
        "- call the estimated coefficients function which is defined above\n",
        "- np.ones(), np.concatenate()"
      ],
      "id": "interior-bennett"
    },
    {
      "cell_type": "code",
      "metadata": {
        "id": "local-texas",
        "scrolled": true
      },
      "source": [
        "# defining a fit function\n",
        "def fit(x, y):\n",
        "    # Add a column of ones to features for the intercept term\n",
        "    X = np.column_stack((np.ones(len(x)), x))\n",
        "\n",
        "    # Compute beta using the least squares formula\n",
        "    beta = np.linalg.inv(X.T.dot(X)).dot(X.T).dot(y)\n",
        "\n",
        "    # Extract the intercept and coefficients\n",
        "    intercept = beta[0]\n",
        "    coefficients = beta[1:]\n",
        "    print(f'\\n Intercept: {intercept}, \\n coeffcients: {coefficients}')\n",
        "    return intercept, coefficients"
      ],
      "id": "local-texas",
      "execution_count": null,
      "outputs": []
    },
    {
      "cell_type": "code",
      "source": [
        "df = load_data(FILENAME)\n",
        "df = process(df)\n",
        "df = standardize_data(df, ['AT', 'V', 'AP', 'RH', 'PE'])\n",
        "features, target = get_features_target(df)\n",
        "intercept, coeff = fit(features, target)\n"
      ],
      "metadata": {
        "colab": {
          "base_uri": "https://localhost:8080/"
        },
        "id": "tXI8_oKsIM9Q",
        "outputId": "adf399ad-9931-4296-e03f-d929a3e7fc71"
      },
      "id": "tXI8_oKsIM9Q",
      "execution_count": null,
      "outputs": [
        {
          "output_type": "stream",
          "name": "stdout",
          "text": [
            "data set size is(rows, columns): (9568, 5)\n",
            "\n",
            " data set properties: \n",
            "\n",
            "                AT            V           AP           RH           PE\n",
            "count  9568.000000  9568.000000  9568.000000  9568.000000  9568.000000\n",
            "mean     19.651231    54.305804  1013.259078    73.308978   454.365009\n",
            "std       7.452473    12.707893     5.938784    14.600269    17.066995\n",
            "min       1.810000    25.360000   992.890000    25.560000   420.260000\n",
            "25%      13.510000    41.740000  1009.100000    63.327500   439.750000\n",
            "50%      20.345000    52.080000  1012.940000    74.975000   451.550000\n",
            "75%      25.720000    66.540000  1017.260000    84.830000   468.430000\n",
            "max      37.110000    81.560000  1033.300000   100.160000   495.760000\n",
            "there are 41 duplicate rows, dropping\n",
            "column: AT, Mean: 19.658225044610052, std: 7.444397078136742\n",
            "column: V, Mean: 54.29342080403065, std: 12.686309009374435\n",
            "column: AP, Mean: 1013.2370840768342, std: 5.9405260647572895\n",
            "column: RH, Mean: 73.33495119135091, std: 14.60751325291208\n",
            "column: PE, Mean: 454.3359095203107, std: 17.039080412855856\n",
            "\n",
            " Intercept: [432.78167259], \n",
            " coeffcients: [[-1.97356576]\n",
            " [-0.23606015]\n",
            " [ 0.06055517]\n",
            " [-0.157314  ]]\n"
          ]
        }
      ]
    },
    {
      "cell_type": "markdown",
      "metadata": {
        "id": "hybrid-quick"
      },
      "source": [
        "#### Exercise 9: Predict the data on estimated coefficients (1 point)\n",
        "\n",
        "Write a function named predict which takes features, intercept and coefficient values as input and returns the predicted values.\n",
        "\n",
        "**Hint:**\n",
        "\n",
        "- Fit the intercept, coefficients values in the below equation\n",
        "\n",
        "  $y = b_0 + b_1*x + ... + b_i*x_i$"
      ],
      "id": "hybrid-quick"
    },
    {
      "cell_type": "code",
      "metadata": {
        "id": "buried-attention",
        "scrolled": true
      },
      "source": [
        " # fucntion to predict the values\n",
        "def predict(x, intercept, coefficients):\n",
        "    '''\n",
        "    y = b_0 + b_1*x + ... + b_i*x_i\n",
        "    '''\n",
        "    #YOUR CODE HERE\n",
        "    predictions = intercept+x.dot(coefficients)\n",
        "    return predictions\n"
      ],
      "id": "buried-attention",
      "execution_count": null,
      "outputs": []
    },
    {
      "cell_type": "code",
      "source": [
        "df = load_data(FILENAME)\n",
        "df = process(df)\n",
        "df = standardize_data(df, ['AT', 'V', 'AP', 'RH', 'PE'])\n",
        "features, target = get_features_target(df)\n",
        "intercept, coeff = fit(features, target)\n",
        "y_pred = predict(features, intercept, coeff)"
      ],
      "metadata": {
        "colab": {
          "base_uri": "https://localhost:8080/"
        },
        "id": "GvzIiU4EMgWA",
        "outputId": "b370265c-a55d-46ea-8d80-d64c08ab1f0f"
      },
      "id": "GvzIiU4EMgWA",
      "execution_count": null,
      "outputs": [
        {
          "output_type": "stream",
          "name": "stdout",
          "text": [
            "data set size is(rows, columns): (9568, 5)\n",
            "\n",
            " data set properties: \n",
            "\n",
            "                AT            V           AP           RH           PE\n",
            "count  9568.000000  9568.000000  9568.000000  9568.000000  9568.000000\n",
            "mean     19.651231    54.305804  1013.259078    73.308978   454.365009\n",
            "std       7.452473    12.707893     5.938784    14.600269    17.066995\n",
            "min       1.810000    25.360000   992.890000    25.560000   420.260000\n",
            "25%      13.510000    41.740000  1009.100000    63.327500   439.750000\n",
            "50%      20.345000    52.080000  1012.940000    74.975000   451.550000\n",
            "75%      25.720000    66.540000  1017.260000    84.830000   468.430000\n",
            "max      37.110000    81.560000  1033.300000   100.160000   495.760000\n",
            "there are 41 duplicate rows, dropping\n",
            "column: AT, Mean: 19.658225044610052, std: 7.444397078136742\n",
            "column: V, Mean: 54.29342080403065, std: 12.686309009374435\n",
            "column: AP, Mean: 1013.2370840768342, std: 5.9405260647572895\n",
            "column: RH, Mean: 73.33495119135091, std: 14.60751325291208\n",
            "column: PE, Mean: 454.3359095203107, std: 17.039080412855856\n",
            "\n",
            " Intercept: [432.78167259], \n",
            " coeffcients: [[-1.97356576]\n",
            " [-0.23606015]\n",
            " [ 0.06055517]\n",
            " [-0.157314  ]]\n"
          ]
        }
      ]
    },
    {
      "cell_type": "markdown",
      "metadata": {
        "id": "rolled-consultancy"
      },
      "source": [
        "#### Exercise 10: Root mean squared error (1 point)\n",
        "\n",
        "Write a function to calculate the RMSE error.\n",
        "\n",
        "**Hint:**\n",
        "\n",
        "- [How to calculate the RSME error](https://towardsdatascience.com/what-does-rmse-really-mean-806b65f2e48e)"
      ],
      "id": "rolled-consultancy"
    },
    {
      "cell_type": "code",
      "metadata": {
        "id": "phantom-alabama",
        "scrolled": true
      },
      "source": [
        "# Define a function to calculate the error\n",
        "\n",
        "# YOUR CODE HERE\n",
        "def rmse(targets, predictions):\n",
        "    # Calculate the Root Mean Squared Error (RMSE)\n",
        "    mse = np.mean((targets - predictions)**2)\n",
        "    rmse = np.sqrt(mse)\n",
        "    return rmse"
      ],
      "id": "phantom-alabama",
      "execution_count": null,
      "outputs": []
    },
    {
      "cell_type": "code",
      "source": [
        "df = load_data(FILENAME)\n",
        "df = process(df)\n",
        "df = standardize_data(df, ['AT', 'V', 'AP', 'RH', 'PE'])\n",
        "features, target = get_features_target(df)\n",
        "intercept, coeff = fit(features, target)\n",
        "y_pred = predict(features, intercept, coeff)\n",
        "rmse_values = rmse(target, y_pred)\n",
        "\n",
        "print(f'\\n average rmse: {rmse_values}')"
      ],
      "metadata": {
        "colab": {
          "base_uri": "https://localhost:8080/"
        },
        "id": "HFieKl53M9ej",
        "outputId": "5c941371-c2f5-4566-f528-c388971fa6fc"
      },
      "id": "HFieKl53M9ej",
      "execution_count": null,
      "outputs": [
        {
          "output_type": "stream",
          "name": "stdout",
          "text": [
            "data set size is(rows, columns): (9568, 5)\n",
            "\n",
            " data set properties: \n",
            "\n",
            "                AT            V           AP           RH           PE\n",
            "count  9568.000000  9568.000000  9568.000000  9568.000000  9568.000000\n",
            "mean     19.651231    54.305804  1013.259078    73.308978   454.365009\n",
            "std       7.452473    12.707893     5.938784    14.600269    17.066995\n",
            "min       1.810000    25.360000   992.890000    25.560000   420.260000\n",
            "25%      13.510000    41.740000  1009.100000    63.327500   439.750000\n",
            "50%      20.345000    52.080000  1012.940000    74.975000   451.550000\n",
            "75%      25.720000    66.540000  1017.260000    84.830000   468.430000\n",
            "max      37.110000    81.560000  1033.300000   100.160000   495.760000\n",
            "there are 41 duplicate rows, dropping\n",
            "column: AT, Mean: 19.658225044610052, std: 7.444397078136742\n",
            "column: V, Mean: 54.29342080403065, std: 12.686309009374435\n",
            "column: AP, Mean: 1013.2370840768342, std: 5.9405260647572895\n",
            "column: RH, Mean: 73.33495119135091, std: 14.60751325291208\n",
            "column: PE, Mean: 454.3359095203107, std: 17.039080412855856\n",
            "\n",
            " Intercept: [432.78167259], \n",
            " coeffcients: [[-1.97356576]\n",
            " [-0.23606015]\n",
            " [ 0.06055517]\n",
            " [-0.157314  ]]\n",
            "\n",
            " average rmse: 4.558387548061048\n"
          ]
        }
      ]
    },
    {
      "cell_type": "markdown",
      "metadata": {
        "id": "experimental-discrimination"
      },
      "source": [
        "#### Exercise 11: Split the data into train and test (1 point)\n",
        "\n",
        "Write a function named train_test_split which takes features and targets as input and returns the train and test sets respectively.\n",
        "\n",
        "**Hint:**\n",
        "\n",
        "- Shuffle the data\n",
        "- Consider 70 % of data as a train set and the rest of the data as a test set"
      ],
      "id": "experimental-discrimination"
    },
    {
      "cell_type": "code",
      "metadata": {
        "id": "dangerous-salmon",
        "scrolled": true
      },
      "source": [
        "# YOUR CODE HERE\n",
        "def train_test_split(features, targets, test_size=0.3, random_state=None):\n",
        "    # Set a random seed if specified\n",
        "    if random_state is not None:\n",
        "        np.random.seed(random_state)\n",
        "\n",
        "    # Shuffle the indices\n",
        "    indices = np.arange(len(features))\n",
        "    np.random.shuffle(indices)\n",
        "\n",
        "    # Calculate the number of samples for the test set\n",
        "    test_samples = int(len(features) * test_size)\n",
        "\n",
        "    # Split the data into training and testing sets\n",
        "    train_indices = indices[:-test_samples]\n",
        "    test_indices = indices[-test_samples:]\n",
        "\n",
        "    train_features = features[train_indices]\n",
        "    train_targets = targets[train_indices]\n",
        "    test_features = features[test_indices]\n",
        "    test_targets = targets[test_indices]\n",
        "\n",
        "    return train_features, test_features, train_targets, test_targets\n"
      ],
      "id": "dangerous-salmon",
      "execution_count": null,
      "outputs": []
    },
    {
      "cell_type": "code",
      "source": [
        "X_train, X_test, y_train, y_test = train_test_split(features, target, test_size=0.3, random_state=42)"
      ],
      "metadata": {
        "id": "HnplCzCoTnyj"
      },
      "id": "HnplCzCoTnyj",
      "execution_count": null,
      "outputs": []
    },
    {
      "cell_type": "markdown",
      "metadata": {
        "id": "living-operation"
      },
      "source": [
        "#### Exercise 12: Implement predict using OpenMP (1 point)\n",
        "\n",
        "Get the predictions for test data and calculate the test error(RMSE) by implementing the OpenMP (pymp)\n",
        "\n",
        "**Hints:**\n",
        "\n",
        "* Using the pymp.Parallel implement the predict function (use from above)\n",
        "\n",
        "* Call the predict function by passing test data as an argument\n",
        "\n",
        "* calculate the error (RMSE) by comparing the Actual test data and predicted test data"
      ],
      "id": "living-operation"
    },
    {
      "cell_type": "code",
      "source": [
        "!pip install pymp-pypi"
      ],
      "metadata": {
        "id": "1PndfF9b_mkN",
        "colab": {
          "base_uri": "https://localhost:8080/"
        },
        "outputId": "9cfb2884-7628-4935-b7a3-ff17a62f8f57"
      },
      "id": "1PndfF9b_mkN",
      "execution_count": null,
      "outputs": [
        {
          "output_type": "stream",
          "name": "stdout",
          "text": [
            "Collecting pymp-pypi\n",
            "  Downloading pymp-pypi-0.5.0.tar.gz (12 kB)\n",
            "  Preparing metadata (setup.py) ... \u001b[?25l\u001b[?25hdone\n",
            "Building wheels for collected packages: pymp-pypi\n",
            "  Building wheel for pymp-pypi (setup.py) ... \u001b[?25l\u001b[?25hdone\n",
            "  Created wheel for pymp-pypi: filename=pymp_pypi-0.5.0-py3-none-any.whl size=10318 sha256=e22268481c5d0520bd704848ca5df3d89d4a8045c2e998a6c2e05e40e5bf211e\n",
            "  Stored in directory: /root/.cache/pip/wheels/5e/db/4b/4c02f5b91b1abcde14433d1b336ac00a09761383e7bb1013cf\n",
            "Successfully built pymp-pypi\n",
            "Installing collected packages: pymp-pypi\n",
            "Successfully installed pymp-pypi-0.5.0\n"
          ]
        }
      ]
    },
    {
      "cell_type": "code",
      "source": [
        "import pymp\n",
        "# YOUR CODE HERE\n",
        "def parallel_predict(features, intercept, coefficients):\n",
        "    # Initialize a shared array to store the predicted values\n",
        "    predicted_values = pymp.shared.array(len(features), dtype='float64')\n",
        "    # Use pymp.Parallel for parallel execution\n",
        "    with pymp.Parallel() as p:\n",
        "        for i in p.range(len(features)):\n",
        "            predicted_values[i] = predict(features[i], intercept, coefficients)\n",
        "\n",
        "    return predicted_values"
      ],
      "metadata": {
        "id": "o8DSppnV_wQa"
      },
      "id": "o8DSppnV_wQa",
      "execution_count": null,
      "outputs": []
    },
    {
      "cell_type": "code",
      "source": [
        "def parallel_rmse(y_true, y_pred):\n",
        "  squared_errors = pymp.shared.array(len(y_true), dtype='float64')\n",
        "\n",
        "  with pymp.Parallel() as p2:\n",
        "    for i in p2.range(len(y_true)):\n",
        "      squared_errors[i] = (y_true[i] - y_pred[i]) ** 2\n",
        "\n",
        "  mean_squared_error = np.mean(squared_errors)\n",
        "  rmse = np.sqrt(mean_squared_error)\n",
        "  return rmse"
      ],
      "metadata": {
        "id": "alVmDnslGNAS"
      },
      "id": "alVmDnslGNAS",
      "execution_count": null,
      "outputs": []
    },
    {
      "cell_type": "code",
      "source": [
        "df = load_data(FILENAME)\n",
        "df = process(df)\n",
        "df = standardize_data(df, ['AT', 'V', 'AP', 'RH', 'PE'])\n",
        "features, target = get_features_target(df)\n",
        "intercept, coeff = fit(features, target)\n",
        "y_pred = predict(features, intercept, coeff)\n",
        "rmse_values = rmse(target, y_pred)\n",
        "print(f'\\n average rmse: {rmse_values}')\n",
        "\n",
        "y_pred_parallel = parallel_predict(features, intercept, coeff)\n",
        "rmse_values_parallel = parallel_rmse(target, y_pred_parallel)\n",
        "print(f'\\n average rmse - with parallel : {rmse_values_parallel}')"
      ],
      "metadata": {
        "colab": {
          "base_uri": "https://localhost:8080/"
        },
        "id": "atp2IgrYBjOG",
        "outputId": "104987c4-788e-4298-829c-718df488e579"
      },
      "id": "atp2IgrYBjOG",
      "execution_count": null,
      "outputs": [
        {
          "output_type": "stream",
          "name": "stdout",
          "text": [
            "data set size is(rows, columns): (9568, 5)\n",
            "\n",
            " data set properties: \n",
            "\n",
            "                AT            V           AP           RH           PE\n",
            "count  9568.000000  9568.000000  9568.000000  9568.000000  9568.000000\n",
            "mean     19.651231    54.305804  1013.259078    73.308978   454.365009\n",
            "std       7.452473    12.707893     5.938784    14.600269    17.066995\n",
            "min       1.810000    25.360000   992.890000    25.560000   420.260000\n",
            "25%      13.510000    41.740000  1009.100000    63.327500   439.750000\n",
            "50%      20.345000    52.080000  1012.940000    74.975000   451.550000\n",
            "75%      25.720000    66.540000  1017.260000    84.830000   468.430000\n",
            "max      37.110000    81.560000  1033.300000   100.160000   495.760000\n",
            "there are 41 duplicate rows, dropping\n",
            "column: AT, Mean: 19.658225044610052, std: 7.444397078136742\n",
            "column: V, Mean: 54.29342080403065, std: 12.686309009374435\n",
            "column: AP, Mean: 1013.2370840768342, std: 5.9405260647572895\n",
            "column: RH, Mean: 73.33495119135091, std: 14.60751325291208\n",
            "column: PE, Mean: 454.3359095203107, std: 17.039080412855856\n",
            "\n",
            " Intercept: [432.78167259], \n",
            " coeffcients: [[-1.97356576]\n",
            " [-0.23606015]\n",
            " [ 0.06055517]\n",
            " [-0.157314  ]]\n",
            "\n",
            " average rmse: 4.558387548061048\n"
          ]
        },
        {
          "output_type": "stream",
          "name": "stderr",
          "text": [
            "<ipython-input-24-71cb9daf4dd6>:10: DeprecationWarning: Conversion of an array with ndim > 0 to a scalar is deprecated, and will error in future. Ensure you extract a single element from your array before performing this operation. (Deprecated NumPy 1.25.)\n",
            "  predicted_values[i] = predict(features[i], intercept, coefficients)\n",
            "<ipython-input-24-71cb9daf4dd6>:10: DeprecationWarning: Conversion of an array with ndim > 0 to a scalar is deprecated, and will error in future. Ensure you extract a single element from your array before performing this operation. (Deprecated NumPy 1.25.)\n",
            "  predicted_values[i] = predict(features[i], intercept, coefficients)\n",
            "<ipython-input-25-5a5b932d6827>:6: DeprecationWarning: Conversion of an array with ndim > 0 to a scalar is deprecated, and will error in future. Ensure you extract a single element from your array before performing this operation. (Deprecated NumPy 1.25.)\n",
            "  squared_errors[i] = (y_true[i] - y_pred[i]) ** 2\n",
            "<ipython-input-25-5a5b932d6827>:6: DeprecationWarning: Conversion of an array with ndim > 0 to a scalar is deprecated, and will error in future. Ensure you extract a single element from your array before performing this operation. (Deprecated NumPy 1.25.)\n",
            "  squared_errors[i] = (y_true[i] - y_pred[i]) ** 2\n"
          ]
        },
        {
          "output_type": "stream",
          "name": "stdout",
          "text": [
            "\n",
            " average rmse - with parallel : 4.558387548061048\n"
          ]
        }
      ]
    },
    {
      "cell_type": "markdown",
      "metadata": {
        "id": "covered-canon"
      },
      "source": [
        "#### Exercise 13: Create a communicator (1 point)\n",
        "\n",
        "Create a comunicator and define the rank and size"
      ],
      "id": "covered-canon"
    },
    {
      "cell_type": "code",
      "metadata": {
        "id": "radio-origin",
        "scrolled": true
      },
      "source": [
        "# YOUR CODE HERE"
      ],
      "id": "radio-origin",
      "execution_count": null,
      "outputs": []
    },
    {
      "cell_type": "markdown",
      "metadata": {
        "id": "miniature-plaza"
      },
      "source": [
        "#### Exercise 14: Divide the data into slices (1 point)\n",
        "\n",
        "Write a function named dividing_data which takes train features set, train target set, and size of workers as inputs and returns the sliced data for each worker.\n",
        "\n",
        "![img](https://cdn.iisc.talentsprint.com/CDS/Images/MiniProject_MPI_DataSlice.JPG)\n",
        "\n",
        "For Example, if there are 4 processes, slice the data into 4 equal parts with 25% ratio\n",
        "\n",
        "**Hint:**\n",
        "\n",
        "- Divide the Data equally among the workers\n",
        "  - Create an empty list\n",
        "  - Iterate over the size of workers\n",
        "  - Append each slice of data to the list"
      ],
      "id": "miniature-plaza"
    },
    {
      "cell_type": "code",
      "metadata": {
        "id": "signal-medicaid",
        "scrolled": true
      },
      "source": [
        "def dividing_data(x_train, y_train, size_of_workers):\n",
        "    # Size of the slice\n",
        "    slice_for_each_worker = int(Decimal(x_train.shape[0]/size_of_workers).quantize(Decimal('1.'), rounding = ROUND_HALF_UP))\n",
        "    print('Slice of data for each worker: {}'.format(slice_for_each_worker))\n",
        "    # YOUR CODE HERE"
      ],
      "id": "signal-medicaid",
      "execution_count": null,
      "outputs": []
    },
    {
      "cell_type": "markdown",
      "metadata": {
        "id": "changing-conditioning"
      },
      "source": [
        "#### Exercise 15: Prepare the data in root worker to assign data for all the workers (1 point)\n",
        "\n",
        "- When it is the root worker, perform the below operation:\n",
        "    - Store the features and target values in separate variables\n",
        "    - Split the data into train and test sets using the train_test_split function defined above\n",
        "    - Divide the data among the workers using the dividing_data function above"
      ],
      "id": "changing-conditioning"
    },
    {
      "cell_type": "code",
      "metadata": {
        "id": "hybrid-tamil",
        "scrolled": true
      },
      "source": [
        "# YOUR CODE HERE"
      ],
      "id": "hybrid-tamil",
      "execution_count": null,
      "outputs": []
    },
    {
      "cell_type": "markdown",
      "metadata": {
        "id": "breathing-baking"
      },
      "source": [
        "#### Exercise 16: Scatter and gather the data (1 point)\n",
        "\n",
        "Perform the below operations:\n",
        "\n",
        "- Send slices of the training set(the features data X and the expected target data Y) to every worker including the root worker\n",
        "    - **Hint:** scatter()\n",
        "    - use `barrier()` to block workers until all workers in the group reach a Barrier, to scatter from root worker.\n",
        "- Every worker should get the predicted target Y(yhat) for each slice\n",
        "- Get the new coefficient of each instance in a slice\n",
        "    - **Hint:** fit function defined above\n",
        "- Gather the new coefficient from each worker\n",
        "    - **Hint:** gather()\n",
        "    - Take the mean of the gathered coefficients\n",
        "- Calculate the root mean square error for the test set\n",
        "\n",
        "To know more about `scatter`, `gather` and `barrier` click [here](https://nyu-cds.github.io/python-mpi/05-collectives/)"
      ],
      "id": "breathing-baking"
    },
    {
      "cell_type": "code",
      "metadata": {
        "id": "consistent-union",
        "scrolled": true
      },
      "source": [
        "# YOUR CODE HERE"
      ],
      "id": "consistent-union",
      "execution_count": null,
      "outputs": []
    },
    {
      "cell_type": "markdown",
      "metadata": {
        "id": "hired-uniform"
      },
      "source": [
        "#### Exercise 17: Make a script and execute everything in one place (1 point)\n",
        "\n",
        "Write a script(.py) file which contains the code of all the above exercises in it so that you can run the code on multiple processes using MPI.\n",
        "\n",
        "**Hint:**\n",
        "\n",
        "- magic commands\n",
        "- put MPI related code under main function\n",
        "- !mpirun --allow-run-as-root -np 4 python filename.py"
      ],
      "id": "hired-uniform"
    },
    {
      "cell_type": "code",
      "metadata": {
        "id": "motivated-national"
      },
      "source": [
        "# YOUR CODE HERE for scipt(.py)"
      ],
      "id": "motivated-national",
      "execution_count": null,
      "outputs": []
    },
    {
      "cell_type": "code",
      "metadata": {
        "id": "experimental-waterproof",
        "scrolled": true
      },
      "source": [
        "# YOUR CODE HERE for MPI command"
      ],
      "id": "experimental-waterproof",
      "execution_count": null,
      "outputs": []
    },
    {
      "cell_type": "markdown",
      "metadata": {
        "id": "protecting-assets"
      },
      "source": [
        "#### Exercise 18: Use Sklearn to compare (1 point)\n",
        "\n",
        "Apply the Linear regression on the given data using sklearn package and compare with the above results\n",
        "\n",
        "**Hint:**\n",
        "* Split the data into train and test\n",
        "* Fit the train data and predict the test data using `sklearn Linear Regression`\n",
        "* Compare the coefficients and intercept with above estimated coefficients\n",
        "* calculate loss (RMSE) on test data and predictions and compare"
      ],
      "id": "protecting-assets"
    },
    {
      "cell_type": "code",
      "metadata": {
        "id": "applicable-tyler",
        "colab": {
          "base_uri": "https://localhost:8080/"
        },
        "outputId": "f0f61d97-444b-4111-9aa4-ea3f0908a59b"
      },
      "source": [
        "# YOUR CODE HERE\n",
        "from sklearn.model_selection import train_test_split\n",
        "from sklearn.linear_model import LinearRegression\n",
        "from sklearn.metrics import mean_absolute_error,mean_squared_error\n",
        "\n",
        "X_train, X_test, y_train, y_test = train_test_split(features, target, test_size = 0.30)\n",
        "\n",
        "regr = LinearRegression()\n",
        "regr.fit(X_train, y_train)\n",
        "\n",
        "y_predict = regr.predict(X_test)\n",
        "rmse = mean_squared_error(y_true=y_test,y_pred=y_predict,squared=False)\n",
        "\n",
        "print(rmse)"
      ],
      "id": "applicable-tyler",
      "execution_count": null,
      "outputs": [
        {
          "output_type": "stream",
          "name": "stdout",
          "text": [
            "4.571854398544851\n"
          ]
        }
      ]
    }
  ]
}