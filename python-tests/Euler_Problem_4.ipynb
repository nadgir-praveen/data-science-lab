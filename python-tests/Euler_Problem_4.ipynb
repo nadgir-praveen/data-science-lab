{
  "nbformat": 4,
  "nbformat_minor": 0,
  "metadata": {
    "colab": {
      "provenance": [],
      "authorship_tag": "ABX9TyPCaXuyg2wN1+PYKyXgJphA",
      "include_colab_link": true
    },
    "kernelspec": {
      "name": "python3",
      "display_name": "Python 3"
    },
    "language_info": {
      "name": "python"
    }
  },
  "cells": [
    {
      "cell_type": "markdown",
      "metadata": {
        "id": "view-in-github",
        "colab_type": "text"
      },
      "source": [
        "<a href=\"https://colab.research.google.com/github/nadgir-praveen/data-science-lab/blob/main/python-tests/Euler_Problem_4.ipynb\" target=\"_parent\"><img src=\"https://colab.research.google.com/assets/colab-badge.svg\" alt=\"Open In Colab\"/></a>"
      ]
    },
    {
      "cell_type": "markdown",
      "source": [
        "Euler Problem 4\n",
        "\n",
        "A palindromic number reads the same both ways. The largest palindrome made from the product of two 2-digit numbers is 9009 = 91 × 99.\n",
        "Find the largest palindrome made from the product of two 3-digit numbers."
      ],
      "metadata": {
        "id": "zoKQLGh88ZMc"
      }
    },
    {
      "cell_type": "code",
      "execution_count": 16,
      "metadata": {
        "id": "jNBAfltm8YUd"
      },
      "outputs": [],
      "source": [
        "def reverse(num: int) -> bool:\n",
        "    rev_num = 0\n",
        "    num1 = num\n",
        "    while num1:\n",
        "        rev_num = num1%10 + (rev_num*10)\n",
        "        num1 = num1//10\n",
        "    return rev_num == num"
      ]
    },
    {
      "cell_type": "code",
      "source": [
        "print(max(filter(reverse, [i*j for i in range(999, 100, -1) for j in range(999, 100, -1) ])))"
      ],
      "metadata": {
        "colab": {
          "base_uri": "https://localhost:8080/"
        },
        "id": "VXmxWuWwAbph",
        "outputId": "df51a583-0680-435d-f4a8-4e4e03f4386a"
      },
      "execution_count": 34,
      "outputs": [
        {
          "output_type": "stream",
          "name": "stdout",
          "text": [
            "906609\n"
          ]
        }
      ]
    }
  ]
}