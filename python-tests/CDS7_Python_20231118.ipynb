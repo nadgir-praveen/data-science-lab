{
  "nbformat": 4,
  "nbformat_minor": 0,
  "metadata": {
    "colab": {
      "private_outputs": true,
      "provenance": [],
      "include_colab_link": true
    },
    "kernelspec": {
      "name": "python3",
      "display_name": "Python 3"
    },
    "language_info": {
      "name": "python"
    }
  },
  "cells": [
    {
      "cell_type": "markdown",
      "metadata": {
        "id": "view-in-github",
        "colab_type": "text"
      },
      "source": [
        "<a href=\"https://colab.research.google.com/github/nadgir-praveen/data-science-lab/blob/main/python-tests/CDS7_Python_20231118.ipynb\" target=\"_parent\"><img src=\"https://colab.research.google.com/assets/colab-badge.svg\" alt=\"Open In Colab\"/></a>"
      ]
    },
    {
      "cell_type": "markdown",
      "source": [
        "# More OOP--Odometer\n",
        "\n",
        "# Generators/yield\n",
        "\n",
        "# Data Munging and Charting\n",
        "\n",
        "# Flyby of major libraries"
      ],
      "metadata": {
        "id": "LytNsAcGfc1B"
      }
    },
    {
      "cell_type": "code",
      "source": [
        "from itertools import combinations as nCr"
      ],
      "metadata": {
        "id": "MuFSe7uXfz6B"
      },
      "execution_count": null,
      "outputs": []
    },
    {
      "cell_type": "code",
      "source": [
        "ns = [''.join(_) for _ in nCr(\"123456789\", 2)]"
      ],
      "metadata": {
        "id": "7YVwahBqg_2-"
      },
      "execution_count": null,
      "outputs": []
    },
    {
      "cell_type": "code",
      "source": [
        "ns[:10]"
      ],
      "metadata": {
        "id": "YGFD7I3khH2d"
      },
      "execution_count": null,
      "outputs": []
    },
    {
      "cell_type": "code",
      "source": [
        "ns3 = [''.join(_) for _ in nCr(\"123456789\", 3)]"
      ],
      "metadata": {
        "id": "sAdVPg12hJ1f"
      },
      "execution_count": null,
      "outputs": []
    },
    {
      "cell_type": "code",
      "source": [
        "ns3[:12]"
      ],
      "metadata": {
        "id": "M7I3DOEghkVl"
      },
      "execution_count": null,
      "outputs": []
    },
    {
      "cell_type": "code",
      "source": [
        "def make_nCr(what: str, howmany: int) -> list[str]:\n",
        "    return [''.join(_) for _ in nCr(what, howmany)]"
      ],
      "metadata": {
        "id": "Ka-gaZxQhmDb"
      },
      "execution_count": null,
      "outputs": []
    },
    {
      "cell_type": "code",
      "source": [
        "len(make_nCr(\"123456789\", 3))"
      ],
      "metadata": {
        "id": "x31TDboaiXSX"
      },
      "execution_count": null,
      "outputs": []
    },
    {
      "cell_type": "code",
      "source": [
        "len(make_nCr(\"123456789\", 2))"
      ],
      "metadata": {
        "id": "RDNBXZaIijEV"
      },
      "execution_count": null,
      "outputs": []
    },
    {
      "cell_type": "code",
      "source": [
        "# make_odo_code\n",
        "for size in range(2, 8):\n",
        "    print(make_nCr(\"123456789\", size))"
      ],
      "metadata": {
        "id": "vtCvhUEMi972"
      },
      "execution_count": null,
      "outputs": []
    },
    {
      "cell_type": "code",
      "source": [],
      "metadata": {
        "id": "mwyIpYazjjDV"
      },
      "execution_count": null,
      "outputs": []
    },
    {
      "cell_type": "code",
      "source": [
        "# make_odo_code\n",
        "print(\"READINGS = {\")\n",
        "for size in range(2, 9):\n",
        "    print(f'{size}: {make_nCr(\"123456789\", size)},')\n",
        "print('}')"
      ],
      "metadata": {
        "id": "d0bACsOWj1hn"
      },
      "execution_count": null,
      "outputs": []
    },
    {
      "cell_type": "code",
      "source": [
        "class Odometer:\n",
        "    READINGS = {\n",
        "        2: ['12', '13', '14', '15', '16', '17', '18', '19', '23', '24', '25', '26', '27', '28', '29', '34', '35', '36', '37', '38', '39', '45', '46', '47', '48', '49', '56', '57', '58', '59', '67', '68', '69', '78', '79', '89'],\n",
        "        3: ['123', '124', '125', '126', '127', '128', '129', '134', '135', '136', '137', '138', '139', '145', '146', '147', '148', '149', '156', '157', '158', '159', '167', '168', '169', '178', '179', '189', '234', '235', '236', '237', '238', '239', '245', '246', '247', '248', '249', '256', '257', '258', '259', '267', '268', '269', '278', '279', '289', '345', '346', '347', '348', '349', '356', '357', '358', '359', '367', '368', '369', '378', '379', '389', '456', '457', '458', '459', '467', '468', '469', '478', '479', '489', '567', '568', '569', '578', '579', '589', '678', '679', '689', '789'],\n",
        "        4: ['1234', '1235', '1236', '1237', '1238', '1239', '1245', '1246', '1247', '1248', '1249', '1256', '1257', '1258', '1259', '1267', '1268', '1269', '1278', '1279', '1289', '1345', '1346', '1347', '1348', '1349', '1356', '1357', '1358', '1359', '1367', '1368', '1369', '1378', '1379', '1389', '1456', '1457', '1458', '1459', '1467', '1468', '1469', '1478', '1479', '1489', '1567', '1568', '1569', '1578', '1579', '1589', '1678', '1679', '1689', '1789', '2345', '2346', '2347', '2348', '2349', '2356', '2357', '2358', '2359', '2367', '2368', '2369', '2378', '2379', '2389', '2456', '2457', '2458', '2459', '2467', '2468', '2469', '2478', '2479', '2489', '2567', '2568', '2569', '2578', '2579', '2589', '2678', '2679', '2689', '2789', '3456', '3457', '3458', '3459', '3467', '3468', '3469', '3478', '3479', '3489', '3567', '3568', '3569', '3578', '3579', '3589', '3678', '3679', '3689', '3789', '4567', '4568', '4569', '4578', '4579', '4589', '4678', '4679', '4689', '4789', '5678', '5679', '5689', '5789', '6789'],\n",
        "        5: ['12345', '12346', '12347', '12348', '12349', '12356', '12357', '12358', '12359', '12367', '12368', '12369', '12378', '12379', '12389', '12456', '12457', '12458', '12459', '12467', '12468', '12469', '12478', '12479', '12489', '12567', '12568', '12569', '12578', '12579', '12589', '12678', '12679', '12689', '12789', '13456', '13457', '13458', '13459', '13467', '13468', '13469', '13478', '13479', '13489', '13567', '13568', '13569', '13578', '13579', '13589', '13678', '13679', '13689', '13789', '14567', '14568', '14569', '14578', '14579', '14589', '14678', '14679', '14689', '14789', '15678', '15679', '15689', '15789', '16789', '23456', '23457', '23458', '23459', '23467', '23468', '23469', '23478', '23479', '23489', '23567', '23568', '23569', '23578', '23579', '23589', '23678', '23679', '23689', '23789', '24567', '24568', '24569', '24578', '24579', '24589', '24678', '24679', '24689', '24789', '25678', '25679', '25689', '25789', '26789', '34567', '34568', '34569', '34578', '34579', '34589', '34678', '34679', '34689', '34789', '35678', '35679', '35689', '35789', '36789', '45678', '45679', '45689', '45789', '46789', '56789'],\n",
        "        6: ['123456', '123457', '123458', '123459', '123467', '123468', '123469', '123478', '123479', '123489', '123567', '123568', '123569', '123578', '123579', '123589', '123678', '123679', '123689', '123789', '124567', '124568', '124569', '124578', '124579', '124589', '124678', '124679', '124689', '124789', '125678', '125679', '125689', '125789', '126789', '134567', '134568', '134569', '134578', '134579', '134589', '134678', '134679', '134689', '134789', '135678', '135679', '135689', '135789', '136789', '145678', '145679', '145689', '145789', '146789', '156789', '234567', '234568', '234569', '234578', '234579', '234589', '234678', '234679', '234689', '234789', '235678', '235679', '235689', '235789', '236789', '245678', '245679', '245689', '245789', '246789', '256789', '345678', '345679', '345689', '345789', '346789', '356789', '456789'],\n",
        "        7: ['1234567', '1234568', '1234569', '1234578', '1234579', '1234589', '1234678', '1234679', '1234689', '1234789', '1235678', '1235679', '1235689', '1235789', '1236789', '1245678', '1245679', '1245689', '1245789', '1246789', '1256789', '1345678', '1345679', '1345689', '1345789', '1346789', '1356789', '1456789', '2345678', '2345679', '2345689', '2345789', '2346789', '2356789', '2456789', '3456789'],\n",
        "        8: ['12345678', '12345679', '12345689', '12345789', '12346789', '12356789', '12456789', '13456789', '23456789'],\n",
        "    }\n",
        "\n",
        "    def __init__(self, size):\n",
        "        self.readings = Odometer.READINGS[size]\n",
        "        self.pos = 0\n",
        "\n",
        "    def __str__(self):\n",
        "        return self.readings[self.pos]\n",
        "\n",
        "    def __repr__(self):\n",
        "        return self.readings[0] + \"<=\" + self.readings[self.pos] +\\\n",
        "               \"<=\" + self.readings[-1]"
      ],
      "metadata": {
        "id": "cW4UYHXVkRrG"
      },
      "execution_count": null,
      "outputs": []
    },
    {
      "cell_type": "code",
      "source": [
        "o = Odometer(3)"
      ],
      "metadata": {
        "id": "Cto-ZQSJmE9w"
      },
      "execution_count": null,
      "outputs": []
    },
    {
      "cell_type": "code",
      "source": [
        "print(o)"
      ],
      "metadata": {
        "id": "O6b9yZv6nQ52"
      },
      "execution_count": null,
      "outputs": []
    },
    {
      "cell_type": "code",
      "source": [
        "repr(o)"
      ],
      "metadata": {
        "id": "tcIUK_LcnSSI"
      },
      "execution_count": null,
      "outputs": []
    },
    {
      "cell_type": "code",
      "source": [
        "class Odometer:\n",
        "    READINGS = {\n",
        "        2: ['12', '13', '14', '15', '16', '17', '18', '19', '23', '24', '25', '26', '27', '28', '29', '34', '35', '36', '37', '38', '39', '45', '46', '47', '48', '49', '56', '57', '58', '59', '67', '68', '69', '78', '79', '89'],\n",
        "        3: ['123', '124', '125', '126', '127', '128', '129', '134', '135', '136', '137', '138', '139', '145', '146', '147', '148', '149', '156', '157', '158', '159', '167', '168', '169', '178', '179', '189', '234', '235', '236', '237', '238', '239', '245', '246', '247', '248', '249', '256', '257', '258', '259', '267', '268', '269', '278', '279', '289', '345', '346', '347', '348', '349', '356', '357', '358', '359', '367', '368', '369', '378', '379', '389', '456', '457', '458', '459', '467', '468', '469', '478', '479', '489', '567', '568', '569', '578', '579', '589', '678', '679', '689', '789'],\n",
        "        4: ['1234', '1235', '1236', '1237', '1238', '1239', '1245', '1246', '1247', '1248', '1249', '1256', '1257', '1258', '1259', '1267', '1268', '1269', '1278', '1279', '1289', '1345', '1346', '1347', '1348', '1349', '1356', '1357', '1358', '1359', '1367', '1368', '1369', '1378', '1379', '1389', '1456', '1457', '1458', '1459', '1467', '1468', '1469', '1478', '1479', '1489', '1567', '1568', '1569', '1578', '1579', '1589', '1678', '1679', '1689', '1789', '2345', '2346', '2347', '2348', '2349', '2356', '2357', '2358', '2359', '2367', '2368', '2369', '2378', '2379', '2389', '2456', '2457', '2458', '2459', '2467', '2468', '2469', '2478', '2479', '2489', '2567', '2568', '2569', '2578', '2579', '2589', '2678', '2679', '2689', '2789', '3456', '3457', '3458', '3459', '3467', '3468', '3469', '3478', '3479', '3489', '3567', '3568', '3569', '3578', '3579', '3589', '3678', '3679', '3689', '3789', '4567', '4568', '4569', '4578', '4579', '4589', '4678', '4679', '4689', '4789', '5678', '5679', '5689', '5789', '6789'],\n",
        "        5: ['12345', '12346', '12347', '12348', '12349', '12356', '12357', '12358', '12359', '12367', '12368', '12369', '12378', '12379', '12389', '12456', '12457', '12458', '12459', '12467', '12468', '12469', '12478', '12479', '12489', '12567', '12568', '12569', '12578', '12579', '12589', '12678', '12679', '12689', '12789', '13456', '13457', '13458', '13459', '13467', '13468', '13469', '13478', '13479', '13489', '13567', '13568', '13569', '13578', '13579', '13589', '13678', '13679', '13689', '13789', '14567', '14568', '14569', '14578', '14579', '14589', '14678', '14679', '14689', '14789', '15678', '15679', '15689', '15789', '16789', '23456', '23457', '23458', '23459', '23467', '23468', '23469', '23478', '23479', '23489', '23567', '23568', '23569', '23578', '23579', '23589', '23678', '23679', '23689', '23789', '24567', '24568', '24569', '24578', '24579', '24589', '24678', '24679', '24689', '24789', '25678', '25679', '25689', '25789', '26789', '34567', '34568', '34569', '34578', '34579', '34589', '34678', '34679', '34689', '34789', '35678', '35679', '35689', '35789', '36789', '45678', '45679', '45689', '45789', '46789', '56789'],\n",
        "        6: ['123456', '123457', '123458', '123459', '123467', '123468', '123469', '123478', '123479', '123489', '123567', '123568', '123569', '123578', '123579', '123589', '123678', '123679', '123689', '123789', '124567', '124568', '124569', '124578', '124579', '124589', '124678', '124679', '124689', '124789', '125678', '125679', '125689', '125789', '126789', '134567', '134568', '134569', '134578', '134579', '134589', '134678', '134679', '134689', '134789', '135678', '135679', '135689', '135789', '136789', '145678', '145679', '145689', '145789', '146789', '156789', '234567', '234568', '234569', '234578', '234579', '234589', '234678', '234679', '234689', '234789', '235678', '235679', '235689', '235789', '236789', '245678', '245679', '245689', '245789', '246789', '256789', '345678', '345679', '345689', '345789', '346789', '356789', '456789'],\n",
        "        7: ['1234567', '1234568', '1234569', '1234578', '1234579', '1234589', '1234678', '1234679', '1234689', '1234789', '1235678', '1235679', '1235689', '1235789', '1236789', '1245678', '1245679', '1245689', '1245789', '1246789', '1256789', '1345678', '1345679', '1345689', '1345789', '1346789', '1356789', '1456789', '2345678', '2345679', '2345689', '2345789', '2346789', '2356789', '2456789', '3456789'],\n",
        "        8: ['12345678', '12345679', '12345689', '12345789', '12346789', '12356789', '12456789', '13456789', '23456789'],\n",
        "    }\n",
        "\n",
        "    def __init__(self, size):\n",
        "        self.readings = Odometer.READINGS[size]\n",
        "        self.pos = 0\n",
        "        self.length = len(self.readings)\n",
        "        self.size = size\n",
        "\n",
        "    def __str__(self):\n",
        "        return self.readings[self.pos]\n",
        "\n",
        "    def __repr__(self):\n",
        "        return self.readings[0] + \"<=\" + self.readings[self.pos] +\\\n",
        "               \"<=\" + self.readings[-1]\n",
        "\n",
        "    def forward(self, steps=1):\n",
        "        self.pos = (self.pos + steps) % self.length\n",
        "\n",
        "    def backward(self, steps=1):\n",
        "        self.pos = self.pos - steps\n",
        "        #self.pos = self.pos - steps % self.length\n",
        "        while self.pos < 0:\n",
        "            self.pos += self.length\n",
        "\n",
        "    def distance(self, other)-> int:\n",
        "        if self.size != other.size:\n",
        "            return -1\n",
        "        else:\n",
        "            return 42 # PLEASE REPLACE WITH CORRECT CODE"
      ],
      "metadata": {
        "id": "My9_4a0xnUGO"
      },
      "execution_count": null,
      "outputs": []
    },
    {
      "cell_type": "code",
      "source": [
        "a = 27\n",
        "b = \"Asokan\"\n",
        "print(a, b)"
      ],
      "metadata": {
        "id": "uUoMebMboIm4"
      },
      "execution_count": null,
      "outputs": []
    },
    {
      "cell_type": "code",
      "source": [
        "f'{a} a'"
      ],
      "metadata": {
        "id": "9BrcPaPrsJPf"
      },
      "execution_count": null,
      "outputs": []
    },
    {
      "cell_type": "code",
      "source": [
        "f'{b} is here'"
      ],
      "metadata": {
        "id": "K5zq9ebvsOBa"
      },
      "execution_count": null,
      "outputs": []
    },
    {
      "cell_type": "markdown",
      "source": [
        "# inner function"
      ],
      "metadata": {
        "id": "nhcCqDivsX7E"
      }
    },
    {
      "cell_type": "code",
      "source": [
        "def collatz(n: int) -> list[int]:\n",
        "    def next_collatz(k: int) -> int:\n",
        "        return k // 2 if k % 2 == 0 else 3 * k + 1\n",
        "\n",
        "    if n == 4:\n",
        "        return [4, 2, 1]\n",
        "    else:\n",
        "        return [n] + collatz(next_collatz(n))"
      ],
      "metadata": {
        "id": "kkADbsgntDHH"
      },
      "execution_count": null,
      "outputs": []
    },
    {
      "cell_type": "code",
      "source": [
        "next_collatz(7)"
      ],
      "metadata": {
        "id": "WnAg2tjgtiYS"
      },
      "execution_count": null,
      "outputs": []
    },
    {
      "cell_type": "markdown",
      "source": [
        "# yield"
      ],
      "metadata": {
        "id": "t39jvUwMtugZ"
      }
    },
    {
      "cell_type": "code",
      "source": [
        "def fib(upto: int):\n",
        "    a, b = 0, 1\n",
        "    return a\n",
        "\n",
        "    while a < upto:\n",
        "        a, b = b, a + b\n",
        "        return a"
      ],
      "metadata": {
        "id": "X7PXx1-vu-FE"
      },
      "execution_count": null,
      "outputs": []
    },
    {
      "cell_type": "code",
      "source": [
        "def fib(upto: int):\n",
        "    a, b = 0, 1\n",
        "    while a < upto:\n",
        "        yield a\n",
        "        a, b = b, a + b"
      ],
      "metadata": {
        "id": "80MJwDiav1ZF"
      },
      "execution_count": null,
      "outputs": []
    },
    {
      "cell_type": "code",
      "source": [
        "for i in fib(100):\n",
        "\n",
        "    print(i, end=\" \")"
      ],
      "metadata": {
        "id": "yq0RtqnPwEvk"
      },
      "execution_count": null,
      "outputs": []
    },
    {
      "cell_type": "code",
      "source": [
        "def fib_list(upto: int):\n",
        "    fibs = []\n",
        "    a, b = 0, 1\n",
        "    while a < upto:\n",
        "        fibs.append(a)\n",
        "        a, b = b, a + b\n",
        "    return fibs"
      ],
      "metadata": {
        "id": "nzo5w0IRwxc-"
      },
      "execution_count": null,
      "outputs": []
    },
    {
      "cell_type": "code",
      "source": [
        "def find_anurag_prime(limit: int) -> int:\n",
        "    for i in fib(limit):\n",
        "        if is_prime(i):\n",
        "            return i\n",
        "# This avoids generating unnecessary fibonacci numbers"
      ],
      "metadata": {
        "id": "QQwm1RDhxN7z"
      },
      "execution_count": null,
      "outputs": []
    },
    {
      "cell_type": "code",
      "source": [
        "a = fib(100)"
      ],
      "metadata": {
        "id": "aJKHYq5fzd0x"
      },
      "execution_count": null,
      "outputs": []
    },
    {
      "cell_type": "code",
      "source": [
        "type(a)"
      ],
      "metadata": {
        "id": "SJ9cD4H11PEl"
      },
      "execution_count": null,
      "outputs": []
    },
    {
      "cell_type": "code",
      "source": [
        "a = fib(100)\n",
        "print(sum(a))\n",
        "print(sum(a))"
      ],
      "metadata": {
        "id": "qD38cT4T1hQY"
      },
      "execution_count": null,
      "outputs": []
    },
    {
      "cell_type": "markdown",
      "source": [
        "# Why?\n",
        "\n",
        "Metaphor: Generators are JIT and single use"
      ],
      "metadata": {
        "id": "_1ExL0qd4k-R"
      }
    },
    {
      "cell_type": "markdown",
      "source": [
        "# Data Munging"
      ],
      "metadata": {
        "id": "W_FieOUN5H3e"
      }
    },
    {
      "cell_type": "code",
      "source": [
        "data = []\n",
        "FIRSTLINE = True\n",
        "for line in open(\"/content/01_heights_weights_genders.csv\"):\n",
        "    if FIRSTLINE:\n",
        "        FIRSTLINE = False\n",
        "    else:\n",
        "        data.append(line)"
      ],
      "metadata": {
        "id": "UwhJXm5A7Y8a"
      },
      "execution_count": null,
      "outputs": []
    },
    {
      "cell_type": "code",
      "source": [
        "data[:10]"
      ],
      "metadata": {
        "id": "HBVSmt2L8KCU"
      },
      "execution_count": null,
      "outputs": []
    },
    {
      "cell_type": "code",
      "source": [
        "data[-10:]"
      ],
      "metadata": {
        "id": "iA6DpkHU8Mrx"
      },
      "execution_count": null,
      "outputs": []
    },
    {
      "cell_type": "code",
      "source": [
        "data = []\n",
        "FIRSTLINE = True\n",
        "COMMA = ','\n",
        "for line in open(\"/content/01_heights_weights_genders.csv\"):\n",
        "    if FIRSTLINE:\n",
        "        FIRSTLINE = False\n",
        "    else:\n",
        "        g, h, w = line.strip().split(COMMA)\n",
        "        data.append((g, h, w))"
      ],
      "metadata": {
        "id": "eUBoqiAG8P7G"
      },
      "execution_count": null,
      "outputs": []
    },
    {
      "cell_type": "code",
      "source": [
        "data[:10]"
      ],
      "metadata": {
        "id": "7xkdYNn78ubA"
      },
      "execution_count": null,
      "outputs": []
    },
    {
      "cell_type": "code",
      "source": [
        "data = []\n",
        "FIRSTLINE = True\n",
        "COMMA = ','\n",
        "for line in open(\"/content/01_heights_weights_genders.csv\"):\n",
        "    if FIRSTLINE:\n",
        "        FIRSTLINE = False\n",
        "    else:\n",
        "        raw_g, raw_h, raw_w = line.strip().split(COMMA)\n",
        "        h = float(raw_h)\n",
        "        w = float(raw_w)\n",
        "        g = raw_g[0]\n",
        "        data.append((g, h, w))"
      ],
      "metadata": {
        "id": "pdel0HVJ8v5n"
      },
      "execution_count": null,
      "outputs": []
    },
    {
      "cell_type": "code",
      "source": [
        "data[:10]"
      ],
      "metadata": {
        "id": "WYJHcY9n9zJO"
      },
      "execution_count": null,
      "outputs": []
    },
    {
      "cell_type": "code",
      "source": [
        "data = []\n",
        "FIRSTLINE = True\n",
        "COMMA = ','\n",
        "INCHES2CM, POUNDS2KG = 2.54, 0.454\n",
        "for line in open(\"/content/01_heights_weights_genders.csv\"):\n",
        "    if FIRSTLINE:\n",
        "        FIRSTLINE = False\n",
        "    else:\n",
        "        raw_g, raw_h, raw_w = line.strip().split(COMMA)\n",
        "        h = int(float(raw_h) * INCHES2CM + 0.5)\n",
        "        w = int(float(raw_w) * POUNDS2KG + 0.5)\n",
        "        g = raw_g[0]\n",
        "        data.append((g, h, w))"
      ],
      "metadata": {
        "id": "HD5bgAOV90ji"
      },
      "execution_count": null,
      "outputs": []
    },
    {
      "cell_type": "code",
      "source": [
        "data[:10]"
      ],
      "metadata": {
        "id": "I5B2kenC-NLy"
      },
      "execution_count": null,
      "outputs": []
    },
    {
      "cell_type": "code",
      "source": [
        "import pandas as pd"
      ],
      "metadata": {
        "id": "Px606sB2-Obu"
      },
      "execution_count": null,
      "outputs": []
    },
    {
      "cell_type": "code",
      "source": [
        "pd.read_csv(\"/content/01_heights_weights_genders.csv\")"
      ],
      "metadata": {
        "id": "m2IOgkG_AEdK"
      },
      "execution_count": null,
      "outputs": []
    },
    {
      "cell_type": "code",
      "source": [
        "df = pd.read_csv(\"/content/01_heights_weights_genders.csv\")"
      ],
      "metadata": {
        "id": "D_-nljEeAPag"
      },
      "execution_count": null,
      "outputs": []
    },
    {
      "cell_type": "code",
      "source": [
        "df"
      ],
      "metadata": {
        "id": "6f9wvdUBApZX"
      },
      "execution_count": null,
      "outputs": []
    },
    {
      "cell_type": "code",
      "source": [
        "df.describe()"
      ],
      "metadata": {
        "id": "b2b1W4YkAp5z"
      },
      "execution_count": null,
      "outputs": []
    },
    {
      "cell_type": "code",
      "source": [
        "df[\"Height\"]"
      ],
      "metadata": {
        "id": "9OwxBD3xAuF4"
      },
      "execution_count": null,
      "outputs": []
    },
    {
      "cell_type": "code",
      "source": [
        "df.Weight"
      ],
      "metadata": {
        "id": "5NE-9XI3BV5z"
      },
      "execution_count": null,
      "outputs": []
    },
    {
      "cell_type": "code",
      "source": [
        "INCHES2CM, POUNDS2KG = 2.54, 0.454\n",
        "def inch2cm(s: str) -> int:\n",
        "    return int(float(s) * INCHES2CM + 0.5)\n",
        "def pound2kg(s: str) -> int:\n",
        "    return int(float(s) * POUNDS2KG + 0.5)"
      ],
      "metadata": {
        "id": "JX71mF3tBamh"
      },
      "execution_count": null,
      "outputs": []
    },
    {
      "cell_type": "code",
      "source": [
        "dataFile = \"/content/01_heights_weights_genders.csv\""
      ],
      "metadata": {
        "id": "Fw0x4tRtCTaY"
      },
      "execution_count": null,
      "outputs": []
    },
    {
      "cell_type": "code",
      "source": [
        "df2 = pd.read_csv(dataFile,\n",
        "            converters={\"Height\":inch2cm, \"Weight\":pound2kg})"
      ],
      "metadata": {
        "id": "eQ0CDmWmCcgu"
      },
      "execution_count": null,
      "outputs": []
    },
    {
      "cell_type": "code",
      "source": [
        "df2"
      ],
      "metadata": {
        "id": "l08MLKkWCuYL"
      },
      "execution_count": null,
      "outputs": []
    },
    {
      "cell_type": "code",
      "source": [
        "type(df2)"
      ],
      "metadata": {
        "id": "JMZzVBZ-Cvs3"
      },
      "execution_count": null,
      "outputs": []
    },
    {
      "cell_type": "code",
      "source": [
        "df2.describe()"
      ],
      "metadata": {
        "id": "798n6DXfDEC-"
      },
      "execution_count": null,
      "outputs": []
    },
    {
      "cell_type": "code",
      "source": [
        "tall = df2[df2.Height >= 175]"
      ],
      "metadata": {
        "id": "qgnyUETZDbEN"
      },
      "execution_count": null,
      "outputs": []
    },
    {
      "cell_type": "code",
      "source": [
        "men = df2[df2.Gender == 'Male']"
      ],
      "metadata": {
        "id": "UvgkGyy5DnjL"
      },
      "execution_count": null,
      "outputs": []
    },
    {
      "cell_type": "code",
      "source": [
        "tall.describe()"
      ],
      "metadata": {
        "id": "_UWO-49-Dtoy"
      },
      "execution_count": null,
      "outputs": []
    },
    {
      "cell_type": "code",
      "source": [
        "men.describe()"
      ],
      "metadata": {
        "id": "VZYTyrc_DvYS"
      },
      "execution_count": null,
      "outputs": []
    },
    {
      "cell_type": "code",
      "source": [
        "d = tall.describe()"
      ],
      "metadata": {
        "id": "-bdqLi4FDwk_"
      },
      "execution_count": null,
      "outputs": []
    },
    {
      "cell_type": "code",
      "source": [
        "type(d)"
      ],
      "metadata": {
        "id": "H84nD8ZGENBt"
      },
      "execution_count": null,
      "outputs": []
    },
    {
      "cell_type": "code",
      "source": [],
      "metadata": {
        "id": "FxXtEo3nEOUh"
      },
      "execution_count": null,
      "outputs": []
    },
    {
      "cell_type": "code",
      "source": [
        "tall.mean()"
      ],
      "metadata": {
        "id": "LtVxJ-8OEUmi"
      },
      "execution_count": null,
      "outputs": []
    },
    {
      "cell_type": "code",
      "source": [
        "df2.Height.mean()"
      ],
      "metadata": {
        "id": "QmXIEspNEkjR"
      },
      "execution_count": null,
      "outputs": []
    },
    {
      "cell_type": "code",
      "source": [
        "tallmen = df2[(df2.Height >= 175) & (df2.Gender == 'Male')]"
      ],
      "metadata": {
        "id": "gSdhsTBIErQe"
      },
      "execution_count": null,
      "outputs": []
    },
    {
      "cell_type": "code",
      "source": [
        "tallmen.describe()"
      ],
      "metadata": {
        "id": "zNY-pTjEFEjU"
      },
      "execution_count": null,
      "outputs": []
    },
    {
      "cell_type": "code",
      "source": [
        "tallmen.Height.describe()"
      ],
      "metadata": {
        "id": "7GGJp4AmFGWl"
      },
      "execution_count": null,
      "outputs": []
    },
    {
      "cell_type": "code",
      "source": [
        "pd.read_csv?\n",
        "# 40+ params\n",
        "# converters :: For processing columns as we read\n",
        "# header vis-a-vis names: for handling multi-line headers,\n",
        "#             or no headers replacing header column names ...\n",
        "# True/False values: What all is considered boolean\n",
        "# na related: To handle NA values"
      ],
      "metadata": {
        "id": "9qpJY8y9FSeX"
      },
      "execution_count": null,
      "outputs": []
    },
    {
      "cell_type": "code",
      "source": [
        "df2.to_csv(\"processed_ghw.csv\")"
      ],
      "metadata": {
        "id": "QG8SocwgHZPH"
      },
      "execution_count": null,
      "outputs": []
    },
    {
      "cell_type": "code",
      "source": [
        "pd.read"
      ],
      "metadata": {
        "id": "XAnWqTHVKgZv"
      },
      "execution_count": null,
      "outputs": []
    },
    {
      "cell_type": "code",
      "source": [
        "df2.to_excel(\"ghw.xls\")"
      ],
      "metadata": {
        "id": "dpEEApxWK5Pe"
      },
      "execution_count": null,
      "outputs": []
    },
    {
      "cell_type": "code",
      "source": [
        "!apt install python3-xlwt"
      ],
      "metadata": {
        "id": "lfH2wd0hLFtR"
      },
      "execution_count": null,
      "outputs": []
    },
    {
      "cell_type": "code",
      "source": [
        "df2.to_excel(\"ghw.xls\")"
      ],
      "metadata": {
        "id": "_ircrIYaLKYl"
      },
      "execution_count": null,
      "outputs": []
    },
    {
      "cell_type": "code",
      "source": [
        "set(df2.Gender)"
      ],
      "metadata": {
        "id": "0veP-kC0LPtZ"
      },
      "execution_count": null,
      "outputs": []
    },
    {
      "cell_type": "code",
      "source": [
        "for g in set(df2.Gender):\n",
        "    print(g, len(df2[df2.Gender==g]))"
      ],
      "metadata": {
        "id": "JMuPV81YMOj2"
      },
      "execution_count": null,
      "outputs": []
    },
    {
      "cell_type": "code",
      "source": [
        "df2.Gender.value_counts()"
      ],
      "metadata": {
        "id": "zkl9dxhRMn8Y"
      },
      "execution_count": null,
      "outputs": []
    },
    {
      "cell_type": "markdown",
      "source": [
        "# Charting\n",
        "## matplotlib\n",
        "### bokeh, seaborn, altair\n",
        "### plotly ...\n",
        "## Mayavi 3d\n",
        "\n"
      ],
      "metadata": {
        "id": "JODMaWk-M-FJ"
      }
    },
    {
      "cell_type": "markdown",
      "source": [],
      "metadata": {
        "id": "pD3P1ilwQTNr"
      }
    },
    {
      "cell_type": "code",
      "source": [
        "import matplotlib.pyplot as plt"
      ],
      "metadata": {
        "id": "S0ICElwFkiXx"
      },
      "execution_count": null,
      "outputs": []
    },
    {
      "cell_type": "code",
      "source": [
        "plt.plot(df2.Height, df2.Weight, \"k.\")\n",
        "plt.show()"
      ],
      "metadata": {
        "id": "ylKyIxkQklkg"
      },
      "execution_count": null,
      "outputs": []
    },
    {
      "cell_type": "code",
      "source": [
        "plt.plot(df2.Height, df2.Weight, \"b*\")\n",
        "plt.xlabel(\"Height (in cm)\")\n",
        "plt.ylabel(\"Weight (in kg)\")\n",
        "plt.show()"
      ],
      "metadata": {
        "id": "tji10tK_k5Tq"
      },
      "execution_count": null,
      "outputs": []
    },
    {
      "cell_type": "code",
      "source": [
        "men = df2[df2.Gender =='Male']\n",
        "women = df2[df2.Gender == 'Female']\n",
        "plt.plot(men.Height, men.Weight, 'b.')\n",
        "plt.plot(women.Height, women.Weight, 'r+')\n",
        "plt.xlabel(\"Height (in cm)\")\n",
        "plt.ylabel(\"Weight (in kg)\")\n",
        "plt.savefig(\"ghw.png\")\n",
        "plt.show()"
      ],
      "metadata": {
        "id": "z58Eiky2lLJg"
      },
      "execution_count": null,
      "outputs": []
    },
    {
      "cell_type": "code",
      "source": [
        "plt.savefig(\"ghw.png\")"
      ],
      "metadata": {
        "id": "vepbTpDolshs"
      },
      "execution_count": null,
      "outputs": []
    },
    {
      "cell_type": "markdown",
      "source": [
        "# manim\n",
        "## for animation"
      ],
      "metadata": {
        "id": "v0N0WSFyocQ1"
      }
    },
    {
      "cell_type": "markdown",
      "source": [
        "# Numpy"
      ],
      "metadata": {
        "id": "6hAShdTCzNY3"
      }
    },
    {
      "cell_type": "code",
      "source": [
        "# x[5][4] legal as x[5] is a list\n",
        "# x[4][2] may be a runtime error as x[4] is an int"
      ],
      "metadata": {
        "id": "R_LtLFIeu1lZ"
      },
      "execution_count": null,
      "outputs": []
    },
    {
      "cell_type": "code",
      "source": [
        "import numpy as np"
      ],
      "metadata": {
        "id": "kawyY9wyyKmV"
      },
      "execution_count": null,
      "outputs": []
    },
    {
      "cell_type": "code",
      "source": [
        "np.pi"
      ],
      "metadata": {
        "id": "qZTyxgmKzTvI"
      },
      "execution_count": null,
      "outputs": []
    },
    {
      "cell_type": "code",
      "source": [
        "a = np.array([2, 5, 6, 7, 12, 14])"
      ],
      "metadata": {
        "id": "hbVFYEadzhgr"
      },
      "execution_count": null,
      "outputs": []
    },
    {
      "cell_type": "code",
      "source": [
        "a.reshape(2, 3)"
      ],
      "metadata": {
        "id": "HvGgNtyuzqM_"
      },
      "execution_count": null,
      "outputs": []
    },
    {
      "cell_type": "markdown",
      "source": [
        "# Scipy\n",
        "## Scientific, engineering computation\n",
        "\n",
        "# Scikit learn\n",
        "## Classical machine learning\n",
        "\n",
        "# graphviz\n",
        "# flowcharting\n",
        "## pygraphviz -- programmatic flowcharting"
      ],
      "metadata": {
        "id": "1Yu2leS_zsMD"
      }
    },
    {
      "cell_type": "code",
      "source": [],
      "metadata": {
        "id": "6INEgjh95A-7"
      },
      "execution_count": null,
      "outputs": []
    }
  ]
}