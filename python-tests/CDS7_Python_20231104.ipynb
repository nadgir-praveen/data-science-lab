{
  "nbformat": 4,
  "nbformat_minor": 0,
  "metadata": {
    "colab": {
      "private_outputs": true,
      "provenance": [],
      "include_colab_link": true
    },
    "kernelspec": {
      "name": "python3",
      "display_name": "Python 3"
    },
    "language_info": {
      "name": "python"
    }
  },
  "cells": [
    {
      "cell_type": "markdown",
      "metadata": {
        "id": "view-in-github",
        "colab_type": "text"
      },
      "source": [
        "<a href=\"https://colab.research.google.com/github/nadgir-praveen/data-science-lab/blob/main/python-tests/CDS7_Python_20231104.ipynb\" target=\"_parent\"><img src=\"https://colab.research.google.com/assets/colab-badge.svg\" alt=\"Open In Colab\"/></a>"
      ]
    },
    {
      "cell_type": "markdown",
      "source": [
        "# Problem 1\n",
        "## Collatz Sequence\n",
        "\n",
        "start with an arbitrary integer; if it is even divide by $2$ else multiply by $3$ and add $1$. The sequence ends in the cycle $4, 2, 1$\n",
        "\n",
        "So we define the collatz sequence as starting with the given number and ending in $4, 2, 1$.\n",
        "\n",
        "Write a program to generate the collatz sequence for a given input."
      ],
      "metadata": {
        "id": "FqQSWTZgW9K5"
      }
    },
    {
      "cell_type": "code",
      "source": [
        "def next_collatz(n: int) -> int:\n",
        "    return n // 2 if n % 2 == 0 else 3 * n + 1"
      ],
      "metadata": {
        "id": "bauYSSjFXpKX"
      },
      "execution_count": null,
      "outputs": []
    },
    {
      "cell_type": "code",
      "source": [
        "def collatz_sequence(n: int) -> list[int]:\n",
        "    seq = []\n",
        "    while n != 4:\n",
        "        seq.append(n)\n",
        "        n = next_collatz(n)\n",
        "    seq.extend([4, 2, 1])\n",
        "    return seqSo we define the collatz sequence as starting with the given number and ending in 4,2,1."
      ],
      "metadata": {
        "id": "TYVWLyLAcYwI"
      },
      "execution_count": null,
      "outputs": []
    },
    {
      "cell_type": "code",
      "source": [
        "print(collatz_sequence(2))"
      ],
      "metadata": {
        "id": "3zd7VJjbc3HJ"
      },
      "execution_count": null,
      "outputs": []
    },
    {
      "cell_type": "code",
      "source": [
        "print(collatz_sequence(3))"
      ],
      "metadata": {
        "id": "YPLlLsoDekgy"
      },
      "execution_count": null,
      "outputs": []
    },
    {
      "cell_type": "code",
      "source": [
        "def collatz_sequence_A(n: int) -> list[int]:\n",
        "    seq = []\n",
        "    while [4, 2, 1] != seq[-3:]:\n",
        "        seq.append(n)\n",
        "        n = next_collatz(n)\n",
        "    return seq"
      ],
      "metadata": {
        "id": "Jlr3_cR_dIaH"
      },
      "execution_count": null,
      "outputs": []
    },
    {
      "cell_type": "code",
      "source": [
        "print(collatz_sequence_A(7))"
      ],
      "metadata": {
        "id": "h6oM8iLue5Nl"
      },
      "execution_count": null,
      "outputs": []
    },
    {
      "cell_type": "code",
      "source": [
        "def collatz_sequence_B(n: int) -> list[int]:\n",
        "    if n == 4:\n",
        "        return [4, 2, 1]\n",
        "    else:\n",
        "        return [n] + collatz_sequence_B(next_collatz(n))"
      ],
      "metadata": {
        "id": "6Rwsw-K_fAvr"
      },
      "execution_count": null,
      "outputs": []
    },
    {
      "cell_type": "code",
      "source": [
        "print(collatz_sequence_B(7))"
      ],
      "metadata": {
        "id": "E6ih3--ifpMf"
      },
      "execution_count": null,
      "outputs": []
    },
    {
      "cell_type": "markdown",
      "source": [
        "# Problem 2\n",
        "## Kaprekar sequence"
      ],
      "metadata": {
        "id": "TE59-j2Zfy8N"
      }
    },
    {
      "cell_type": "code",
      "source": [
        "def num2digits(n: int) -> list[int]:\n",
        "    digits = []\n",
        "    while n > 0:\n",
        "        #digits.append(n % 10)\n",
        "        digits.insert(0, n % 10)\n",
        "        n //= 10\n",
        "    return digits"
      ],
      "metadata": {
        "id": "JpncX0NqpMuT"
      },
      "execution_count": null,
      "outputs": []
    },
    {
      "cell_type": "code",
      "source": [
        "def num_to_digits(n: int) -> list[int]:\n",
        "    return [int(ch) for ch in str(n)]\n",
        "# map(int, str(n))\n",
        "\n",
        "def digits_to_num(ds: list[int]) -> int:\n",
        "    if len(ds) == 1:\n",
        "        return ds[-1]\n",
        "    else:\n",
        "        return 10 * digits_to_num(ds[:-1]) + ds[-1]\n",
        "\n",
        "# -------------------------------------------\n",
        "# int([1, 7, 2, 9]) = int([1, 7, 2]) * 10 + 9\n",
        "# -------------------------------------------"
      ],
      "metadata": {
        "id": "6SmhCSVzgZyk"
      },
      "execution_count": null,
      "outputs": []
    },
    {
      "cell_type": "code",
      "source": [
        "num_to_digits(1729)"
      ],
      "metadata": {
        "id": "O8uCIcgXlsZn"
      },
      "execution_count": null,
      "outputs": []
    },
    {
      "cell_type": "code",
      "source": [
        "digits_to_num(num_to_digits(1729))"
      ],
      "metadata": {
        "id": "DPzNRbTmmJdQ"
      },
      "execution_count": null,
      "outputs": []
    },
    {
      "cell_type": "code",
      "source": [
        "def largest(n: int) -> int:\n",
        "    return digits_to_num(sorted(num_to_digits(n), reverse=True))\n",
        "def smallest(n: int) -> int:\n",
        "    return digits_to_num(sorted(num_to_digits(n)))"
      ],
      "metadata": {
        "id": "NZ5LNs_0mOjx"
      },
      "execution_count": null,
      "outputs": []
    },
    {
      "cell_type": "code",
      "source": [
        "largest(1729), smallest(1729)"
      ],
      "metadata": {
        "id": "8M-QDPDVmm2m"
      },
      "execution_count": null,
      "outputs": []
    },
    {
      "cell_type": "code",
      "source": [
        "def next_kaprekar(n: int) -> int:\n",
        "    return largest(n) - smallest(n)"
      ],
      "metadata": {
        "id": "P4lNOwtJmqsn"
      },
      "execution_count": null,
      "outputs": []
    },
    {
      "cell_type": "code",
      "source": [
        "def kaprekar_seq(n: int) -> list[int]:\n",
        "    seq = []\n",
        "    while n not in seq:\n",
        "        seq.append(n)\n",
        "        n = next_kaprekar(n)\n",
        "    return seq"
      ],
      "metadata": {
        "id": "TSD_cnFomxcB"
      },
      "execution_count": null,
      "outputs": []
    },
    {
      "cell_type": "code",
      "source": [
        "def kaprekar_seq_rec(n: int) -> list[int]:\n",
        "    if n == next_kaprekar(n):\n",
        "        return [n]\n",
        "    else:\n",
        "        return [n] + kaprekar_seq_rec(next_kaprekar(n))"
      ],
      "metadata": {
        "id": "-jTtkd5PnDkF"
      },
      "execution_count": null,
      "outputs": []
    },
    {
      "cell_type": "code",
      "source": [
        "kaprekar_seq_rec(1729)"
      ],
      "metadata": {
        "id": "JnMjhBpIq8II"
      },
      "execution_count": null,
      "outputs": []
    },
    {
      "cell_type": "markdown",
      "source": [
        "# Ternary expression in Python\n",
        "## truevalue **if** condition **else** falsevalue"
      ],
      "metadata": {
        "id": "_g2ctpuVq-YL"
      }
    },
    {
      "cell_type": "code",
      "source": [
        "sorted(str(1729))"
      ],
      "metadata": {
        "id": "aNvW_Do7rsn-"
      },
      "execution_count": null,
      "outputs": []
    },
    {
      "cell_type": "code",
      "source": [
        "def biggest(n: int) -> int:\n",
        "    return int(''.join(sorted(str(n), reverse=True)))"
      ],
      "metadata": {
        "id": "T5t7EpfFs9X2"
      },
      "execution_count": null,
      "outputs": []
    },
    {
      "cell_type": "code",
      "source": [
        "biggest(1729)"
      ],
      "metadata": {
        "id": "HXfTVBAhtPUl"
      },
      "execution_count": null,
      "outputs": []
    },
    {
      "cell_type": "markdown",
      "source": [
        "# Problem 3\n",
        "# FizzBuzz"
      ],
      "metadata": {
        "id": "VMj_60d1tRho"
      }
    },
    {
      "cell_type": "code",
      "source": [
        "def fizzbuzz_A(n: int)-> str:\n",
        "    if n % 3 == 0 and n % 5 == 0:\n",
        "        return \"FIZZBUZZ\"\n",
        "    elif n % 3 == 0:\n",
        "        return \"FIZZ\"\n",
        "    elif n % 5 == 0:\n",
        "        return \"BUZZ\"\n",
        "    else:\n",
        "        return str(n)"
      ],
      "metadata": {
        "id": "MlNM-9ua0O6m"
      },
      "execution_count": null,
      "outputs": []
    },
    {
      "cell_type": "code",
      "source": [
        "def fb_seq(limit: int) -> list[str]:\n",
        "    return [fizzbuzz(k) for k in range(1, limit+1)]"
      ],
      "metadata": {
        "id": "20-ynmIF0uwo"
      },
      "execution_count": null,
      "outputs": []
    },
    {
      "cell_type": "code",
      "source": [
        "def fizzbuzz_B(n: int) -> str:\n",
        "    out = ''\n",
        "    if n % 3 == 0:\n",
        "        out += \"FIZZ\"\n",
        "    if n % 5 == 0:\n",
        "        out += \"BUZZ\"\n",
        "    return str(n) if out == '' else out"
      ],
      "metadata": {
        "id": "W4uevwyU050T"
      },
      "execution_count": null,
      "outputs": []
    },
    {
      "cell_type": "code",
      "source": [
        "def fizzbuzz_C(n: int) -> str:\n",
        "    fbs = [\"FIZZBUZZ\", \"\", \"\", \"FIZZ\", \"\", \"BUZZ\", \"FIZZ\", \"\", \"\",\n",
        "           \"FIZZ\", \"BUZZ\", \"\", \"FIZZ\", \"\", \"\"]\n",
        "    pos = n % 15\n",
        "    return str(n) if fbs[pos] == \"\" else fbs[pos]"
      ],
      "metadata": {
        "id": "Ftx3nqOL2Q_c"
      },
      "execution_count": null,
      "outputs": []
    },
    {
      "cell_type": "code",
      "source": [
        "fizzbuzz = fizzbuzz_C"
      ],
      "metadata": {
        "id": "neL5vdd13OM0"
      },
      "execution_count": null,
      "outputs": []
    },
    {
      "cell_type": "code",
      "source": [
        "fb_seq(15)"
      ],
      "metadata": {
        "id": "nxn6Di_I38T7"
      },
      "execution_count": null,
      "outputs": []
    },
    {
      "cell_type": "code",
      "source": [
        "def fizzbuzz_fbd(n: int) -> str:\n",
        "    out = ''\n",
        "    if n % 3 == 0:\n",
        "        out += \"FIZZ\"\n",
        "    if n % 5 == 0:\n",
        "        out += \"BUZZ\"\n",
        "    if n % 7 == 0:\n",
        "        out += \"DASH\"\n",
        "    return str(n) if out == '' else out"
      ],
      "metadata": {
        "id": "H726yexT4APK"
      },
      "execution_count": null,
      "outputs": []
    },
    {
      "cell_type": "code",
      "source": [
        "fizzbuzz = fizzbuzz_fbd"
      ],
      "metadata": {
        "id": "cbsWADaI4UxB"
      },
      "execution_count": null,
      "outputs": []
    },
    {
      "cell_type": "code",
      "source": [
        "[x if len(x) >= 4 else '' for x in fb_seq(105)]"
      ],
      "metadata": {
        "id": "RDalR_QG4Xux"
      },
      "execution_count": null,
      "outputs": []
    },
    {
      "cell_type": "code",
      "source": [
        "def fizzbuzz_D(n: int) -> str:\n",
        "    fbs = {(True, True)   : \"FIZZBUZZ\",\n",
        "           (True, False)  : \"BUZZ\",\n",
        "           (False, True)  : \"FIZZ\",\n",
        "           (False, False) : str(n)}\n",
        "    return fbs[(n % 5 == 0, n % 3 == 0)]"
      ],
      "metadata": {
        "id": "gjwsBFM74Z4K"
      },
      "execution_count": null,
      "outputs": []
    },
    {
      "cell_type": "code",
      "source": [
        "# binary 11 => decimal ?\n",
        "\n",
        "# abc => 100 * a + 10 * b + c\n",
        "# pqr => 4   * p + 2 * q + r\n"
      ],
      "metadata": {
        "id": "9bEFA6H6GouQ"
      },
      "execution_count": null,
      "outputs": []
    },
    {
      "cell_type": "code",
      "source": [
        "def fizzbuzzdash_D(n: int) -> str:\n",
        "    fbs = {(True, True, True)   : \"FIZZBUZZDASH\"}\n",
        "           # plus 7 more\n",
        "\n"
      ],
      "metadata": {
        "id": "rY8Rjcl58KTs"
      },
      "execution_count": null,
      "outputs": []
    },
    {
      "cell_type": "code",
      "source": [
        "def bad_type_hint(n: int) -> int:\n",
        "    return \"I dont care about types\""
      ],
      "metadata": {
        "id": "3tkg5booILTV"
      },
      "execution_count": null,
      "outputs": []
    },
    {
      "cell_type": "code",
      "source": [
        "bad_type_hint(4.5)"
      ],
      "metadata": {
        "id": "3rSDz6CYIUsW"
      },
      "execution_count": null,
      "outputs": []
    },
    {
      "cell_type": "code",
      "source": [
        "def no_hint(x, y):\n",
        "    return 42"
      ],
      "metadata": {
        "id": "huaUC9NDIp5U"
      },
      "execution_count": null,
      "outputs": []
    },
    {
      "cell_type": "code",
      "source": [
        "def pick(n: int) -> int:\n",
        "    return 2 * int(n % 5 == 0) + int(n % 3 == 0)\n",
        "#   return 4 * int(n % 7 == 0) + 2 * int(n % 5 == 0) + int(n % 3 == 0)\n",
        "\n",
        "def fizzbuzz_E(n: int) -> str:\n",
        "    return [str(n), \"FIZZ\", \"BUZZ\", \"FIZZBUZZ\"][pick(n)]\n",
        "\n",
        "#def fizzbuzz_E(n: int) -> str:\n",
        "#    fbs = [str(n), \"FIZZ\", \"BUZZ\", \"FIZZBUZZ\"]\n",
        "#    return fbs[pick(n)]\n"
      ],
      "metadata": {
        "id": "vImF0koQ5l5W"
      },
      "execution_count": null,
      "outputs": []
    },
    {
      "cell_type": "code",
      "source": [
        "def fizzbuzz_F(n: int, fbs: dict) -> str:\n",
        "    fb = ''\n",
        "    for divisor in fbs:\n",
        "        if n % divisor == 0:\n",
        "            fb += fbs[divisor]\n",
        "    return str(n) if fb == '' else fb\n",
        "\n",
        "# fbs = {3: \"FIZZ\", 5: \"BUZZ\", 7: \"DASH\"}"
      ],
      "metadata": {
        "id": "40VD0Drf8GFO"
      },
      "execution_count": null,
      "outputs": []
    },
    {
      "cell_type": "code",
      "source": [
        "def fizzbuzz_all(limit: int) -> list[str]:\n",
        "    fbs = [str(n) for n in range(limit)]\n",
        "    print(fbs)\n",
        "    fbs[3:limit:3] = [\"FIZZ\"] * len(fbs[3:limit:3])\n",
        "    print(fbs)\n",
        "    fbs[5:limit:5] = [\"BUZZ\"] * len(fbs[5:limit:5])\n",
        "    print(fbs)\n",
        "    fbs[15:limit:15] = [\"FIZZBUZZ\"] * len(fbs[15:limit:15])\n",
        "    return fbs[1:]"
      ],
      "metadata": {
        "id": "R2otaZuXBRCN"
      },
      "execution_count": null,
      "outputs": []
    },
    {
      "cell_type": "code",
      "source": [
        "fizzbuzz_all(16)"
      ],
      "metadata": {
        "id": "c91Lpp5DCN5s"
      },
      "execution_count": null,
      "outputs": []
    },
    {
      "cell_type": "code",
      "source": [
        "a, b, c = 1, 4, \"Hello\""
      ],
      "metadata": {
        "id": "14h0_d73CpX2"
      },
      "execution_count": null,
      "outputs": []
    },
    {
      "cell_type": "code",
      "source": [
        "aa = [1, 2, 3, 4, 5, 6]"
      ],
      "metadata": {
        "id": "rFMKXCEQDbve"
      },
      "execution_count": null,
      "outputs": []
    },
    {
      "cell_type": "code",
      "source": [
        "aa[::2]"
      ],
      "metadata": {
        "id": "yIjBoHqcDglC"
      },
      "execution_count": null,
      "outputs": []
    },
    {
      "cell_type": "code",
      "source": [
        "aa[::2] = [\"Slices\", \"Are\", \"Assignable\"]"
      ],
      "metadata": {
        "id": "JEJGOBGYDh-p"
      },
      "execution_count": null,
      "outputs": []
    },
    {
      "cell_type": "code",
      "source": [
        "aa"
      ],
      "metadata": {
        "id": "RzEFeJfkDn-V"
      },
      "execution_count": null,
      "outputs": []
    },
    {
      "cell_type": "code",
      "source": [
        "aa[::2] = [6]"
      ],
      "metadata": {
        "id": "nk-jL3ZqDo3K"
      },
      "execution_count": null,
      "outputs": []
    },
    {
      "cell_type": "markdown",
      "source": [
        "# Problem 4\n",
        "# Refactor/improve this code"
      ],
      "metadata": {
        "id": "h6rhrWxCGHPw"
      }
    },
    {
      "cell_type": "code",
      "source": [
        "def myfunc(a):\n",
        "    empty=[]\n",
        "    for i in range(len(a)):\n",
        "        if i%2==0:\n",
        "            empty.append(a[i].upper())\n",
        "        else:\n",
        "            empty.append(a[i].lower())\n",
        "\n",
        "    return \"\".join(empty)"
      ],
      "metadata": {
        "id": "gTNiHLjQLKlF"
      },
      "execution_count": null,
      "outputs": []
    },
    {
      "cell_type": "code",
      "source": [
        "def alternate_case(s: str) -> str:\n",
        "    apply = [str.upper, str.lower]\n",
        "    return ''.join([apply[i % 2](ch) for i, ch in enumerate(s)])"
      ],
      "metadata": {
        "id": "kS1OG4hLhVqF"
      },
      "execution_count": null,
      "outputs": []
    },
    {
      "cell_type": "code",
      "source": [
        "\n",
        "#return ''.join([[str.upper, str.lower][i % 2](ch) for i, ch in enumerate(s)])"
      ],
      "metadata": {
        "id": "xIAlgCe-h1Ul"
      },
      "execution_count": null,
      "outputs": []
    },
    {
      "cell_type": "code",
      "source": [
        "def alt_case(s: str) -> str:\n",
        "    all_chars = list(s.lower())\n",
        "    all_chars[::2] = s[::2].upper()\n",
        "    return ''.join(all_chars)"
      ],
      "metadata": {
        "id": "jZoBomdsjuGS"
      },
      "execution_count": null,
      "outputs": []
    },
    {
      "cell_type": "code",
      "source": [
        "alt_case(\"hello world\")"
      ],
      "metadata": {
        "id": "c8SqTFvmkHbA"
      },
      "execution_count": null,
      "outputs": []
    },
    {
      "cell_type": "code",
      "source": [
        "\"abcdefghijklmnopqrstuvwxyz\"[::2]"
      ],
      "metadata": {
        "id": "xKf_m1dolDTW"
      },
      "execution_count": null,
      "outputs": []
    },
    {
      "cell_type": "markdown",
      "source": [
        "# Problem 6\n",
        "# Given a date string of the form \"dd mon yyyy\" return the 7-digit integer yyyyddd.\n",
        "\n",
        "## Examples\n",
        "## \"17 Jan 2004\"  $ \\Rightarrow 2004017$\n",
        "## \"24 JULY, 1996\" $ \\Rightarrow 1996206$\n",
        "\n",
        "## \"1 Mar 2004\" $\\Rightarrow 2004061$\n",
        "\n",
        "## \"1 March, 1999\" $\\Rightarrow 1999060$\n",
        "1. The components may be separated by COMMA or SPACE or COMMA followed by a SPACE.\n",
        "\n",
        "2. The first separator and the second separator need not be the same\n",
        "\n",
        "3. The month name may be in upper case, capitalised or lower case\n",
        "\n",
        "4. The month name may be full or partial -- at least 3-characters"
      ],
      "metadata": {
        "id": "3_FtqwWanAg6"
      }
    },
    {
      "cell_type": "markdown",
      "source": [
        "31, 28, 31, 30,"
      ],
      "metadata": {
        "id": "BJEuQKZYw6WO"
      }
    },
    {
      "cell_type": "code",
      "source": [
        "COMMA, SPACE = ',', ' '\n",
        "def is_leap(yyyy: int) -> bool:\n",
        "    if yyyy % 100 == 0:\n",
        "        return yyyy % 400 == 0\n",
        "    else:\n",
        "        return yyyy % 4 == 0\n",
        "\n",
        "def julian(s: str) -> int:\n",
        "    days_upto_ordy = {\"JAN\": 0, \"FEB\": 31,\"MAR\": 59, \"APR\": 90,\n",
        "                      \"MAY\": 120,\"JUN\": 151, \"JUL\": 181, \"AUG\": 212,\n",
        "                      \"SEP\": 243, \"OCT\": 273, \"NOV\": 304, \"DEC\": 334}\n",
        "    days_upto_leap = {\"JAN\": 0, \"FEB\": 31,\"MAR\": 60, \"APR\": 91,\n",
        "                      \"MAY\": 121,\"JUN\": 152, \"JUL\": 182, \"AUG\": 213,\n",
        "                      \"SEP\": 244, \"OCT\": 274, \"NOV\": 305, \"DEC\": 335}\n",
        "    sdd, smon, syyyy = s.replace(COMMA, SPACE).split()\n",
        "    dd = int(sdd)\n",
        "    mon = smon.upper()[:3]\n",
        "    yyyy = int(syyyy)\n",
        "    days_upto = days_upto_leap if is_leap(yyyy) else days_upto_ordy\n",
        "    return yyyy * 1000 + dd + days_upto[mon]\n"
      ],
      "metadata": {
        "id": "BOBo0xCxtTk4"
      },
      "execution_count": null,
      "outputs": []
    },
    {
      "cell_type": "code",
      "source": [
        "\"a b  \\n  c\".split()"
      ],
      "metadata": {
        "id": "E77P7R9b1TKN"
      },
      "execution_count": null,
      "outputs": []
    },
    {
      "cell_type": "code",
      "source": [
        "\"a b  \\n  c\".split(' ')"
      ],
      "metadata": {
        "id": "uImZAJmD3IsQ"
      },
      "execution_count": null,
      "outputs": []
    },
    {
      "cell_type": "code",
      "source": [],
      "metadata": {
        "id": "2BrhSDSD3Wc9"
      },
      "execution_count": null,
      "outputs": []
    }
  ]
}