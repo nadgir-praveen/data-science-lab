{
  "nbformat": 4,
  "nbformat_minor": 0,
  "metadata": {
    "colab": {
      "private_outputs": true,
      "provenance": [],
      "include_colab_link": true
    },
    "kernelspec": {
      "name": "python3",
      "display_name": "Python 3"
    },
    "language_info": {
      "name": "python"
    }
  },
  "cells": [
    {
      "cell_type": "markdown",
      "metadata": {
        "id": "view-in-github",
        "colab_type": "text"
      },
      "source": [
        "<a href=\"https://colab.research.google.com/github/nadgir-praveen/data-science-lab/blob/main/python-tests/CDS7_Python_20231105.ipynb\" target=\"_parent\"><img src=\"https://colab.research.google.com/assets/colab-badge.svg\" alt=\"Open In Colab\"/></a>"
      ]
    },
    {
      "cell_type": "markdown",
      "source": [
        "## Warm up problems: Roman to Arabic, Arabic to Roman\n",
        "\n",
        "#Main discussion :: Odometer"
      ],
      "metadata": {
        "id": "OEVGpNo-h4ix"
      }
    },
    {
      "cell_type": "markdown",
      "source": [
        "# Problem 1\n",
        "# Convert an indo-arabic (usual) number, say $n$ to its Roman equivalent.\n",
        "\n",
        "## Given $0 < n < 4000$\n",
        "\n",
        "## Examples:\n",
        "## $2183 ⇒ MMCLXXXIII$\n",
        "## $1292 ⇒ MCCXCII$\n"
      ],
      "metadata": {
        "id": "e5h6uNDciOGg"
      }
    },
    {
      "cell_type": "code",
      "source": [
        "def to_roman(n: int) -> str:\n",
        "    thousands = [\"\", \"M\", \"MM\", \"MMM\"]\n",
        "    hundreds  = [\"\", \"C\", \"CC\", \"CCC\", \"CD\", \"D\", \"DC\", \"DCC\", \"DCCC\", \"CM\"]\n",
        "    tens      = [\"\", \"X\", \"XX\", \"XXX\", \"XL\", \"L\", \"LX\", \"LXX\", \"LXXX\", \"XC\"]\n",
        "    units     = [\"\", \"I\", \"II\", \"III\", \"IV\", \"V\", \"VI\", \"VII\", \"VIII\", \"IX\"]\n",
        "    thou, n = n // 1000, n % 1000\n",
        "    #thou, n = divmod(n, 1000)\n",
        "    hund, n = n // 100,  n % 100\n",
        "    return thousands[thou] + hundreds[hund] + tens[n // 10] + units[n % 10]"
      ],
      "metadata": {
        "id": "oxwPGfVfimzS"
      },
      "execution_count": null,
      "outputs": []
    },
    {
      "cell_type": "code",
      "source": [
        "def to_roman_B(n: int) -> str:\n",
        "    romans = {1000: \"M\", 900: \"CM\", 500: \"D\", 400: \"CD\",\n",
        "              100: \"C\",  90: \"XC\",  50: \"L\",  40: \"XL\",\n",
        "              10: \"X\",   9: \"IX\",   5: \"V\",   4: \"IV\", 1: \"I\"}\n",
        "    roman = \"\"\n",
        "    for denom in romans:\n",
        "        # for denom in romans.keys():\n",
        "        # for denom in sorted(romans.keys(), reverse=True)\n",
        "        roman += (n // denom) * romans[denom]\n",
        "        n %= denom\n",
        "    return roman"
      ],
      "metadata": {
        "id": "9TSeZLETp7an"
      },
      "execution_count": null,
      "outputs": []
    },
    {
      "cell_type": "code",
      "source": [
        "to_roman_B(2183)"
      ],
      "metadata": {
        "id": "v-U84maPuwG3"
      },
      "execution_count": null,
      "outputs": []
    },
    {
      "cell_type": "code",
      "source": [
        "for a in \"asdf\":\n",
        "    print(a)"
      ],
      "metadata": {
        "id": "RDW3Fr_4rYLk"
      },
      "execution_count": null,
      "outputs": []
    },
    {
      "cell_type": "code",
      "source": [
        "4 * \"HELLO\""
      ],
      "metadata": {
        "id": "mLisAK5BsDWi"
      },
      "execution_count": null,
      "outputs": []
    },
    {
      "cell_type": "code",
      "source": [
        " romans = {1000: \"M\", 900: \"CM\", 500: \"D\", 400: \"CD\",\n",
        "              100: \"C\",  90: \"XC\",  50: \"L\",  40: \"XL\",\n",
        "              10: \"X\",   9: \"IX\",   5: \"V\",   4: \"IV\", 1: \"I\"}"
      ],
      "metadata": {
        "id": "ct1wLUlCsKXP"
      },
      "execution_count": null,
      "outputs": []
    },
    {
      "cell_type": "code",
      "source": [
        "\"P\" in romans.values()"
      ],
      "metadata": {
        "id": "KW4DUQd0uLm3"
      },
      "execution_count": null,
      "outputs": []
    },
    {
      "cell_type": "code",
      "source": [
        "\"M\" in romans.values()"
      ],
      "metadata": {
        "id": "zX3SnpdauQCu"
      },
      "execution_count": null,
      "outputs": []
    },
    {
      "cell_type": "code",
      "source": [
        "romans.keys()"
      ],
      "metadata": {
        "id": "cf0YqDc1uU0T"
      },
      "execution_count": null,
      "outputs": []
    },
    {
      "cell_type": "code",
      "source": [
        "list(romans.keys())"
      ],
      "metadata": {
        "id": "Y8B1FcyeuXbj"
      },
      "execution_count": null,
      "outputs": []
    },
    {
      "cell_type": "markdown",
      "source": [
        "# Problem 2\n",
        "## Given a **valid** roman number, convert it into the equivalent indo-arabic number:"
      ],
      "metadata": {
        "id": "k4OCHItWuf4K"
      }
    },
    {
      "cell_type": "code",
      "source": [
        "def from_roman(roman: str) -> int:\n",
        "    romans = {\"M\": 1000, \"D\": 500, \"C\": 100, \"L\": 50, \"X\": 10, \"V\": 5, \"I\": 1}\n",
        "\n",
        "    roman = roman.replace(\"CM\", \"DCCCC\").replace(\"CD\", \"CCCC\").\\\n",
        "        replace(\"XC\", \"LXXXX\").replace(\"XL\", \"XXXX\").\\\n",
        "        replace(\"IX\", \"VIIII\").replace(\"IV\", \"IIII\")\n",
        "\n",
        "    return sum([romans[digit] for digit in roman])"
      ],
      "metadata": {
        "id": "1FKDY06rvFUa"
      },
      "execution_count": null,
      "outputs": []
    },
    {
      "cell_type": "code",
      "source": [
        "from_roman(\"MCMXLI\")"
      ],
      "metadata": {
        "id": "VRuk4EZ7xGih"
      },
      "execution_count": null,
      "outputs": []
    },
    {
      "cell_type": "markdown",
      "source": [
        "# Odometer"
      ],
      "metadata": {
        "id": "M5LZvP0C1f6c"
      }
    },
    {
      "cell_type": "code",
      "source": [
        "def get_limits(reading: int) -> tuple[int, int]:\n",
        "    DIGITS = \"123456789\"\n",
        "    size = len(str(reading))\n",
        "    return int(DIGITS[:size]), int(DIGITS[-size:])"
      ],
      "metadata": {
        "id": "QVDi_pRA50UX"
      },
      "execution_count": null,
      "outputs": []
    },
    {
      "cell_type": "code",
      "source": [
        "get_limits(349)"
      ],
      "metadata": {
        "id": "9vHXgpI7CEtS"
      },
      "execution_count": null,
      "outputs": []
    },
    {
      "cell_type": "code",
      "source": [
        "def get_limits_B(reading: int) -> tuple[int, int]:\n",
        "    offset = len(str(reading)) - 2\n",
        "    return ((12, 89), (123, 789), (1234, 6789), (12345,56789), (123456, 456789),\n",
        "            (1234567, 3456789), (12345678, 23456789))[offset]"
      ],
      "metadata": {
        "id": "ME0s3iRCCG8J"
      },
      "execution_count": null,
      "outputs": []
    },
    {
      "cell_type": "code",
      "source": [
        "def is_ascending(n: int) -> bool:\n",
        "    sn = str(n)\n",
        "    return all([a > b for a, b in zip(sn[1:], sn)])"
      ],
      "metadata": {
        "id": "GMoF0iREC3BD"
      },
      "execution_count": null,
      "outputs": []
    },
    {
      "cell_type": "code",
      "source": [
        "def is_ascending_A(n: int)-> bool:\n",
        "    if n < 10:\n",
        "        return True\n",
        "    if (n % 10) <= (n //10) % 10:\n",
        "        return False\n",
        "    else:\n",
        "        return is_ascending_A(n // 10)"
      ],
      "metadata": {
        "id": "a6alER8PDLDo"
      },
      "execution_count": null,
      "outputs": []
    },
    {
      "cell_type": "code",
      "source": [
        "def next_reading(n: int) -> int:\n",
        "    lo, hi = get_limits(n)\n",
        "    if n == hi:\n",
        "        return lo\n",
        "    n += 1\n",
        "    while not is_ascending(n):\n",
        "        n += 1\n",
        "    return n"
      ],
      "metadata": {
        "id": "SdMfYw65DiDJ"
      },
      "execution_count": null,
      "outputs": []
    },
    {
      "cell_type": "code",
      "source": [
        "def prev_reading(n: int) -> int:\n",
        "    lo, hi = get_limits(n)\n",
        "    if n == lo:\n",
        "        return hi\n",
        "    n -= 1\n",
        "    while not is_ascending(n):\n",
        "        n -= 1\n",
        "    return n"
      ],
      "metadata": {
        "id": "LrECCw8qErQa"
      },
      "execution_count": null,
      "outputs": []
    },
    {
      "cell_type": "code",
      "source": [
        "def next_nth_reading(reading: int, steps: int) -> int:\n",
        "    for _ in range(steps):\n",
        "        reading = next_reading(reading)\n",
        "    return reading"
      ],
      "metadata": {
        "id": "c7WiHPKVE4En"
      },
      "execution_count": null,
      "outputs": []
    },
    {
      "cell_type": "code",
      "source": [
        "def prev_nth_reading(reading: int, steps: int) -> int:\n",
        "    for _ in range(steps):\n",
        "        reading = prev_reading(reading)\n",
        "    return reading"
      ],
      "metadata": {
        "id": "xmQ4cw6pFJ7U"
      },
      "execution_count": null,
      "outputs": []
    },
    {
      "cell_type": "code",
      "source": [
        "def distance(a_reading: int, b_reading: int) -> int:\n",
        "    if len(str(a_reading)) != len(str(b_reading)):\n",
        "        return -1\n",
        "    distance = 0\n",
        "    while a_reading != b_reading:\n",
        "        a_reading = next_reading(a_reading)\n",
        "        distance += 1\n",
        "    return distance"
      ],
      "metadata": {
        "id": "S-PyPD_bFXxH"
      },
      "execution_count": null,
      "outputs": []
    },
    {
      "cell_type": "code",
      "source": [
        "next_nth_reading(128, 2378)"
      ],
      "metadata": {
        "id": "ensaFWWSGBx8"
      },
      "execution_count": null,
      "outputs": []
    },
    {
      "cell_type": "code",
      "source": [
        "def is_ascending_C(n: int) -> bool:\n",
        "    return n == int(''.join(sorted(set(str(n)))))"
      ],
      "metadata": {
        "id": "ZhahbDQRGHT2"
      },
      "execution_count": null,
      "outputs": []
    },
    {
      "cell_type": "code",
      "source": [
        "is_ascending_C(1238)"
      ],
      "metadata": {
        "id": "T-6PrEQiHSkd"
      },
      "execution_count": null,
      "outputs": []
    },
    {
      "cell_type": "code",
      "source": [
        "is_ascending_C(122)"
      ],
      "metadata": {
        "id": "oPJf8oHKHnRM"
      },
      "execution_count": null,
      "outputs": []
    },
    {
      "cell_type": "code",
      "source": [
        "for i in range(10):\n",
        "    print(i)"
      ],
      "metadata": {
        "id": "3zdMDhMmHqOq"
      },
      "execution_count": null,
      "outputs": []
    },
    {
      "cell_type": "code",
      "source": [
        "for i in range(10):\n",
        "    print(i, end=' ')"
      ],
      "metadata": {
        "id": "j-5G0WgpQ4c1"
      },
      "execution_count": null,
      "outputs": []
    },
    {
      "cell_type": "code",
      "source": [
        "def forward(reading: int, steps: int = 1) -> int:\n",
        "    lo, hi = get_limits(reading)\n",
        "    for _ in range(steps):\n",
        "        if reading == hi:\n",
        "            reading = lo\n",
        "        else:\n",
        "            reading += 1\n",
        "            while not is_ascending(reading):\n",
        "                reading += 1\n",
        "    return reading"
      ],
      "metadata": {
        "id": "f_Iv8XXgQ8aA"
      },
      "execution_count": null,
      "outputs": []
    },
    {
      "cell_type": "code",
      "source": [
        "forward(128)"
      ],
      "metadata": {
        "id": "CGqyNhyARrIt"
      },
      "execution_count": null,
      "outputs": []
    },
    {
      "cell_type": "code",
      "source": [
        "forward(128, 2378)"
      ],
      "metadata": {
        "id": "PBvz7o_-Rygr"
      },
      "execution_count": null,
      "outputs": []
    },
    {
      "cell_type": "markdown",
      "source": [
        "# Uploading a file to Colab"
      ],
      "metadata": {
        "id": "SacaDVOWR5Tn"
      }
    },
    {
      "cell_type": "code",
      "source": [
        "def spacify(ch: str) -> str:\n",
        "    return ch if ch.isalpha() else ' '\n",
        "\n",
        "def word_freq(file_name: str) -> dict:\n",
        "    freq = dict()\n",
        "    for line in open(file_name):\n",
        "        clean_line = ''.join([spacify(ch) for ch in line])\n",
        "        words = clean_line.lower().split()\n",
        "        for word in words:\n",
        "            if word not in freq:\n",
        "                freq[word] = 0\n",
        "            freq[word] += 1\n",
        "    return freq"
      ],
      "metadata": {
        "id": "gPtj3P8kae0V"
      },
      "execution_count": null,
      "outputs": []
    },
    {
      "cell_type": "code",
      "source": [
        "word_freq(\"commands.txt\")"
      ],
      "metadata": {
        "id": "TNTrO2VLpSCX"
      },
      "execution_count": null,
      "outputs": []
    },
    {
      "cell_type": "code",
      "source": [
        "def word_freq(file_name: str) -> dict:\n",
        "    freq = dict()\n",
        "    for line in open(file_name):\n",
        "        clean_line = ''.join([spacify(ch) for ch in line])\n",
        "        words = clean_line.lower().split()\n",
        "        for word in words:\n",
        "            freq[word] = 1 + freq.get(word, 0)\n",
        "    return freq"
      ],
      "metadata": {
        "id": "yh4CuxhipWi4"
      },
      "execution_count": null,
      "outputs": []
    },
    {
      "cell_type": "code",
      "source": [
        "from collections import defaultdict\n",
        "def word_freq(file_name: str) -> defaultdict:\n",
        "    freq = defaultdict(int)\n",
        "    for line in open(file_name):\n",
        "        clean_line = ''.join([spacify(ch) for ch in line])\n",
        "        words = clean_line.lower().split()\n",
        "        for word in words:\n",
        "            freq[word] += 1\n",
        "    return freq"
      ],
      "metadata": {
        "id": "KZwEBw3Uvtx3"
      },
      "execution_count": null,
      "outputs": []
    },
    {
      "cell_type": "code",
      "source": [
        "from collections import Counter\n",
        "def word_freq_analysis(file_name: str) -> Counter:\n",
        "    freq = Counter()\n",
        "    for line in open(file_name):\n",
        "        clean_line = ''.join([spacify(ch) for ch in line])\n",
        "        words = clean_line.lower().split()\n",
        "        freq.update(words)\n",
        "    return freq"
      ],
      "metadata": {
        "id": "1DzE3R3lv_pF"
      },
      "execution_count": null,
      "outputs": []
    },
    {
      "cell_type": "code",
      "source": [
        "word_freq_analysis(\"commands.txt\")"
      ],
      "metadata": {
        "id": "Q9h2MS_OzUWN"
      },
      "execution_count": null,
      "outputs": []
    },
    {
      "cell_type": "code",
      "source": [
        "f = word_freq_analysis(\"commands.txt\")"
      ],
      "metadata": {
        "id": "r3vcPv11zacf"
      },
      "execution_count": null,
      "outputs": []
    },
    {
      "cell_type": "code",
      "source": [
        "f.most_common(5)"
      ],
      "metadata": {
        "id": "fqIYwr6zzk7r"
      },
      "execution_count": null,
      "outputs": []
    },
    {
      "cell_type": "code",
      "source": [
        "f.keys()"
      ],
      "metadata": {
        "id": "wFKtO_cRzoKp"
      },
      "execution_count": null,
      "outputs": []
    },
    {
      "cell_type": "code",
      "source": [
        "f.items()"
      ],
      "metadata": {
        "id": "PRdjbmxt0MH3"
      },
      "execution_count": null,
      "outputs": []
    },
    {
      "cell_type": "code",
      "source": [
        "offset = max(f.values())\n",
        "rev_freq = {a:offset-b for a, b in f.items()}"
      ],
      "metadata": {
        "id": "4cFpnoyN0OWw"
      },
      "execution_count": null,
      "outputs": []
    },
    {
      "cell_type": "code",
      "source": [
        "rev_freq"
      ],
      "metadata": {
        "id": "aj6gTLiy0pNw"
      },
      "execution_count": null,
      "outputs": []
    },
    {
      "cell_type": "code",
      "source": [
        "Counter(rev_freq).most_common(5)"
      ],
      "metadata": {
        "id": "chXKBt1l010C"
      },
      "execution_count": null,
      "outputs": []
    },
    {
      "cell_type": "code",
      "source": [
        "freq"
      ],
      "metadata": {
        "id": "RSsI60eP1AVP"
      },
      "execution_count": null,
      "outputs": []
    },
    {
      "cell_type": "code",
      "source": [
        "f.items()"
      ],
      "metadata": {
        "id": "LHEXyqAF1hLY"
      },
      "execution_count": null,
      "outputs": []
    },
    {
      "cell_type": "code",
      "source": [
        "words = [\"be\", \"and\", \"them\", \"They\", \"Alpha\"]"
      ],
      "metadata": {
        "id": "G63cjbSM1l2_"
      },
      "execution_count": null,
      "outputs": []
    },
    {
      "cell_type": "code",
      "source": [
        "sorted(words)"
      ],
      "metadata": {
        "id": "nO9ZYvRl2OSX"
      },
      "execution_count": null,
      "outputs": []
    },
    {
      "cell_type": "code",
      "source": [
        "sorted(words, key=len)"
      ],
      "metadata": {
        "id": "3IU4JAWG2Paf"
      },
      "execution_count": null,
      "outputs": []
    },
    {
      "cell_type": "code",
      "source": [
        "sorted(words, key=str.upper)"
      ],
      "metadata": {
        "id": "ZBJSqmo02TcA"
      },
      "execution_count": null,
      "outputs": []
    },
    {
      "cell_type": "code",
      "source": [
        "sorted(f.items(), key=lambda x: x[1])[:5]"
      ],
      "metadata": {
        "id": "3qmduMDM2yR3"
      },
      "execution_count": null,
      "outputs": []
    },
    {
      "cell_type": "code",
      "source": [
        "f.most_common()[-5:]"
      ],
      "metadata": {
        "id": "Oosf2sGf3Qux"
      },
      "execution_count": null,
      "outputs": []
    },
    {
      "cell_type": "markdown",
      "source": [
        "# Odometer\n",
        "# OO Odometer\n",
        "## has an id\n",
        "## retains state"
      ],
      "metadata": {
        "id": "O-0UuVGG4Ayp"
      }
    },
    {
      "cell_type": "code",
      "source": [
        "class Odometer:\n",
        "    pass"
      ],
      "metadata": {
        "id": "B1UPnb5P5n1N"
      },
      "execution_count": null,
      "outputs": []
    },
    {
      "cell_type": "code",
      "source": [
        "p = Odometer()"
      ],
      "metadata": {
        "id": "POfvMbxB5vtv"
      },
      "execution_count": null,
      "outputs": []
    },
    {
      "cell_type": "code",
      "source": [
        "q = Odometer()"
      ],
      "metadata": {
        "id": "k2obx_UO52Fb"
      },
      "execution_count": null,
      "outputs": []
    },
    {
      "cell_type": "code",
      "source": [
        "id(p)"
      ],
      "metadata": {
        "id": "qVlwTrJI53t7"
      },
      "execution_count": null,
      "outputs": []
    },
    {
      "cell_type": "code",
      "source": [
        "id(q)"
      ],
      "metadata": {
        "id": "U-Ptjd5L55hw"
      },
      "execution_count": null,
      "outputs": []
    },
    {
      "cell_type": "code",
      "source": [
        "class Odometer:\n",
        "    def __init__(self, size):\n",
        "        self.SIZE = size\n",
        "        self.START = int(\"123456789\"[:size])\n",
        "        self.LIMIT = int(\"123456789\"[-size:])\n",
        "        self.reading = self.START"
      ],
      "metadata": {
        "id": "Wvp0vo0V56LE"
      },
      "execution_count": null,
      "outputs": []
    },
    {
      "cell_type": "code",
      "source": [
        "p = Odometer()"
      ],
      "metadata": {
        "id": "aQ4hY02Z7Kaj"
      },
      "execution_count": null,
      "outputs": []
    },
    {
      "cell_type": "code",
      "source": [
        "p = Odometer(4)"
      ],
      "metadata": {
        "id": "UsN7Qsjx7bLN"
      },
      "execution_count": null,
      "outputs": []
    },
    {
      "cell_type": "code",
      "source": [
        "p.SIZE"
      ],
      "metadata": {
        "id": "fvyBguGr7fMb"
      },
      "execution_count": null,
      "outputs": []
    },
    {
      "cell_type": "code",
      "source": [
        "p.reading"
      ],
      "metadata": {
        "id": "5jhmKVA77iQ6"
      },
      "execution_count": null,
      "outputs": []
    },
    {
      "cell_type": "code",
      "source": [
        "print(p)"
      ],
      "metadata": {
        "id": "Xt5frY6X7jxR"
      },
      "execution_count": null,
      "outputs": []
    },
    {
      "cell_type": "code",
      "source": [
        "class Odometer:\n",
        "    def __init__(self, size):\n",
        "        self.SIZE = size\n",
        "        self.START = int(\"123456789\"[:size])\n",
        "        self.LIMIT = int(\"123456789\"[-size:])\n",
        "        self.reading = self.START\n",
        "\n",
        "    def __str__(self):\n",
        "        return str(self.reading)"
      ],
      "metadata": {
        "id": "RYfKtY5c7n9E"
      },
      "execution_count": null,
      "outputs": []
    },
    {
      "cell_type": "code",
      "source": [
        "p = Odometer(3)"
      ],
      "metadata": {
        "id": "xlZY8td87-wB"
      },
      "execution_count": null,
      "outputs": []
    },
    {
      "cell_type": "code",
      "source": [
        "print(p)"
      ],
      "metadata": {
        "id": "xGDSNyL18DJ4"
      },
      "execution_count": null,
      "outputs": []
    },
    {
      "cell_type": "code",
      "source": [
        "h = \"Hello World\""
      ],
      "metadata": {
        "id": "cBiNTUdh8ECG"
      },
      "execution_count": null,
      "outputs": []
    },
    {
      "cell_type": "code",
      "source": [
        "print(h)"
      ],
      "metadata": {
        "id": "nbME76J08sd2"
      },
      "execution_count": null,
      "outputs": []
    },
    {
      "cell_type": "code",
      "source": [
        "h"
      ],
      "metadata": {
        "id": "OsiKaEHD8uRY"
      },
      "execution_count": null,
      "outputs": []
    },
    {
      "cell_type": "code",
      "source": [
        "hh = \"Hello\\tWorld\\n\""
      ],
      "metadata": {
        "id": "hV1rG_Az8vAy"
      },
      "execution_count": null,
      "outputs": []
    },
    {
      "cell_type": "code",
      "source": [
        "print(hh)"
      ],
      "metadata": {
        "id": "z7HvlPGt8_kB"
      },
      "execution_count": null,
      "outputs": []
    },
    {
      "cell_type": "code",
      "source": [
        "hh"
      ],
      "metadata": {
        "id": "kuNUpoax9AoC"
      },
      "execution_count": null,
      "outputs": []
    },
    {
      "cell_type": "code",
      "source": [
        "class Odometer:\n",
        "    def __init__(self, size):\n",
        "        self.SIZE = size\n",
        "        self.START = int(\"123456789\"[:size])\n",
        "        self.LIMIT = int(\"123456789\"[-size:])\n",
        "        self.reading = self.START\n",
        "\n",
        "    def __str__(self):\n",
        "        return str(self.reading)\n",
        "\n",
        "    def __repr__(self):\n",
        "        return str(self.START) + \" <= \"\\\n",
        "        + str(self.reading) + \" <= \" + str(self.LIMIT)"
      ],
      "metadata": {
        "id": "UM9bPFkd9A_j"
      },
      "execution_count": null,
      "outputs": []
    },
    {
      "cell_type": "code",
      "source": [
        "o = Odometer(5)"
      ],
      "metadata": {
        "id": "RG3elGHu98Xb"
      },
      "execution_count": null,
      "outputs": []
    },
    {
      "cell_type": "code",
      "source": [
        "print(o)"
      ],
      "metadata": {
        "id": "589Tv_zi-ACy"
      },
      "execution_count": null,
      "outputs": []
    },
    {
      "cell_type": "code",
      "source": [
        "o"
      ],
      "metadata": {
        "id": "vWkvNH-1-BE1"
      },
      "execution_count": null,
      "outputs": []
    },
    {
      "cell_type": "code",
      "source": [
        "repr(o)"
      ],
      "metadata": {
        "id": "xIVRQG6T-Bl3"
      },
      "execution_count": null,
      "outputs": []
    },
    {
      "cell_type": "code",
      "source": [
        "def is_valid(k: int) -> bool:\n",
        "    sk = str(k)\n",
        "    return all([a < b for a, b in zip(sk, sk[1:])])\n",
        "\n",
        "class Odometer:\n",
        "    def __init__(self, size):\n",
        "        self.SIZE = size\n",
        "        self.START = int(\"123456789\"[:size])\n",
        "        self.LIMIT = int(\"123456789\"[-size:])\n",
        "        self.reading = self.START\n",
        "\n",
        "    def __str__(self) -> str:\n",
        "        return str(self.reading)\n",
        "\n",
        "    def __repr__(self) -> str:\n",
        "        return str(self.START) + \" <= \"\\\n",
        "        + str(self.reading) + \" <= \" + str(self.LIMIT)\n",
        "\n",
        "    def forward(self, steps=1):\n",
        "        for _ in range(steps):\n",
        "            if self.reading == self.LIMIT:\n",
        "                self.reading = self.START\n",
        "            else:\n",
        "                self.reading += 1\n",
        "                while not is_valid(self.reading):\n",
        "                    self.reading += 1"
      ],
      "metadata": {
        "id": "PCTQBhnN-NAR"
      },
      "execution_count": null,
      "outputs": []
    },
    {
      "cell_type": "code",
      "source": [
        "p = Odometer(4)"
      ],
      "metadata": {
        "id": "RWKuQ426_ehA"
      },
      "execution_count": null,
      "outputs": []
    },
    {
      "cell_type": "code",
      "source": [
        "print(p)"
      ],
      "metadata": {
        "id": "nkqFWGQu_sSf"
      },
      "execution_count": null,
      "outputs": []
    },
    {
      "cell_type": "code",
      "source": [
        "p.forward(18)"
      ],
      "metadata": {
        "id": "QX98c7c2_tVW"
      },
      "execution_count": null,
      "outputs": []
    },
    {
      "cell_type": "code",
      "source": [
        "print(p)"
      ],
      "metadata": {
        "id": "6iE9QZa8_vKV"
      },
      "execution_count": null,
      "outputs": []
    },
    {
      "cell_type": "code",
      "source": [
        "p.forward(987)"
      ],
      "metadata": {
        "id": "MQpGOd2O_wNi"
      },
      "execution_count": null,
      "outputs": []
    },
    {
      "cell_type": "code",
      "source": [
        "print(p)"
      ],
      "metadata": {
        "id": "7mgbMF12_ygh"
      },
      "execution_count": null,
      "outputs": []
    },
    {
      "cell_type": "code",
      "source": [
        "p.forward(10989)"
      ],
      "metadata": {
        "id": "W7jXTjS5_zcS"
      },
      "execution_count": null,
      "outputs": []
    },
    {
      "cell_type": "code",
      "source": [
        "print(p)"
      ],
      "metadata": {
        "id": "V67BFyQ0_2za"
      },
      "execution_count": null,
      "outputs": []
    },
    {
      "cell_type": "code",
      "source": [
        "def is_valid(k: int) -> bool:\n",
        "    sk = str(k)\n",
        "    return all([a < b for a, b in zip(sk, sk[1:])])\n",
        "\n",
        "class Odometer:\n",
        "    def __init__(self, size):\n",
        "        self.SIZE = size\n",
        "        self.START = int(\"123456789\"[:size])\n",
        "        self.LIMIT = int(\"123456789\"[-size:])\n",
        "        self.reading = self.START\n",
        "\n",
        "    def __str__(self) -> str:\n",
        "        return str(self.reading)\n",
        "\n",
        "    def __repr__(self) -> str:\n",
        "        return str(self.START) + \" <= \"\\\n",
        "        + str(self.reading) + \" <= \" + str(self.LIMIT)\n",
        "\n",
        "    def forward(self, steps=1):\n",
        "        for _ in range(steps):\n",
        "            if self.reading == self.LIMIT:\n",
        "                self.reading = self.START\n",
        "            else:\n",
        "                self.reading += 1\n",
        "                while not is_valid(self.reading):\n",
        "                    self.reading += 1\n",
        "\n",
        "    def backward(self, steps=1):\n",
        "        for _ in range(steps):\n",
        "            if self.reading == self.START:\n",
        "                self.reading = self.LIMIT\n",
        "            else:\n",
        "                self.reading -= 1\n",
        "                while not is_valid(self.reading):\n",
        "                    self.reading -= 1\n",
        "\n",
        "    def distance(self, other) -> int:\n",
        "        if self.SIZE != other.SIZE:\n",
        "            return -1\n",
        "        copy = Odometer(self.SIZE)\n",
        "        copy.reading = self.reading\n",
        "        distance = 0\n",
        "        while copy.reading != other.reading:\n",
        "            copy.forward()\n",
        "            distance += 1\n",
        "        return distance\n"
      ],
      "metadata": {
        "id": "fZM6o5gH_4hj"
      },
      "execution_count": null,
      "outputs": []
    },
    {
      "cell_type": "code",
      "source": [
        "p = Odometer(4)\n",
        "q = Odometer(4)\n",
        "r = Odometer(3)"
      ],
      "metadata": {
        "id": "RbCdK3InAoLf"
      },
      "execution_count": null,
      "outputs": []
    },
    {
      "cell_type": "code",
      "source": [
        "p.forward(20)\n",
        "q.backward(17)\n",
        "print(p, q, r)"
      ],
      "metadata": {
        "id": "oLWcGIUaAvj_"
      },
      "execution_count": null,
      "outputs": []
    },
    {
      "cell_type": "code",
      "source": [
        "print(p.distance(q))\n",
        "print(q.distance(p))\n",
        "print(r.distance(p))"
      ],
      "metadata": {
        "id": "BAnnZ5qjA2Xp"
      },
      "execution_count": null,
      "outputs": []
    },
    {
      "cell_type": "code",
      "source": [],
      "metadata": {
        "id": "McpHmhHJA_11"
      },
      "execution_count": null,
      "outputs": []
    }
  ]
}