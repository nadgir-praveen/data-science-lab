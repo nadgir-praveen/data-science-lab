{
  "nbformat": 4,
  "nbformat_minor": 0,
  "metadata": {
    "colab": {
      "private_outputs": true,
      "provenance": [],
      "include_colab_link": true
    },
    "kernelspec": {
      "name": "python3",
      "display_name": "Python 3"
    },
    "language_info": {
      "name": "python"
    }
  },
  "cells": [
    {
      "cell_type": "markdown",
      "metadata": {
        "id": "view-in-github",
        "colab_type": "text"
      },
      "source": [
        "<a href=\"https://colab.research.google.com/github/nadgir-praveen/data-science-lab/blob/main/python-tests/CDS7_Python_20231105.ipynb\" target=\"_parent\"><img src=\"https://colab.research.google.com/assets/colab-badge.svg\" alt=\"Open In Colab\"/></a>"
      ]
    },
    {
      "cell_type": "markdown",
      "source": [
        "## Warm up problems: Roman to Arabic, Arabic to Roman\n",
        "\n",
        "#Main discussion :: Odometer"
      ],
      "metadata": {
        "id": "OEVGpNo-h4ix"
      }
    },
    {
      "cell_type": "markdown",
      "source": [
        "# Problem 1\n",
        "# Convert an indo-arabic (usual) number, say $n$ to its Roman equivalent.\n",
        "\n",
        "## Given $0 < n < 4000$\n",
        "\n",
        "## Examples:\n",
        "## $2183 ⇒ MMCLXXXIII$\n",
        "## $1292 ⇒ MCCXCII$\n"
      ],
      "metadata": {
        "id": "e5h6uNDciOGg"
      }
    },
    {
      "cell_type": "code",
      "source": [
        "def to_roman(n: int) -> str:\n",
        "    thousands = [\"\", \"M\", \"MM\", \"MMM\"]\n",
        "    hundreds  = [\"\", \"C\", \"CC\", \"CCC\", \"CD\", \"D\", \"DC\", \"DCC\", \"DCCC\", \"CM\"]\n",
        "    tens      = [\"\", \"X\", \"XX\", \"XXX\", \"XL\", \"L\", \"LX\", \"LXX\", \"LXXX\", \"XC\"]\n",
        "    units     = [\"\", \"I\", \"II\", \"III\", \"IV\", \"V\", \"VI\", \"VII\", \"VIII\", \"IX\"]\n",
        "    thou, n = n // 1000, n % 1000\n",
        "    #thou, n = divmod(n, 1000)\n",
        "    hund, n = n // 100,  n % 100\n",
        "    return thousands[thou] + hundreds[hund] + tens[n // 10] + units[n % 10]"
      ],
      "metadata": {
        "id": "oxwPGfVfimzS"
      },
      "execution_count": null,
      "outputs": []
    },
    {
      "cell_type": "code",
      "source": [
        "def to_roman_B(n: int) -> str:\n",
        "    romans = {1000: \"M\", 900: \"CM\", 500: \"D\", 400: \"CD\",\n",
        "              100: \"C\",  90: \"XC\",  50: \"L\",  40: \"XL\",\n",
        "              10: \"X\",   9: \"IX\",   5: \"V\",   4: \"IV\", 1: \"I\"}\n",
        "    roman = \"\"\n",
        "    for denom in romans:\n",
        "        # for denom in romans.keys():\n",
        "        # for denom in sorted(romans.keys(), reverse=True)\n",
        "        roman += (n // denom) * romans[denom]\n",
        "        n %= denom\n",
        "    return roman"
      ],
      "metadata": {
        "id": "9TSeZLETp7an"
      },
      "execution_count": null,
      "outputs": []
    },
    {
      "cell_type": "code",
      "source": [
        "to_roman_B(2183)"
      ],
      "metadata": {
        "id": "v-U84maPuwG3"
      },
      "execution_count": null,
      "outputs": []
    },
    {
      "cell_type": "code",
      "source": [
        "for a in \"asdf\":\n",
        "    print(a)"
      ],
      "metadata": {
        "id": "RDW3Fr_4rYLk"
      },
      "execution_count": null,
      "outputs": []
    },
    {
      "cell_type": "code",
      "source": [
        "4 * \"HELLO\""
      ],
      "metadata": {
        "id": "mLisAK5BsDWi"
      },
      "execution_count": null,
      "outputs": []
    },
    {
      "cell_type": "code",
      "source": [
        " romans = {1000: \"M\", 900: \"CM\", 500: \"D\", 400: \"CD\",\n",
        "              100: \"C\",  90: \"XC\",  50: \"L\",  40: \"XL\",\n",
        "              10: \"X\",   9: \"IX\",   5: \"V\",   4: \"IV\", 1: \"I\"}"
      ],
      "metadata": {
        "id": "ct1wLUlCsKXP"
      },
      "execution_count": null,
      "outputs": []
    },
    {
      "cell_type": "code",
      "source": [
        "\"P\" in romans.values()"
      ],
      "metadata": {
        "id": "KW4DUQd0uLm3"
      },
      "execution_count": null,
      "outputs": []
    },
    {
      "cell_type": "code",
      "source": [
        "\"M\" in romans.values()"
      ],
      "metadata": {
        "id": "zX3SnpdauQCu"
      },
      "execution_count": null,
      "outputs": []
    },
    {
      "cell_type": "code",
      "source": [
        "romans.keys()"
      ],
      "metadata": {
        "id": "cf0YqDc1uU0T"
      },
      "execution_count": null,
      "outputs": []
    },
    {
      "cell_type": "code",
      "source": [
        "list(romans.keys())"
      ],
      "metadata": {
        "id": "Y8B1FcyeuXbj"
      },
      "execution_count": null,
      "outputs": []
    },
    {
      "cell_type": "markdown",
      "source": [
        "# Problem 2\n",
        "## Given a **valid** roman number, convert it into the equivalent indo-arabic number:"
      ],
      "metadata": {
        "id": "k4OCHItWuf4K"
      }
    },
    {
      "cell_type": "code",
      "source": [
        "def from_roman(roman: str) -> int:\n",
        "    romans = {\"M\": 1000, \"D\": 500, \"C\": 100, \"L\": 50, \"X\": 10, \"V\": 5, \"I\": 1}\n",
        "\n",
        "    roman = roman.replace(\"CM\", \"DCCCC\").replace(\"CD\", \"CCCC\").\\\n",
        "        replace(\"XC\", \"LXXXX\").replace(\"XL\", \"XXXX\").\\\n",
        "        replace(\"IX\", \"VIIII\").replace(\"IV\", \"IIII\")\n",
        "\n",
        "    return sum([romans[digit] for digit in roman])"
      ],
      "metadata": {
        "id": "1FKDY06rvFUa"
      },
      "execution_count": null,
      "outputs": []
    },
    {
      "cell_type": "code",
      "source": [
        "from_roman(\"MCMXLI\")"
      ],
      "metadata": {
        "id": "VRuk4EZ7xGih"
      },
      "execution_count": null,
      "outputs": []
    },
    {
      "cell_type": "markdown",
      "source": [
        "# Odometer"
      ],
      "metadata": {
        "id": "M5LZvP0C1f6c"
      }
    },
    {
      "cell_type": "code",
      "source": [
        "def get_limits(reading: int) -> tuple[int, int]:\n",
        "    DIGITS = \"123456789\"\n",
        "    size = len(str(reading))\n",
        "    return int(DIGITS[:size]), int(DIGITS[-size:])"
      ],
      "metadata": {
        "id": "QVDi_pRA50UX"
      },
      "execution_count": null,
      "outputs": []
    },
    {
      "cell_type": "code",
      "source": [
        "get_limits(349)"
      ],
      "metadata": {
        "id": "9vHXgpI7CEtS"
      },
      "execution_count": null,
      "outputs": []
    },
    {
      "cell_type": "code",
      "source": [
        "def get_limits_B(reading: int) -> tuple[int, int]:\n",
        "    offset = len(str(reading)) - 2\n",
        "    return ((12, 89), (123, 789), (1234, 6789), (12345,56789), (123456, 456789),\n",
        "            (1234567, 3456789), (12345678, 23456789))[offset]"
      ],
      "metadata": {
        "id": "ME0s3iRCCG8J"
      },
      "execution_count": null,
      "outputs": []
    },
    {
      "cell_type": "code",
      "source": [
        "def is_ascending(n: int) -> bool:\n",
        "    sn = str(n)\n",
        "    return all([a > b for a, b in zip(sn[1:], sn)])"
      ],
      "metadata": {
        "id": "GMoF0iREC3BD"
      },
      "execution_count": null,
      "outputs": []
    },
    {
      "cell_type": "code",
      "source": [
        "def is_ascending_A(n: int)-> bool:\n",
        "    if n < 10:\n",
        "        return True\n",
        "    if (n % 10) <= (n //10) % 10:\n",
        "        return False\n",
        "    else:\n",
        "        return is_ascending_A(n // 10)"
      ],
      "metadata": {
        "id": "a6alER8PDLDo"
      },
      "execution_count": null,
      "outputs": []
    },
    {
      "cell_type": "code",
      "source": [
        "def next_reading(n: int) -> int:\n",
        "    lo, hi = get_limits(n)\n",
        "    if n == hi:\n",
        "        return lo\n",
        "    n += 1\n",
        "    while not is_ascending(n):\n",
        "        n += 1\n",
        "    return n"
      ],
      "metadata": {
        "id": "SdMfYw65DiDJ"
      },
      "execution_count": null,
      "outputs": []
    },
    {
      "cell_type": "code",
      "source": [
        "def prev_reading(n: int) -> int:\n",
        "    lo, hi = get_limits(n)\n",
        "    if n == lo:\n",
        "        return hi\n",
        "    n -= 1\n",
        "    while not is_ascending(n):\n",
        "        n -= 1\n",
        "    return n"
      ],
      "metadata": {
        "id": "LrECCw8qErQa"
      },
      "execution_count": null,
      "outputs": []
    },
    {
      "cell_type": "code",
      "source": [
        "def next_nth_reading(reading: int, steps: int) -> int:\n",
        "    for _ in range(steps):\n",
        "        reading = next_reading(reading)\n",
        "    return reading"
      ],
      "metadata": {
        "id": "c7WiHPKVE4En"
      },
      "execution_count": null,
      "outputs": []
    },
    {
      "cell_type": "code",
      "source": [
        "def prev_nth_reading(reading: int, steps: int) -> int:\n",
        "    for _ in range(steps):\n",
        "        reading = prev_reading(reading)\n",
        "    return reading"
      ],
      "metadata": {
        "id": "xmQ4cw6pFJ7U"
      },
      "execution_count": null,
      "outputs": []
    },
    {
      "cell_type": "code",
      "source": [
        "def distance(a_reading: int, b_reading: int) -> int:\n",
        "    if len(str(a_reading)) != len(str(b_reading)):\n",
        "        return -1\n",
        "    distance = 0\n",
        "    while a_reading != b_reading:\n",
        "        a_reading = next_reading(a_reading)\n",
        "        distance += 1\n",
        "    return distance"
      ],
      "metadata": {
        "id": "S-PyPD_bFXxH"
      },
      "execution_count": null,
      "outputs": []
    },
    {
      "cell_type": "code",
      "source": [
        "next_nth_reading(128, 2378)"
      ],
      "metadata": {
        "id": "ensaFWWSGBx8"
      },
      "execution_count": null,
      "outputs": []
    },
    {
      "cell_type": "code",
      "source": [
        "def is_ascending_C(n: int) -> bool:\n",
        "    return n == int(''.join(sorted(set(str(n)))))"
      ],
      "metadata": {
        "id": "ZhahbDQRGHT2"
      },
      "execution_count": null,
      "outputs": []
    },
    {
      "cell_type": "code",
      "source": [
        "is_ascending_C(1238)"
      ],
      "metadata": {
        "id": "T-6PrEQiHSkd"
      },
      "execution_count": null,
      "outputs": []
    },
    {
      "cell_type": "code",
      "source": [
        "is_ascending_C(122)"
      ],
      "metadata": {
        "id": "oPJf8oHKHnRM"
      },
      "execution_count": null,
      "outputs": []
    },
    {
      "cell_type": "code",
      "source": [],
      "metadata": {
        "id": "3zdMDhMmHqOq"
      },
      "execution_count": null,
      "outputs": []
    }
  ]
}