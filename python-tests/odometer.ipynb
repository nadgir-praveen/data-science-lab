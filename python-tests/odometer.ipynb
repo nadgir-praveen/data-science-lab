{
  "nbformat": 4,
  "nbformat_minor": 0,
  "metadata": {
    "colab": {
      "provenance": [],
      "authorship_tag": "ABX9TyNzbiyqbVaLfuiGaCxMKPez",
      "include_colab_link": true
    },
    "kernelspec": {
      "name": "python3",
      "display_name": "Python 3"
    },
    "language_info": {
      "name": "python"
    }
  },
  "cells": [
    {
      "cell_type": "markdown",
      "metadata": {
        "id": "view-in-github",
        "colab_type": "text"
      },
      "source": [
        "<a href=\"https://colab.research.google.com/github/nadgir-praveen/data-science-lab/blob/main/python-tests/odometer.ipynb\" target=\"_parent\"><img src=\"https://colab.research.google.com/assets/colab-badge.svg\" alt=\"Open In Colab\"/></a>"
      ]
    },
    {
      "cell_type": "code",
      "source": [
        "def get_new_reading(reading: int, next=True) -> int:\n",
        "    new_reading = reading + 1 if next else reading - 1\n",
        "    digits = [int(d) for d in str(new_reading)]\n",
        "    old_digits = [int(d) for d in str(reading)]\n",
        "\n",
        "    if len(digits) > len(old_digits):\n",
        "        new_reading = get_new_reading(new_reading//10, next)\n",
        "    elif len(digits) < len(old_digits):\n",
        "        new_reading = get_new_reading(new_reading*10, next)\n",
        "    elif 0 in digits:\n",
        "        new_reading = get_new_reading(new_reading, next)\n",
        "    elif sorted(digits) != digits:\n",
        "        new_reading = get_new_reading(new_reading, next)\n",
        "    elif len([x for x in digits if digits.count(x)>1]):\n",
        "        new_reading = get_new_reading(new_reading, next)\n",
        "    else:\n",
        "        # no more conditions\n",
        "        pass\n",
        "    return new_reading\n",
        "get_new_reading(789, True)"
      ],
      "metadata": {
        "colab": {
          "base_uri": "https://localhost:8080/"
        },
        "id": "ag4ZQMAGP3Gq",
        "outputId": "0eacd41d-60bb-4c36-df3a-bf34d0d42758"
      },
      "execution_count": 47,
      "outputs": [
        {
          "output_type": "execute_result",
          "data": {
            "text/plain": [
              "123"
            ]
          },
          "metadata": {},
          "execution_count": 47
        }
      ]
    },
    {
      "cell_type": "code",
      "source": [
        "def nth_reading_after(reading:int, steps: int) -> int:\n",
        "    while steps:\n",
        "        steps-=1\n",
        "        reading = get_new_reading(reading, next=True)\n",
        "    return(reading)\n",
        "\n",
        "print(nth_reading_after(123, 8))\n"
      ],
      "metadata": {
        "colab": {
          "base_uri": "https://localhost:8080/"
        },
        "id": "FNGx_NqieQ0B",
        "outputId": "4ff5df56-d138-4943-ee1b-98c917a31c69"
      },
      "execution_count": 48,
      "outputs": [
        {
          "output_type": "stream",
          "name": "stdout",
          "text": [
            "135\n"
          ]
        }
      ]
    },
    {
      "cell_type": "code",
      "source": [
        "def nth_reading_before(reading:int, steps: int) -> int:\n",
        "    while steps:\n",
        "        steps-=1\n",
        "        reading = get_new_reading(reading, next=False)\n",
        "    return(reading)\n",
        "\n",
        "print(nth_reading_before(123, 5))\n"
      ],
      "metadata": {
        "colab": {
          "base_uri": "https://localhost:8080/"
        },
        "id": "i74JsF2nMcL2",
        "outputId": "3eb7df86-d728-4d11-bc64-77c68b366865"
      },
      "execution_count": 49,
      "outputs": [
        {
          "output_type": "stream",
          "name": "stdout",
          "text": [
            "589\n"
          ]
        }
      ]
    },
    {
      "cell_type": "code",
      "source": [
        "def next_reading(reading: int) -> int:\n",
        "    return(nth_reading_after(reading, steps=1))\n",
        "\n",
        "\n",
        "print(next_reading(789))"
      ],
      "metadata": {
        "colab": {
          "base_uri": "https://localhost:8080/"
        },
        "id": "2T-uNx0VXfG3",
        "outputId": "05ad974d-a3dd-441b-f65a-5e62cefcd397"
      },
      "execution_count": 50,
      "outputs": [
        {
          "output_type": "stream",
          "name": "stdout",
          "text": [
            "123\n"
          ]
        }
      ]
    },
    {
      "cell_type": "code",
      "source": [
        "def prev_reading(reading: int) -> int:\n",
        "    return(nth_reading_before(reading, steps=1))\n",
        "\n",
        "print(prev_reading(123))"
      ],
      "metadata": {
        "colab": {
          "base_uri": "https://localhost:8080/"
        },
        "id": "sHr1TTcKdrUC",
        "outputId": "95c47414-8c42-47ba-970b-badff3f6aea8"
      },
      "execution_count": 51,
      "outputs": [
        {
          "output_type": "stream",
          "name": "stdout",
          "text": [
            "789\n"
          ]
        }
      ]
    },
    {
      "cell_type": "code",
      "source": [
        "def distance(from_reading: int, to_reading:int) -> int:\n",
        "    steps = 0\n",
        "    while from_reading != to_reading:\n",
        "        steps += 1\n",
        "        from_reading = next_reading(from_reading)\n",
        "    return steps\n",
        "\n",
        "print(distance(789, 123))"
      ],
      "metadata": {
        "colab": {
          "base_uri": "https://localhost:8080/"
        },
        "id": "bFXCytvXNKSJ",
        "outputId": "e7dbd7ee-6c55-4570-9bf5-071365af8459"
      },
      "execution_count": 52,
      "outputs": [
        {
          "output_type": "stream",
          "name": "stdout",
          "text": [
            "1\n"
          ]
        }
      ]
    }
  ]
}