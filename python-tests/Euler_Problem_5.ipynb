{
  "nbformat": 4,
  "nbformat_minor": 0,
  "metadata": {
    "colab": {
      "provenance": [],
      "authorship_tag": "ABX9TyNZYxPTPnhkceVHfVzbe+fd",
      "include_colab_link": true
    },
    "kernelspec": {
      "name": "python3",
      "display_name": "Python 3"
    },
    "language_info": {
      "name": "python"
    }
  },
  "cells": [
    {
      "cell_type": "markdown",
      "metadata": {
        "id": "view-in-github",
        "colab_type": "text"
      },
      "source": [
        "<a href=\"https://colab.research.google.com/github/nadgir-praveen/data-science-lab/blob/main/python-tests/Euler_Problem_5.ipynb\" target=\"_parent\"><img src=\"https://colab.research.google.com/assets/colab-badge.svg\" alt=\"Open In Colab\"/></a>"
      ]
    },
    {
      "cell_type": "markdown",
      "source": [
        "Euler Problem 5\n",
        "\n",
        "2520 is the smallest number that can be divided by each of the numbers from 1 to 10 without any remainder.\n",
        "What is the smallest positive number that is evenly divisible by all of the numbers from 1 to 20?\n"
      ],
      "metadata": {
        "id": "Kj-KECLsNFxZ"
      }
    },
    {
      "cell_type": "code",
      "source": [
        "def lcm(n1: int, n2: int) -> int:\n",
        "    highest = n1 if n1 > n2 else n2\n",
        "    lowest = n1 if n1 < n2 else n2\n",
        "    i = highest\n",
        "    while i % lowest:\n",
        "        i += highest\n",
        "    return int(i)"
      ],
      "metadata": {
        "id": "VAg6RmO-iR-J"
      },
      "execution_count": 44,
      "outputs": []
    },
    {
      "cell_type": "code",
      "execution_count": 46,
      "metadata": {
        "colab": {
          "base_uri": "https://localhost:8080/"
        },
        "id": "_Vk9LAtINB3D",
        "outputId": "c143db25-4a84-41ad-9838-dc0e00cf2848"
      },
      "outputs": [
        {
          "output_type": "stream",
          "name": "stdout",
          "text": [
            "232792560\n"
          ]
        }
      ],
      "source": [
        "from functools import reduce\n",
        "\n",
        "print(reduce(lcm, range(1,20,1)))\n"
      ]
    }
  ]
}