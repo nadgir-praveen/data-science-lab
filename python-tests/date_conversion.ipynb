{
  "nbformat": 4,
  "nbformat_minor": 0,
  "metadata": {
    "colab": {
      "provenance": [],
      "authorship_tag": "ABX9TyOLqkqhjuROid1L2cXo/wD4",
      "include_colab_link": true
    },
    "kernelspec": {
      "name": "python3",
      "display_name": "Python 3"
    },
    "language_info": {
      "name": "python"
    }
  },
  "cells": [
    {
      "cell_type": "markdown",
      "metadata": {
        "id": "view-in-github",
        "colab_type": "text"
      },
      "source": [
        "<a href=\"https://colab.research.google.com/github/nadgir-praveen/data-science-lab/blob/main/python-tests/date_conversion.ipynb\" target=\"_parent\"><img src=\"https://colab.research.google.com/assets/colab-badge.svg\" alt=\"Open In Colab\"/></a>"
      ]
    },
    {
      "cell_type": "markdown",
      "source": [
        "Problem 6\n",
        "Given a date string of the form \"dd mon yyyy\" return the 7-digit integer yyyyddd.\n",
        "Examples\n",
        "\"17 Jan 2004\"  ⇒2004017\n",
        "\"24 JULY, 1996\"  ⇒1996206\n",
        "\"1 Mar 2004\"  ⇒2004061\n",
        "\"1 March, 1999\"  ⇒1999060\n",
        "The components may be separated by COMMA or SPACE or COMMA followed by a SPACE.\n",
        "\n",
        "The first separator and the second separator need not be the same\n",
        "\n",
        "The month name may be in upper case, capitalised or lower case\n",
        "\n",
        "The month name may be full or partial -- at least 3-characters"
      ],
      "metadata": {
        "id": "76Qgb0iEuPmK"
      }
    },
    {
      "cell_type": "code",
      "execution_count": 29,
      "metadata": {
        "colab": {
          "base_uri": "https://localhost:8080/"
        },
        "id": "jwdqpvcUt-2g",
        "outputId": "cd3bc8cd-1433-47ce-fa30-890e6afb708c"
      },
      "outputs": [
        {
          "output_type": "stream",
          "name": "stdout",
          "text": [
            "10 MAR 2004\n"
          ]
        }
      ],
      "source": [
        "def process_date(dates):\n",
        "    # year = dates[-4:]\n",
        "    # date = dates[:2] if dates[1].isdigit() else dates[0]\n",
        "\n",
        "    # month = dates[2 if dates[1].isdigit() else 1::3]\n",
        "    # print(month)\n",
        "    sdate, smon, syear = dates.replace(',', ' ').split()\n",
        "    date = int(sdate)\n",
        "    month = smon.upper()[:3]\n",
        "    yyyy = int(syear)\n",
        "    print(date, month, yyyy)\n",
        "\n",
        "process_date(\"10 , Mar 2004\")"
      ]
    },
    {
      "cell_type": "code",
      "source": [
        "COMMA, SPACE = ',', ' '\n",
        "def is_leap(yyyy: int) -> bool:\n",
        "    if yyyy % 100 == 0:\n",
        "        return yyyy % 400 == 0\n",
        "    else:\n",
        "        return yyyy % 4 == 0\n",
        "\n",
        "def julian(s: str) -> int:\n",
        "    days_upto_ordy = {\"JAN\": 0, \"FEB\": 31,\"MAR\": 59, \"APR\": 90,\n",
        "                      \"MAY\": 120,\"JUN\": 151, \"JUL\": 181, \"AUG\": 212,\n",
        "                      \"SEP\": 243, \"OCT\": 273, \"NOV\": 304, \"DEC\": 334}\n",
        "    days_upto_leap = {\"JAN\": 0, \"FEB\": 31,\"MAR\": 60, \"APR\": 91,\n",
        "                      \"MAY\": 121,\"JUN\": 152, \"JUL\": 182, \"AUG\": 213,\n",
        "                      \"SEP\": 244, \"OCT\": 274, \"NOV\": 305, \"DEC\": 335}\n",
        "    sdd, smon, syyyy = s.replace(COMMA, SPACE).split()\n",
        "    dd = int(sdd)\n",
        "    mon = smon.upper()[:3]\n",
        "    yyyy = int(syyyy)\n",
        "    days_upto = days_upto_leap if is_leap(yyyy) else days_upto_ordy\n",
        "    return yyyy * 1000 + dd + days_upto[mon]"
      ],
      "metadata": {
        "id": "N5KGiJR-4Nfj"
      },
      "execution_count": 30,
      "outputs": []
    },
    {
      "cell_type": "code",
      "source": [
        "julian(\"1 March, 1999\")"
      ],
      "metadata": {
        "id": "bfDmSIDj4Tz8",
        "outputId": "7eb1b17e-4131-42f8-c4cb-6735f9069833",
        "colab": {
          "base_uri": "https://localhost:8080/"
        }
      },
      "execution_count": 31,
      "outputs": [
        {
          "output_type": "execute_result",
          "data": {
            "text/plain": [
              "1999060"
            ]
          },
          "metadata": {},
          "execution_count": 31
        }
      ]
    }
  ]
}