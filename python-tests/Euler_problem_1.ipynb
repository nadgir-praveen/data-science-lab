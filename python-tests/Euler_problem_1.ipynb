{
  "nbformat": 4,
  "nbformat_minor": 0,
  "metadata": {
    "colab": {
      "provenance": [],
      "authorship_tag": "ABX9TyPMbM3pM+seoZH9U604k2k5",
      "include_colab_link": true
    },
    "kernelspec": {
      "name": "python3",
      "display_name": "Python 3"
    },
    "language_info": {
      "name": "python"
    }
  },
  "cells": [
    {
      "cell_type": "markdown",
      "metadata": {
        "id": "view-in-github",
        "colab_type": "text"
      },
      "source": [
        "<a href=\"https://colab.research.google.com/github/nadgir-praveen/data-science-lab/blob/main/python-tests/Euler_problem_1.ipynb\" target=\"_parent\"><img src=\"https://colab.research.google.com/assets/colab-badge.svg\" alt=\"Open In Colab\"/></a>"
      ]
    },
    {
      "cell_type": "code",
      "execution_count": 24,
      "metadata": {
        "colab": {
          "base_uri": "https://localhost:8080/"
        },
        "id": "MmxZJaFhsEFw",
        "outputId": "61a61142-7d67-4ddc-963d-9841f24cbb35"
      },
      "outputs": [
        {
          "output_type": "stream",
          "name": "stdout",
          "text": [
            "sum is 266333\n"
          ]
        }
      ],
      "source": [
        "max_num = 1000\n",
        "\n",
        "def add(num, i=1, x=0):\n",
        "  if num*i < max_num:\n",
        "    x = add(num, i+1, x+num*i)\n",
        "  return x\n",
        "print(\"sum is {}\".format(add(3)+add(5)))\n"
      ]
    },
    {
      "cell_type": "code",
      "source": [
        ""
      ],
      "metadata": {
        "id": "15AsUp1h2H4a"
      },
      "execution_count": null,
      "outputs": []
    }
  ]
}