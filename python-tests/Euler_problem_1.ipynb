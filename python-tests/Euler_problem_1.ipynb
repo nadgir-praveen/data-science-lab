{
  "nbformat": 4,
  "nbformat_minor": 0,
  "metadata": {
    "colab": {
      "provenance": [],
      "authorship_tag": "ABX9TyMDHNsVM30XEXM5eMiMLne0",
      "include_colab_link": true
    },
    "kernelspec": {
      "name": "python3",
      "display_name": "Python 3"
    },
    "language_info": {
      "name": "python"
    }
  },
  "cells": [
    {
      "cell_type": "markdown",
      "metadata": {
        "id": "view-in-github",
        "colab_type": "text"
      },
      "source": [
        "<a href=\"https://colab.research.google.com/github/nadgir-praveen/data-science-lab/blob/main/python-tests/Euler_problem_1.ipynb\" target=\"_parent\"><img src=\"https://colab.research.google.com/assets/colab-badge.svg\" alt=\"Open In Colab\"/></a>"
      ]
    },
    {
      "cell_type": "markdown",
      "source": [
        "Euler Problem 1:\n",
        "\n",
        "If we list all the natural numbers below 10 that are multiples of 3 or 5, we get 3, 5, 6 and 9. The sum of these multiples is 23. Find the sum of all the multiples of 3 or 5 below 1000."
      ],
      "metadata": {
        "id": "doNcXJAWf5uu"
      }
    },
    {
      "cell_type": "code",
      "execution_count": null,
      "metadata": {
        "colab": {
          "base_uri": "https://localhost:8080/"
        },
        "id": "MmxZJaFhsEFw",
        "outputId": "61a61142-7d67-4ddc-963d-9841f24cbb35"
      },
      "outputs": [
        {
          "output_type": "stream",
          "name": "stdout",
          "text": [
            "sum is 266333\n"
          ]
        }
      ],
      "source": [
        "max_num = 1000\n",
        "\n",
        "def add(num, i=1, x=0):\n",
        "  if num*i < max_num:\n",
        "    x = add(num, i+1, x+num*i)\n",
        "  return x\n",
        "print(\"sum is {}\".format(add(3)+add(5)))\n"
      ]
    },
    {
      "cell_type": "code",
      "source": [
        "sum = lambda num=3, i=1, x=0 : sum(num, i+1, x+num*i) if num*i < 1000 else x\n",
        "print(sum(3)+sum(5))"
      ],
      "metadata": {
        "id": "15AsUp1h2H4a",
        "colab": {
          "base_uri": "https://localhost:8080/"
        },
        "outputId": "a1fe82c2-1f4e-4c3d-cab2-b735bf8b3975"
      },
      "execution_count": 3,
      "outputs": [
        {
          "output_type": "stream",
          "name": "stdout",
          "text": [
            "266333\n"
          ]
        }
      ]
    }
  ]
}