{
  "nbformat": 4,
  "nbformat_minor": 0,
  "metadata": {
    "colab": {
      "provenance": [],
      "authorship_tag": "ABX9TyPlGRZKGANmrvYmcbooxRN7",
      "include_colab_link": true
    },
    "kernelspec": {
      "name": "python3",
      "display_name": "Python 3"
    },
    "language_info": {
      "name": "python"
    }
  },
  "cells": [
    {
      "cell_type": "markdown",
      "metadata": {
        "id": "view-in-github",
        "colab_type": "text"
      },
      "source": [
        "<a href=\"https://colab.research.google.com/github/nadgir-praveen/data-science-lab/blob/main/python-tests/Kaprekars_Constant.ipynb\" target=\"_parent\"><img src=\"https://colab.research.google.com/assets/colab-badge.svg\" alt=\"Open In Colab\"/></a>"
      ]
    },
    {
      "cell_type": "markdown",
      "source": [],
      "metadata": {
        "id": "cRFt5ibcgjB5"
      }
    },
    {
      "cell_type": "markdown",
      "source": [
        "7 Kaprekar’s Constant\n",
        "\n",
        "Step 1: Choose any four digit number, say n. This is the first number of the\n",
        "sequence.\n",
        "\n",
        "Step 2: Create a new number α which is the largest number that can be\n",
        "formed by using the four digits of n.\n",
        "\n",
        "Step 3: Create a new number β which is the smallest number that can be\n",
        "formed by using the four digits of n.\n",
        "\n",
        "Step 4: α − β is the next number in the sequence.\n",
        "\n",
        "Step 5: Repeat from step 2.\n",
        "\n",
        "The sequence is called a Kaprekar sequence and the function K(n) = α − β\n",
        "is the Kaprekar mapping. Some numbers map to themselves; these are the fixed\n",
        "points of the Kaprekar mapping, and are called Kaprekar’s constants. Zero is\n",
        "a Kaprekar’s constant, and so is called a trivial Kaprekar’s constant. All other\n",
        "Kaprekar’s constant are nontrivial Kaprekar’s constants.\n",
        "\n",
        "For example, starting with 3524,\n",
        "K(3524) = 5432 − 2345 = 3087\n",
        "K(3087) = 8730 − 378 = 8352\n",
        "K(8352) = 8532 − 2358 = 6174 K(6174) = 7641 − 1467 = 6174\n",
        "with 6174 as a Kaprekar’s constant."
      ],
      "metadata": {
        "id": "CHHYncVxkZGb"
      }
    },
    {
      "cell_type": "code",
      "source": [
        "def convert_to_num(string):\n",
        "    if len(string)>1:\n",
        "        return string[-1]+convert_to_num(string[:-1])*10\n",
        "    else:\n",
        "        return string[-1]\n"
      ],
      "metadata": {
        "colab": {
          "base_uri": "https://localhost:8080/"
        },
        "id": "RdsqtyiSoUaq",
        "outputId": "fbe995bf-255d-49ac-9cb2-c8c1c2884f1f"
      },
      "execution_count": 3,
      "outputs": [
        {
          "output_type": "stream",
          "name": "stdout",
          "text": [
            "1234\n"
          ]
        }
      ]
    },
    {
      "cell_type": "code",
      "source": [
        "def get_next(num: int):\n",
        "    digits = [int(x) for x in str(num)]\n",
        "    low = convert_to_num(sorted(digits))\n",
        "    high = convert_to_num(sorted(digits, reverse=True))\n",
        "    return high-low\n",
        "\n",
        "def Kaprekar_seq(num: int):\n",
        "    seq = []\n",
        "    while num not in seq:\n",
        "        seq.append(num)\n",
        "        num = get_next(num)\n",
        "    return seq\n",
        "\n",
        "\n",
        "print(Kaprekar_seq(865296432))"
      ],
      "metadata": {
        "colab": {
          "base_uri": "https://localhost:8080/"
        },
        "id": "BtVpjyBNgqev",
        "outputId": "1e91ab6c-fcc7-477e-c684-5d0032be4d2b"
      },
      "execution_count": 27,
      "outputs": [
        {
          "output_type": "stream",
          "name": "stdout",
          "text": [
            "[865296432, 763197633, 844296552, 762098733, 964395531, 863098632, 965296431, 873197622, 865395432, 753098643, 954197541, 883098612, 976494321, 874197522]\n"
          ]
        }
      ]
    }
  ]
}