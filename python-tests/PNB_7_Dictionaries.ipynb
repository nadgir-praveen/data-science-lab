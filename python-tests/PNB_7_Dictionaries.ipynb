{
  "nbformat": 4,
  "nbformat_minor": 0,
  "metadata": {
    "colab": {
      "provenance": [],
      "include_colab_link": true
    },
    "kernelspec": {
      "name": "python3",
      "display_name": "Python 3"
    },
    "language_info": {
      "name": "python"
    }
  },
  "cells": [
    {
      "cell_type": "markdown",
      "metadata": {
        "id": "view-in-github",
        "colab_type": "text"
      },
      "source": [
        "<a href=\"https://colab.research.google.com/github/nadgir-praveen/data-science-lab/blob/main/python-tests/PNB_7_Dictionaries.ipynb\" target=\"_parent\"><img src=\"https://colab.research.google.com/assets/colab-badge.svg\" alt=\"Open In Colab\"/></a>"
      ]
    },
    {
      "cell_type": "markdown",
      "source": [
        "## Practice Notebook"
      ],
      "metadata": {
        "id": "xT7BS95x1w-9"
      }
    },
    {
      "cell_type": "markdown",
      "source": [
        "Dictionary is a composite datatype in the Python programming language. In a way, it is similar to lists. Lists are a collection of elements. Dictionaries are a collection of key, value pairs. Solutions to many programming problems can be easy and more concise with dictionaries. Here we explain all the important methods in the dictionary and some problem-solving with examples.\n",
        "\n",
        "Click [here](https://docs.python.org/3/library/stdtypes.html#mapping-types-dict) to go through official documentation on `dictionaries`."
      ],
      "metadata": {
        "id": "22fQfO2n3R4Z"
      }
    },
    {
      "cell_type": "markdown",
      "source": [
        "#### Exercise 1:\n",
        "From The dictionary created below, do the following:\n",
        "\n",
        "* Return a list of all the keys, using `list()` or `.keys()`.\n",
        "\n",
        "* Return the values of the dictionary using `.values()`.\n",
        "\n"
      ],
      "metadata": {
        "id": "J093ur414qXD"
      }
    },
    {
      "cell_type": "code",
      "execution_count": 2,
      "metadata": {
        "id": "2YqKC6m61rqZ"
      },
      "outputs": [],
      "source": [
        "dict1 = {\"Delhi\" : \"New Delhi\", \"Uttar Pradesh\" : \"Lucknow\",\"Madhya Pradesh\" : \"Bhopal\",\"Karnataka\" : \"Bengaluru\",\"Assam\" : \"Dispur\",\"Gujarat\" : \"Gandhinagar\"}"
      ]
    },
    {
      "cell_type": "code",
      "source": [
        "dict1.keys()"
      ],
      "metadata": {
        "id": "x9NwmHSE9tXz",
        "colab": {
          "base_uri": "https://localhost:8080/"
        },
        "outputId": "01f667a3-f456-4b90-ce00-7b0cf18388dd"
      },
      "execution_count": 4,
      "outputs": [
        {
          "output_type": "execute_result",
          "data": {
            "text/plain": [
              "dict_keys(['Delhi', 'Uttar Pradesh', 'Madhya Pradesh', 'Karnataka', 'Assam', 'Gujarat'])"
            ]
          },
          "metadata": {},
          "execution_count": 4
        }
      ]
    },
    {
      "cell_type": "code",
      "source": [
        "dict1.values()"
      ],
      "metadata": {
        "id": "K6JM6mps9zGR",
        "colab": {
          "base_uri": "https://localhost:8080/"
        },
        "outputId": "3156541e-b1e6-4151-fda1-78e6461adcae"
      },
      "execution_count": 5,
      "outputs": [
        {
          "output_type": "execute_result",
          "data": {
            "text/plain": [
              "dict_values(['New Delhi', 'Lucknow', 'Bhopal', 'Bengaluru', 'Dispur', 'Gandhinagar'])"
            ]
          },
          "metadata": {},
          "execution_count": 5
        }
      ]
    },
    {
      "cell_type": "markdown",
      "source": [
        "#### Exercise 2:\n",
        "From the dictionary created in Exercise 1-\n",
        "\n",
        "* Display the capital of Karnataka by retrieving the corresponding value for the key."
      ],
      "metadata": {
        "id": "-g9lEVYr7QNt"
      }
    },
    {
      "cell_type": "code",
      "source": [
        "dict1.get('Karnataka')"
      ],
      "metadata": {
        "id": "7ZCZO0ms7ILp",
        "colab": {
          "base_uri": "https://localhost:8080/",
          "height": 35
        },
        "outputId": "26bb8f0d-408c-4012-822d-23c7678a8b47"
      },
      "execution_count": 6,
      "outputs": [
        {
          "output_type": "execute_result",
          "data": {
            "text/plain": [
              "'Bengaluru'"
            ],
            "application/vnd.google.colaboratory.intrinsic+json": {
              "type": "string"
            }
          },
          "metadata": {},
          "execution_count": 6
        }
      ]
    },
    {
      "cell_type": "markdown",
      "source": [
        "#### Exercise 3:\n",
        "\n",
        "Add (and print) a new element in the dictionary."
      ],
      "metadata": {
        "id": "HUJg6Y_w8K1c"
      }
    },
    {
      "cell_type": "code",
      "source": [
        "dict1['new_state'] = 'new_capital'\n",
        "print(dict1)"
      ],
      "metadata": {
        "id": "kDeZ642qgy8_",
        "colab": {
          "base_uri": "https://localhost:8080/"
        },
        "outputId": "682e1a9c-5b30-4b8b-a51e-94648c80268d"
      },
      "execution_count": 13,
      "outputs": [
        {
          "output_type": "stream",
          "name": "stdout",
          "text": [
            "{'Delhi': 'New Delhi', 'Uttar Pradesh': 'Lucknow', 'Madhya Pradesh': 'Bhopal', 'Karnataka': 'Bengaluru', 'Assam': 'Dispur', 'Gujarat': 'Gandhinagar', 'new_state': 'new_capital'}\n"
          ]
        }
      ]
    },
    {
      "cell_type": "markdown",
      "source": [
        "####Exercise 4:\n",
        "\n",
        "- Return the length of the dictionary using `len()`.\n"
      ],
      "metadata": {
        "id": "7lf9Hxs9CFFc"
      }
    },
    {
      "cell_type": "code",
      "source": [
        "len(dict1)"
      ],
      "metadata": {
        "id": "duut09pZB9F9",
        "colab": {
          "base_uri": "https://localhost:8080/"
        },
        "outputId": "cba5100f-05fb-433e-9e0d-6d5ee5bb58d1"
      },
      "execution_count": 9,
      "outputs": [
        {
          "output_type": "execute_result",
          "data": {
            "text/plain": [
              "7"
            ]
          },
          "metadata": {},
          "execution_count": 9
        }
      ]
    },
    {
      "cell_type": "markdown",
      "source": [
        "####Exercise 5:\n",
        "\n",
        "* Remove a key value pair from the dictionary.\n",
        "* Add the same key value pair again in the `dictionary`.\n",
        "* Display all the key-value pairs using `items()`."
      ],
      "metadata": {
        "id": "P-r0gerfEFyi"
      }
    },
    {
      "cell_type": "code",
      "source": [
        "del(dict1['new_state'])\n",
        "print(dict1)"
      ],
      "metadata": {
        "id": "5JdipHYYIrzG",
        "colab": {
          "base_uri": "https://localhost:8080/"
        },
        "outputId": "91e5223b-2150-4b2c-f0f5-a4f549354375"
      },
      "execution_count": 14,
      "outputs": [
        {
          "output_type": "stream",
          "name": "stdout",
          "text": [
            "{'Delhi': 'New Delhi', 'Uttar Pradesh': 'Lucknow', 'Madhya Pradesh': 'Bhopal', 'Karnataka': 'Bengaluru', 'Assam': 'Dispur', 'Gujarat': 'Gandhinagar'}\n"
          ]
        }
      ]
    },
    {
      "cell_type": "code",
      "source": [
        "dict1['new_state'] = 'new_capital'\n",
        "print(dict1)"
      ],
      "metadata": {
        "id": "Z1rzWNkkEe1U",
        "colab": {
          "base_uri": "https://localhost:8080/"
        },
        "outputId": "d3a7ea7b-3ad5-4a20-8744-af8d2ca22e4a"
      },
      "execution_count": 15,
      "outputs": [
        {
          "output_type": "stream",
          "name": "stdout",
          "text": [
            "{'Delhi': 'New Delhi', 'Uttar Pradesh': 'Lucknow', 'Madhya Pradesh': 'Bhopal', 'Karnataka': 'Bengaluru', 'Assam': 'Dispur', 'Gujarat': 'Gandhinagar', 'new_state': 'new_capital'}\n"
          ]
        }
      ]
    },
    {
      "cell_type": "code",
      "source": [
        "dict1.items()"
      ],
      "metadata": {
        "id": "jtQVrlnzDI5Z",
        "colab": {
          "base_uri": "https://localhost:8080/"
        },
        "outputId": "05e35d37-47b8-4b44-f581-2f8182ef9d1c"
      },
      "execution_count": 16,
      "outputs": [
        {
          "output_type": "execute_result",
          "data": {
            "text/plain": [
              "dict_items([('Delhi', 'New Delhi'), ('Uttar Pradesh', 'Lucknow'), ('Madhya Pradesh', 'Bhopal'), ('Karnataka', 'Bengaluru'), ('Assam', 'Dispur'), ('Gujarat', 'Gandhinagar'), ('new_state', 'new_capital')])"
            ]
          },
          "metadata": {},
          "execution_count": 16
        }
      ]
    },
    {
      "cell_type": "code",
      "source": [
        "# YOUR CODE HERE"
      ],
      "metadata": {
        "id": "VM6oA8j6DaVF"
      },
      "execution_count": null,
      "outputs": []
    },
    {
      "cell_type": "code",
      "source": [
        "# YOUR CODE HERE"
      ],
      "metadata": {
        "id": "r33SZ8yyFE69"
      },
      "execution_count": null,
      "outputs": []
    },
    {
      "cell_type": "code",
      "source": [
        "# YOUR CODE HERE"
      ],
      "metadata": {
        "id": "60BUPAdHFSSj"
      },
      "execution_count": null,
      "outputs": []
    },
    {
      "cell_type": "markdown",
      "source": [
        "#### Exercise 6:\n",
        "\n",
        "Iterate over the keys of the dictionary using `for` and `.keys()` and print all the state capitals."
      ],
      "metadata": {
        "id": "O9LfCd_kL00L"
      }
    },
    {
      "cell_type": "code",
      "source": [
        "for state in dict1:\n",
        "    print(dict1[state])"
      ],
      "metadata": {
        "id": "_jmS3h7qLq8I",
        "colab": {
          "base_uri": "https://localhost:8080/"
        },
        "outputId": "d00d5ccf-cfd6-4da1-b541-12b888240eeb"
      },
      "execution_count": 18,
      "outputs": [
        {
          "output_type": "stream",
          "name": "stdout",
          "text": [
            "New Delhi\n",
            "Lucknow\n",
            "Bhopal\n",
            "Bengaluru\n",
            "Dispur\n",
            "Gandhinagar\n",
            "new_capital\n"
          ]
        }
      ]
    },
    {
      "cell_type": "markdown",
      "source": [
        "#### Exercise 7:\n",
        "\n",
        "* Initialize an empty dictionary ‘sen_map’.\n",
        "* Make the sentences all lower case.\n",
        "* Iterate over each word in the sentences.\n",
        "* Check if a word exists in the sen_map.\n",
        "* If not then add the word with a value of 1.\n",
        "* Otherwise, update the value of that word by 1."
      ],
      "metadata": {
        "id": "qvVSS8PSjDBT"
      }
    },
    {
      "cell_type": "code",
      "source": [
        "sents = \"TalentSprint is a digital platform designed to transform the lives of professionals in the new economy. Its blended bootcamps offer deeptech skills.\""
      ],
      "metadata": {
        "id": "NRHRUlggk4vs"
      },
      "execution_count": 25,
      "outputs": []
    },
    {
      "cell_type": "code",
      "source": [
        "sen_map = dict()\n",
        "sents = sents.lower()\n",
        "sents = sents.split()\n",
        "\n",
        "for word in sents:\n",
        "    if word in sen_map:\n",
        "        sen_map[word] += 1\n",
        "    else:\n",
        "        sen_map[word] = 1\n",
        "\n",
        "print(sen_map)\n"
      ],
      "metadata": {
        "id": "54llyHu8jNHC",
        "colab": {
          "base_uri": "https://localhost:8080/"
        },
        "outputId": "28fd1e4b-c25e-4138-b886-a2252a95841e"
      },
      "execution_count": 26,
      "outputs": [
        {
          "output_type": "stream",
          "name": "stdout",
          "text": [
            "{'talentsprint': 1, 'is': 1, 'a': 1, 'digital': 1, 'platform': 1, 'designed': 1, 'to': 1, 'transform': 1, 'the': 2, 'lives': 1, 'of': 1, 'professionals': 1, 'in': 1, 'new': 1, 'economy.': 1, 'its': 1, 'blended': 1, 'bootcamps': 1, 'offer': 1, 'deeptech': 1, 'skills.': 1}\n"
          ]
        }
      ]
    },
    {
      "cell_type": "markdown",
      "source": [
        "#### Exercies 8:\n",
        "\n",
        "* Initialize an empty dictionary ‘counts’.\n",
        "* Define the following list names = ['Jack', 'John', 'Jill', 'John'].\n",
        "* Print the frequency count of elements in a list using a dictionary.\n",
        "* Using get method print the value of john.\n",
        "* Print a list of tuples containing the key-value pairs in ‘counts’.\n",
        "\n"
      ],
      "metadata": {
        "id": "T-D_DCUcPcqJ"
      }
    },
    {
      "cell_type": "code",
      "source": [
        "counts = {}\n",
        "names = ['Jack', 'John', 'Jill', 'John']"
      ],
      "metadata": {
        "id": "JAByE5_rPZmr"
      },
      "execution_count": 27,
      "outputs": []
    },
    {
      "cell_type": "code",
      "source": [
        "# YOUR CODE HERE # The Python dictionary .get() method provides a convenient way of getting the value of a key from a dictionary\n",
        "for n in names:\n",
        "    if n in counts:\n",
        "        counts[n] += 1\n",
        "    else:\n",
        "        counts[n] = 1\n",
        "\n",
        "print(counts.get('John'))\n",
        "print(counts)"
      ],
      "metadata": {
        "id": "RghSmebepmLS",
        "colab": {
          "base_uri": "https://localhost:8080/"
        },
        "outputId": "6db831d8-f461-45ba-dff0-75e39f201297"
      },
      "execution_count": 33,
      "outputs": [
        {
          "output_type": "stream",
          "name": "stdout",
          "text": [
            "2\n",
            "{'Jack': 1, 'John': 2, 'Jill': 1}\n"
          ]
        }
      ]
    },
    {
      "cell_type": "code",
      "source": [
        "print(list(counts.items()))"
      ],
      "metadata": {
        "id": "iOBm5ICRmnNT",
        "colab": {
          "base_uri": "https://localhost:8080/"
        },
        "outputId": "dcd6372b-20f6-4dac-cbe6-aae657865d61"
      },
      "execution_count": 36,
      "outputs": [
        {
          "output_type": "stream",
          "name": "stdout",
          "text": [
            "[('Jack', 1), ('John', 2), ('Jill', 1)]\n"
          ]
        }
      ]
    }
  ]
}