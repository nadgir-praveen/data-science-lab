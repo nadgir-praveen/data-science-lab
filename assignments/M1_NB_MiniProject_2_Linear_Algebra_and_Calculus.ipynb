{
  "nbformat": 4,
  "nbformat_minor": 0,
  "metadata": {
    "colab": {
      "provenance": [],
      "include_colab_link": true
    },
    "kernelspec": {
      "display_name": "Python 3",
      "language": "python",
      "name": "python3"
    },
    "language_info": {
      "codemirror_mode": {
        "name": "ipython",
        "version": 3
      },
      "file_extension": ".py",
      "mimetype": "text/x-python",
      "name": "python",
      "nbconvert_exporter": "python",
      "pygments_lexer": "ipython3",
      "version": "3.8.5"
    }
  },
  "cells": [
    {
      "cell_type": "markdown",
      "metadata": {
        "id": "view-in-github",
        "colab_type": "text"
      },
      "source": [
        "<a href=\"https://colab.research.google.com/github/nadgir-praveen/data-science-lab/blob/main/assignments/M1_NB_MiniProject_2_Linear_Algebra_and_Calculus.ipynb\" target=\"_parent\"><img src=\"https://colab.research.google.com/assets/colab-badge.svg\" alt=\"Open In Colab\"/></a>"
      ]
    },
    {
      "cell_type": "markdown",
      "metadata": {
        "id": "Vf7UdufgUVRm"
      },
      "source": [
        "# Advanced Certification Program in Computational Data Science\n",
        "## A program by IISc and TalentSprint\n",
        "### Mini Project Notebook: Linear Algebra and Calculus"
      ]
    },
    {
      "cell_type": "markdown",
      "metadata": {
        "id": "TnGEuHJusOup"
      },
      "source": [
        "## Problem Statement"
      ]
    },
    {
      "cell_type": "markdown",
      "metadata": {
        "id": "xlkm2qM2sQ-T"
      },
      "source": [
        " The task is to advise a petroleum company on how to meet the demands of their customers for motor oil, diesel oil and gasoline."
      ]
    },
    {
      "cell_type": "markdown",
      "metadata": {
        "id": "cs0B3ScgUVRv"
      },
      "source": [
        "## Learning Objectives"
      ]
    },
    {
      "cell_type": "markdown",
      "metadata": {
        "id": "Sq5piVQRUVRw"
      },
      "source": [
        "At the end of the experiment, you will be able to\n",
        "\n",
        "* create arrays and matrices in python\n",
        "* understand the concepts of linear equations\n",
        "* solve the system of linear equations"
      ]
    },
    {
      "cell_type": "markdown",
      "metadata": {
        "id": "IvKa0MVttqXf"
      },
      "source": [
        "### Data"
      ]
    },
    {
      "cell_type": "markdown",
      "metadata": {
        "id": "dRrGFyZOtsAj"
      },
      "source": [
        "From a barrel of crude oil, in one day, factory $A$ can produce\n",
        "* 20 gallons of motor oil,\n",
        "* 10 gallons of diesel oil, and\n",
        "* 5 gallons of gasoline\n",
        "\n",
        "Similarly, factory $B$ can produce\n",
        "* 4 gallons of motor oil,\n",
        "* 14 gallons of diesel oil, and\n",
        "* 5 gallons of gasoline\n",
        "\n",
        "while factory $C$ can produce\n",
        "* 4 gallons of motor oil,\n",
        "* 5 gallons of diesel oil, and\n",
        "* 12 gallons of gasoline\n",
        "\n",
        "There is also waste in the form of paraffin, among other things. Factory $A$ has 3 gallons of paraffin to dispose of per barrel of crude, factory $B$ 5 gallons, and factory $C$ 2 gallons."
      ]
    },
    {
      "cell_type": "markdown",
      "metadata": {
        "id": "UK_englE4HnA"
      },
      "source": [
        "**Note:** Your conclusion should include a discussion of the nature of the terms *unique*, *no solution*, *overdetermined* and *underdetermined* as they apply in the context of the oil factorys."
      ]
    },
    {
      "cell_type": "markdown",
      "metadata": {
        "id": "operating-latter"
      },
      "source": [
        "## Grading = 10 Points"
      ]
    },
    {
      "cell_type": "code",
      "source": [
        "# Importing the required libraries\n",
        "import numpy as np\n",
        "import scipy.misc\n",
        "from sympy import *\n",
        "import sympy\n",
        "import math"
      ],
      "metadata": {
        "id": "4QL6R7hGoXo5"
      },
      "execution_count": null,
      "outputs": []
    },
    {
      "cell_type": "markdown",
      "metadata": {
        "id": "zAitCztdraex"
      },
      "source": [
        "### Create an array\n",
        "\n",
        "Create an array of size 2x3 with arbitrary values."
      ]
    },
    {
      "cell_type": "code",
      "metadata": {
        "id": "owKFXLLzrqVb",
        "colab": {
          "base_uri": "https://localhost:8080/"
        },
        "outputId": "9cff81d4-1d2e-45ad-d6ee-e169974975f3"
      },
      "source": [
        "mat1 = np.array([[2,-2, 1],[1, 3, -1]])\n",
        "print(mat1)"
      ],
      "execution_count": null,
      "outputs": [
        {
          "output_type": "stream",
          "name": "stdout",
          "text": [
            "[[ 2 -2  1]\n",
            " [ 1  3 -1]]\n"
          ]
        }
      ]
    },
    {
      "cell_type": "markdown",
      "metadata": {
        "id": "K_7EztnGvzDK"
      },
      "source": [
        "### Create the system of Linear Equations"
      ]
    },
    {
      "cell_type": "markdown",
      "metadata": {
        "id": "zL9M9kmrv_ZA"
      },
      "source": [
        "Suppose the current daily demand from distributors is 6600 gallons of motor oil, 5100 gallons of diesel oil and 3100 of gasoline.\n",
        "\n",
        "Set up the system of equations which describes the above situation. Please include the units as well."
      ]
    },
    {
      "cell_type": "markdown",
      "metadata": {
        "id": "nbOcii0EZpUI"
      },
      "source": [
        "Let the number of barrels used by factory $A$, $B$ and $C$ are $x$, $y$ and $z$ respectively.\n",
        "\n",
        "Then the system of linear equations will be\n",
        "\n",
        "$$Motor\\ oil:\\ \\ \\ 20x + 4y + 4z = 6600$$\n",
        "\n",
        "$$Diesel\\ oil:\\ \\ \\ 10x + 14y + 5z = 5100$$\n",
        "\n",
        "$$Gasoline:\\ \\ \\ 5x + 5y + 12z = 3100$$"
      ]
    },
    {
      "cell_type": "markdown",
      "metadata": {
        "id": "1qLF2LvG2I8Y"
      },
      "source": [
        "### Solve the system of Linear Equation (2 points)"
      ]
    },
    {
      "cell_type": "markdown",
      "metadata": {
        "id": "FzjOkaq21_8L"
      },
      "source": [
        "How many barrels of crude oil each factory should get in order to meet the demand as a group. Remember that we can only provide each factory with an integral number of barrels."
      ]
    },
    {
      "cell_type": "code",
      "metadata": {
        "id": "Plx-kStlcGOW",
        "colab": {
          "base_uri": "https://localhost:8080/"
        },
        "outputId": "5bea3c76-fc99-4774-d464-de64d745b5f4"
      },
      "source": [
        "# Solve using Numpy library\n",
        "prod_capacity_moil_doil_gas = np.array([[20, 4, 4], [10, 14, 5], [5, 5, 12]])\n",
        "demand_moil_doil_gas = np.array([6600, 5100, 3100])\n",
        "\n",
        "# Solve the system of linear equations\n",
        "barrels_used_per_day_dist1 = np.linalg.solve(prod_capacity_moil_doil_gas, demand_moil_doil_gas)\n",
        "\n",
        "# Print the solution\n",
        "print(f\"Barrels used factory A(x) = {math.ceil(barrels_used_per_day_dist1[0])}\")\n",
        "print(f\"Barrels used factory B(y) = {math.ceil(barrels_used_per_day_dist1[1])}\")\n",
        "print(f\"Barrels used factory C(z) = {math.ceil(barrels_used_per_day_dist1[2])}\")"
      ],
      "execution_count": null,
      "outputs": [
        {
          "output_type": "stream",
          "name": "stdout",
          "text": [
            "Barrels used factory A(x) = 288\n",
            "Barrels used factory B(y) = 129\n",
            "Barrels used factory C(z) = 85\n"
          ]
        }
      ]
    },
    {
      "cell_type": "code",
      "source": [
        "# Solve using Sympy library\n",
        "x,y,z = symbols('x y z')\n",
        "#form equations\n",
        "eq_moil = Eq(20*x + 4*y + 4*z ,6600)\n",
        "eq_doil = Eq(10*x + 14*y + 5*z ,5100)\n",
        "eq_gas = Eq(5*x + 5*y + 12*z ,3100)\n",
        "# solve the equations\n",
        "barrels_per_day = solve((eq_moil,eq_doil,eq_gas),(x,y,z))\n",
        "# Print the solution\n",
        "print(f\"Barrels used factory A(x) = {math.ceil(barrels_per_day.get(x))}\")\n",
        "print(f\"Barrels used factory B(y) = {math.ceil(barrels_per_day.get(y))}\")\n",
        "print(f\"Barrels used factory C(z) = {math.ceil(barrels_per_day.get(z))}\")"
      ],
      "metadata": {
        "colab": {
          "base_uri": "https://localhost:8080/"
        },
        "id": "vYnfGPsdTEzZ",
        "outputId": "02815f2c-33ad-42d1-f2d7-35fed10356bd"
      },
      "execution_count": null,
      "outputs": [
        {
          "output_type": "stream",
          "name": "stdout",
          "text": [
            "Barrels used factory A(x) = 288\n",
            "Barrels used factory B(y) = 129\n",
            "Barrels used factory C(z) = 85\n"
          ]
        }
      ]
    },
    {
      "cell_type": "code",
      "source": [
        "# Solving the above problem using Row Reduced Echleon Form\n",
        "from sympy import Matrix\n",
        "\n",
        "# Define the coefficients of the equations\n",
        "aug_mat_prod_capacity_dist1 = Matrix([[20, 4, 4, 6600], [10, 14, 5, 5100], [5, 5, 12, 3100]])\n",
        "\n",
        "# Find the RREF of the augmented matrix\n",
        "aug_mat_prod_capacity_dist1_rref, _ = aug_mat_prod_capacity_dist1.rref()\n",
        "\n",
        "# Back-substitute to find the solution\n",
        "barrels_used_per_day_dist1 = [aug_mat_prod_capacity_dist1_rref[i, -1] for i in range(3)]\n",
        "\n",
        "# Print the solution\n",
        "print(f\"Barrels used factory A(x) = {math.ceil(barrels_used_per_day_dist1[0])}\")\n",
        "print(f\"Barrels used factory B(y) = {math.ceil(barrels_used_per_day_dist1[1])}\")\n",
        "print(f\"Barrels used factory C(z) = {math.ceil(barrels_used_per_day_dist1[2])}\")"
      ],
      "metadata": {
        "colab": {
          "base_uri": "https://localhost:8080/"
        },
        "id": "PYkM51dAoquC",
        "outputId": "56ffb1a3-cc64-4c2e-fb92-091944208789"
      },
      "execution_count": null,
      "outputs": [
        {
          "output_type": "stream",
          "name": "stdout",
          "text": [
            "Barrels used factory A(x) = 288\n",
            "Barrels used factory B(y) = 129\n",
            "Barrels used factory C(z) = 85\n"
          ]
        }
      ]
    },
    {
      "cell_type": "markdown",
      "metadata": {
        "id": "nY-rFiKAbVl3"
      },
      "source": [
        "Suppose the total demand for all products **doubled**. What would the solution now be? How does it compare to the original solution? Why, mathematically, should this have been expected?"
      ]
    },
    {
      "cell_type": "code",
      "metadata": {
        "id": "OODSS2bFcjKV",
        "colab": {
          "base_uri": "https://localhost:8080/"
        },
        "outputId": "dcfcd809-f7ab-42c9-d3d8-890b9f1b5d9d"
      },
      "source": [
        "# Solve for barrels used per day for double demand\n",
        "barrels_used_per_day = np.linalg.solve(prod_capacity_moil_doil_gas, 2 * demand_moil_doil_gas)\n",
        "\n",
        "# Print the solution\n",
        "print(f\"Barrels used factory A(x) = {math.ceil(barrels_used_per_day[0])}\")\n",
        "print(f\"Barrels used factory B(y) = {math.ceil(barrels_used_per_day[1])}\")\n",
        "print(f\"Barrels used factory C(z) = {math.ceil(barrels_used_per_day[2])}\")"
      ],
      "execution_count": null,
      "outputs": [
        {
          "output_type": "stream",
          "name": "stdout",
          "text": [
            "Barrels used factory A(x) = 575\n",
            "Barrels used factory B(y) = 258\n",
            "Barrels used factory C(z) = 170\n"
          ]
        }
      ]
    },
    {
      "cell_type": "markdown",
      "source": [
        "**From the solution it can be inferred that as the demand is doubled, the number of barrels used at each factory also gets doubled.**\n",
        "\n",
        "\n"
      ],
      "metadata": {
        "id": "QHpuSyyRXw92"
      }
    },
    {
      "cell_type": "code",
      "source": [
        "from sympy import Matrix\n",
        "aug_mat_prod_capacity_dist2 = aug_mat_prod_capacity_dist1.copy()\n",
        "# Doubled demand output\n",
        "aug_mat_prod_capacity_dist2[:,-1] *=2\n",
        "# Find the RREF of the augmented matrix\n",
        "aug_mat_prod_capacity_dist2_rref, _ = aug_mat_prod_capacity_dist2.rref()\n",
        "# Back-substitute to find the solution\n",
        "barrels_used_per_day = [aug_mat_prod_capacity_dist2_rref[i, -1] for i in range(3)]\n",
        "\n",
        "# Print the solution\n",
        "print(f\"Barrels used factory A(x) = {math.ceil(barrels_used_per_day[0])}\")\n",
        "print(f\"Barrels used factory B(y) = {math.ceil(barrels_used_per_day[1])}\")\n",
        "print(f\"Barrels used factory C(z) = {math.ceil(barrels_used_per_day[2])}\")\n"
      ],
      "metadata": {
        "colab": {
          "base_uri": "https://localhost:8080/"
        },
        "id": "dZP9skq6p2U6",
        "outputId": "327e29ab-76d7-4c40-ee4d-f1ee03e5f7f2"
      },
      "execution_count": null,
      "outputs": [
        {
          "output_type": "stream",
          "name": "stdout",
          "text": [
            "Barrels used factory A(x) = 575\n",
            "Barrels used factory B(y) = 258\n",
            "Barrels used factory C(z) = 170\n"
          ]
        }
      ]
    },
    {
      "cell_type": "markdown",
      "source": [
        "**From the solution it can be inferred that as the demand is doubled, the number of barrels used at each factory also gets doubled.**"
      ],
      "metadata": {
        "id": "OAlAVJLeho1a"
      }
    },
    {
      "cell_type": "markdown",
      "metadata": {
        "id": "p_1a-z0Gds6D"
      },
      "source": [
        "Suppose that the company acquires another group of distributors and that the daily demand of this group is 2000 gallons of motor oil, 4000 gallons of gasoline, and 4000 gallons of diesel oil. How would you set up production of just this supply? Are there any options (more than one way)?"
      ]
    },
    {
      "cell_type": "code",
      "metadata": {
        "id": "gWaeKh6eQe2W",
        "colab": {
          "base_uri": "https://localhost:8080/"
        },
        "outputId": "9088c758-5d39-49ee-e7bc-33ddae8e5bb2"
      },
      "source": [
        "# Define the coefficients of the equations\n",
        "aug_mat_prod_capacity_dist2 = Matrix([[20, 4, 4, 2000], [10, 14, 5, 4000], [5, 5, 12, 4000]])\n",
        "\n",
        "# Find the RREF of the augmented matrix\n",
        "aug_mat_prod_capacity_demand_rref, _ = aug_mat_prod_capacity_dist2.rref()\n",
        "# Back-substitute to find the solution\n",
        "barrels_used_per_day_dist2 = [aug_mat_prod_capacity_demand_rref[i, -1] for i in range(3)]\n",
        "\n",
        "# Print the solution\n",
        "print(f\"Barrels used factory A(x) = {math.ceil(barrels_used_per_day_dist2[0])}\")\n",
        "print(f\"Barrels used factory B(y) = {math.ceil(barrels_used_per_day_dist2[1])}\")\n",
        "print(f\"Barrels used factory C(z) = {math.ceil(barrels_used_per_day_dist2[2])}\")"
      ],
      "execution_count": null,
      "outputs": [
        {
          "output_type": "stream",
          "name": "stdout",
          "text": [
            "Barrels used factory A(x) = 13\n",
            "Barrels used factory B(y) = 188\n",
            "Barrels used factory C(z) = 250\n"
          ]
        }
      ]
    },
    {
      "cell_type": "markdown",
      "source": [
        "**We are able to find a definite solution for the barrels used and hence no multiple solutions or options possible**"
      ],
      "metadata": {
        "id": "Zm62HYXrhup8"
      }
    },
    {
      "cell_type": "markdown",
      "metadata": {
        "id": "H4sayZf1etbN"
      },
      "source": [
        "Next, calculate the needs of each factory (in barrels of crude, as usual) to meet the total demand of both groups of distributors. When you have done this, compare your answer to results already obtained. What mathematical conclusion can you draw?"
      ]
    },
    {
      "cell_type": "code",
      "metadata": {
        "id": "Hjm5kcawewgT",
        "colab": {
          "base_uri": "https://localhost:8080/"
        },
        "outputId": "141ec5a3-2b67-4a0f-eb4f-d9daa91273ee"
      },
      "source": [
        "# YOUR CODE HERE\n",
        "# Define the coefficients of the equations\n",
        "#aug_mat_prod_dis1 = Matrix([[20, 4, 4, 6600], [10, 14, 5, 5100], [5, 5, 12, 3100]])\n",
        "#aug_mat_prod_dis2 = Matrix([[20, 4, 4, 2000], [10, 14, 5, 4000], [5, 5, 12, 4000]])\n",
        "aug_mat_all_dis = aug_mat_prod_capacity_dist1[:,:-1].row_join(aug_mat_prod_capacity_dist1[:,-1]+aug_mat_prod_capacity_dist2[:,-1])\n",
        "# Find the RREF of the augmented matrix\n",
        "aug_mat_all_dis_rref, _ = aug_mat_all_dis.rref()\n",
        "# Back-substitute to find the solution\n",
        "barrels_used_per_day_dist3 = [aug_mat_all_dis_rref[i, -1] for i in range(3)]\n",
        "# Print the solution\n",
        "print(f\"Barrels used factory A(x) = {math.ceil(barrels_used_per_day_dist3[0])}\")\n",
        "print(f\"Barrels used factory B(y) = {math.ceil(barrels_used_per_day_dist3[1])}\")\n",
        "print(f\"Barrels used factory C(z) = {math.ceil(barrels_used_per_day_dist3[2])}\")"
      ],
      "execution_count": null,
      "outputs": [
        {
          "output_type": "stream",
          "name": "stdout",
          "text": [
            "Barrels used factory A(x) = 300\n",
            "Barrels used factory B(y) = 317\n",
            "Barrels used factory C(z) = 335\n"
          ]
        }
      ]
    },
    {
      "cell_type": "code",
      "source": [
        "# Solving using Sympy library\n",
        "x,y,z = symbols('x y z')\n",
        "eq_moil = Eq(20*x + 4*y + 4*z ,6600+2000)\n",
        "eq_doil = Eq(10*x + 14*y + 5*z ,5100+4000)\n",
        "eq_gas  = Eq(5*x + 5*y + 12*z ,3100+4000)\n",
        "barrels_per_day = solve((eq_moil,eq_doil,eq_gas),(x,y,z))\n",
        "print(f\"Barrels used factory A(x) = {math.ceil(barrels_per_day.get(x))}\")\n",
        "print(f\"Barrels used factory B(y) = {math.ceil(barrels_per_day.get(y))}\")\n",
        "print(f\"Barrels used factory C(z) = {math.ceil(barrels_per_day.get(z))}\")"
      ],
      "metadata": {
        "colab": {
          "base_uri": "https://localhost:8080/"
        },
        "id": "3VEdNKQbpa8L",
        "outputId": "17315b8f-e2ce-47b7-bc6d-1450ff1b9a8f"
      },
      "execution_count": null,
      "outputs": [
        {
          "output_type": "stream",
          "name": "stdout",
          "text": [
            "Barrels used factory A(x) = 300\n",
            "Barrels used factory B(y) = 317\n",
            "Barrels used factory C(z) = 335\n"
          ]
        }
      ]
    },
    {
      "cell_type": "markdown",
      "source": [
        "# To prove mathematically, that the number of barrels calculated separately for meeting the demands for two distributors is equal to the number of barrels calculated when the total demand is sum of the demands for the two distributors\n"
      ],
      "metadata": {
        "id": "R_VX2jXFxbWi"
      }
    },
    {
      "cell_type": "code",
      "source": [
        "num_barrels_1 = np.array([i for i in barrels_used_per_day_dist1]).astype(float)\n",
        "num_barrels_2 = np.array([i for i in barrels_used_per_day_dist2]).astype(float)\n",
        "num_barrels_3 = np.array([i for i in barrels_used_per_day_dist3]).astype(float)\n",
        "num_barrels_1 + num_barrels_2 == num_barrels_3"
      ],
      "metadata": {
        "colab": {
          "base_uri": "https://localhost:8080/"
        },
        "id": "E0PNh3N9rMxF",
        "outputId": "7ca8b931-3f1c-4116-e3a5-7babe198ca9c"
      },
      "execution_count": null,
      "outputs": [
        {
          "output_type": "execute_result",
          "data": {
            "text/plain": [
              "array([ True,  True,  True])"
            ]
          },
          "metadata": {},
          "execution_count": 12
        }
      ]
    },
    {
      "cell_type": "markdown",
      "metadata": {
        "id": "ov7RWVpSpzhw"
      },
      "source": [
        "### Sensitivity and Robustness (1 point)"
      ]
    },
    {
      "cell_type": "markdown",
      "metadata": {
        "id": "G1MVw0x_fQMC"
      },
      "source": [
        "In real life applications, constants are rarely ever exactly equal to their stated value; certain amounts of uncertainty are always present. This is part of the reason for the science of statistics. In the above model, the daily productions for the factorys would be averages over a period of time. Explore what effect small changes in the parameters have on the output.\n",
        "\n",
        "To do this, pick any 3 coefficients, one at a time, and increase or decrease them by 3%. For each case , note what effect this has on the solution, as a percentage change. Can you draw any overall conclusion?"
      ]
    },
    {
      "cell_type": "markdown",
      "source": [
        "Increase or decrease the same coefficient to understand the effect of the change for each factory."
      ],
      "metadata": {
        "id": "7KytIbTVGWf8"
      }
    },
    {
      "cell_type": "code",
      "metadata": {
        "id": "ObBZDKvYfqie",
        "colab": {
          "base_uri": "https://localhost:8080/"
        },
        "outputId": "347f8618-f959-422d-d146-b10ab0051ddf"
      },
      "source": [
        "# YOUR CODE HERE\n",
        "aug_mat_prod_incr_factory_A = aug_mat_prod_capacity_dist1.copy()\n",
        "aug_mat_prod_incr_factory_A[:,0] *= 1.03\n",
        "# Find the RREF of the augmented matrix\n",
        "aug_mat_prod_incr_A_rref, _ = aug_mat_prod_incr_factory_A.rref()\n",
        "\n",
        "# Back-substitute to find the solution\n",
        "barrels_per_day_after_change_A = [aug_mat_prod_incr_A_rref[i, -1] for i in range(3)]\n",
        "\n",
        "# Print the solution\n",
        "print(f\"Barrels used factory A(x) = {math.ceil(barrels_per_day_after_change_A[0])}\")\n",
        "print(f\"Barrels used factory B(y) = {math.ceil(barrels_per_day_after_change_A[1])}\")\n",
        "print(f\"Barrels used factory C(z) = {math.ceil(barrels_per_day_after_change_A[2])}\")"
      ],
      "execution_count": null,
      "outputs": [
        {
          "output_type": "stream",
          "name": "stdout",
          "text": [
            "Barrels used factory A(x) = 279\n",
            "Barrels used factory B(y) = 129\n",
            "Barrels used factory C(z) = 86\n"
          ]
        }
      ]
    },
    {
      "cell_type": "code",
      "source": [
        "num_barrels_change_A_in =  np.array([i for i in barrels_per_day_after_change_A]).astype(float)\n",
        "percentage_change_A_in = (num_barrels_change_A_in - num_barrels_1) / (num_barrels_1) * 100\n",
        "print(f\"Percentage change in number of barrels of factory A, B and C:{round(percentage_change_A_in[0], 0), round(percentage_change_A_in[1], 0),round(percentage_change_A_in[2],0)}\")"
      ],
      "metadata": {
        "colab": {
          "base_uri": "https://localhost:8080/"
        },
        "id": "mJSGDfe9HK3-",
        "outputId": "864e6591-0ece-4dcd-fb48-201d0049f669"
      },
      "execution_count": null,
      "outputs": [
        {
          "output_type": "stream",
          "name": "stdout",
          "text": [
            "Percentage change in number of barrels of factory A, B and C:(-3.0, -0.0, 0.0)\n"
          ]
        }
      ]
    },
    {
      "cell_type": "markdown",
      "source": [
        "**As we increase the coefficient of factory A by 3% i.e. factory A is now able to produce more using 1 barrel, the barrel requirement has decreased for factory A by approximately 3% , but factory B and C remain constant.**"
      ],
      "metadata": {
        "id": "hJqPr_Bvp2Dt"
      }
    },
    {
      "cell_type": "code",
      "source": [
        "aug_mat_prod_decr_factory_A = aug_mat_prod_capacity_dist1.copy()\n",
        "aug_mat_prod_decr_factory_A[:,0] *= 0.97\n",
        "# Find the RREF of the augmented matrix\n",
        "aug_mat_prod_decr_A_rref, _ = aug_mat_prod_decr_factory_A.rref()\n",
        "\n",
        "# Back-substitute to find the solution\n",
        "barrels_per_day_after_change_A = [aug_mat_prod_decr_A_rref[i, -1] for i in range(3)]\n",
        "\n",
        "# Print the solution\n",
        "print(f\"Barrels used factory A(x) = {math.ceil(barrels_per_day_after_change_A[0])}\")\n",
        "print(f\"Barrels used factory B(y) = {math.ceil(barrels_per_day_after_change_A[1])}\")\n",
        "print(f\"Barrels used factory C(z) = {math.ceil(barrels_per_day_after_change_A[2])}\")"
      ],
      "metadata": {
        "colab": {
          "base_uri": "https://localhost:8080/"
        },
        "id": "uWKVe5wvms8S",
        "outputId": "adf5e9fd-7236-4edd-9d7c-418412d8faf8"
      },
      "execution_count": null,
      "outputs": [
        {
          "output_type": "stream",
          "name": "stdout",
          "text": [
            "Barrels used factory A(x) = 297\n",
            "Barrels used factory B(y) = 129\n",
            "Barrels used factory C(z) = 85\n"
          ]
        }
      ]
    },
    {
      "cell_type": "code",
      "source": [
        "num_barrels_change_A_dc =  np.array([i for i in barrels_per_day_after_change_A]).astype(float)\n",
        "percentage_change_A_dc = (num_barrels_change_A_dc - num_barrels_1) / (num_barrels_1) * 100\n",
        "print(f\"Percentage change in number of barrels of factory A, B and C:{round(percentage_change_A_dc[0],0), round(percentage_change_A_dc[1],0),round(percentage_change_A_dc[2],0)}\")"
      ],
      "metadata": {
        "colab": {
          "base_uri": "https://localhost:8080/"
        },
        "id": "L8bK-h1NnA82",
        "outputId": "89bcaf40-eb72-4b15-c359-673fb1eaaead"
      },
      "execution_count": null,
      "outputs": [
        {
          "output_type": "stream",
          "name": "stdout",
          "text": [
            "Percentage change in number of barrels of factory A, B and C:(3.0, 0.0, -0.0)\n"
          ]
        }
      ]
    },
    {
      "cell_type": "markdown",
      "source": [
        "**As we decrease the coefficient of factory A by 3% i.e. factory A is now able to produce less using 1 barrel, the barrel requirement has increased for factory A by 3% , but factory B and C almost remain constant**"
      ],
      "metadata": {
        "id": "ijX9_QBGp4EP"
      }
    },
    {
      "cell_type": "markdown",
      "metadata": {
        "id": "JOj5wcxQpzhx"
      },
      "source": [
        "### A factory Off-Line (1 point)"
      ]
    },
    {
      "cell_type": "markdown",
      "metadata": {
        "id": "Dbm0HcJ7frNz"
      },
      "source": [
        "Suppose factory $C$ is shut down by the EPA (Environmental Protection Agency) temporarily for excessive emissions into the atmosphere. If your demand is as it was originally (6600, 5100, 3100), what would you now say about the companies ability to meet it? What do you recommend they schedule for production now?"
      ]
    },
    {
      "cell_type": "code",
      "source": [
        "# Using AtransposeA and getting b into the column space of Atranspose A\n",
        "# Define the symbols\n",
        "#prod_capacity = symbols('x y')\n",
        "\n",
        "# Define the matrix of coefficients\n",
        "prod_capacity_A_B= Matrix([[20, 4], [10, 14], [5, 5]])\n",
        "\n",
        "# Define the vector of constants\n",
        "demand_moil_doil_gas = Matrix([6600, 5100, 3100])\n",
        "\n",
        "# Compute the transpose of A\n",
        "prod_capacity_A_Bt = prod_capacity_A_B.T\n",
        "\n",
        "# Compute the product of (A^T * A)^-1 * A^T * b\n",
        "barrels_per_day_A_B = (prod_capacity_A_Bt * prod_capacity_A_B).inv() * prod_capacity_A_Bt * demand_moil_doil_gas\n",
        "\n",
        "# Print the solution\n",
        "print(f\"Barrels used factory A(x) = {math.ceil(barrels_per_day_A_B[0])}\")\n",
        "print(f\"Barrels used factory B(y) = {math.ceil(barrels_per_day_A_B[1])}\")"
      ],
      "metadata": {
        "colab": {
          "base_uri": "https://localhost:8080/"
        },
        "id": "NqmlbjfrTNpe",
        "outputId": "4d8131a2-c632-4102-a798-d58f0274611f"
      },
      "execution_count": null,
      "outputs": [
        {
          "output_type": "stream",
          "name": "stdout",
          "text": [
            "Barrels used factory A(x) = 300\n",
            "Barrels used factory B(y) = 169\n"
          ]
        }
      ]
    },
    {
      "cell_type": "markdown",
      "source": [
        "**We can meet the demand for 2 products i.e. Motor oil and Diesel Oil but not the gasoline. If we backsubstitute for the equations, we can see that we fall short in the production of gasoline.**"
      ],
      "metadata": {
        "id": "yCtUpOXtJfz4"
      }
    },
    {
      "cell_type": "code",
      "source": [
        "# Perform SVD\n",
        "prod_capacity_A_B= np.array([[20, 4], [10, 14], [5, 5]])\n",
        "U, Sigma, VT = np.linalg.svd(prod_capacity_A_B, full_matrices=False)\n",
        "\n",
        "# Invert Sigma\n",
        "Sigma_inv = np.linalg.pinv(np.diag(Sigma))\n",
        "\n",
        "# Solve for x using SVD\n",
        "barrels_per_day_A_B = VT.T @ Sigma_inv @ U.T @ demand_moil_doil_gas\n",
        "\n",
        "# Print the solution\n",
        "print(f\"Barrels used factory A(x) = {math.ceil(barrels_per_day_A_B[0])}\")\n",
        "print(f\"Barrels used factory B(y) = {math.ceil(barrels_per_day_A_B[1])}\")"
      ],
      "metadata": {
        "colab": {
          "base_uri": "https://localhost:8080/"
        },
        "id": "ai_x8xmob-Zu",
        "outputId": "236a6043-1931-42b5-a50f-3fe533f9e3f1"
      },
      "execution_count": null,
      "outputs": [
        {
          "output_type": "stream",
          "name": "stdout",
          "text": [
            "Barrels used factory A(x) = 300\n",
            "Barrels used factory B(y) = 169\n"
          ]
        }
      ]
    },
    {
      "cell_type": "code",
      "metadata": {
        "id": "gpbtzvrVAST3"
      },
      "source": [
        "# YOUR CODE HERE\n",
        "# Find the solution to the system of linear equations\n",
        "#barrels_per_day_A_B = prod_capacity_A_B.pinv() * demand_moil_doil_gas\n",
        "\n",
        "# Print the solution\n",
        "#print(f\"Barrels used factory A(x) = {math.ceil(barrels_per_day_A_B[0])}\")\n",
        "#print(f\"Barrels used factory B(y) = {math.ceil(barrels_per_day_A_B[1])}\")"
      ],
      "execution_count": null,
      "outputs": []
    },
    {
      "cell_type": "markdown",
      "source": [
        "Above is a solution using PseudoInverse"
      ],
      "metadata": {
        "id": "g-aTbWJOwn4o"
      }
    },
    {
      "cell_type": "markdown",
      "metadata": {
        "id": "tZpzEVmEpzhx"
      },
      "source": [
        "### Buying another factory"
      ]
    },
    {
      "cell_type": "markdown",
      "metadata": {
        "id": "X0ghbS-s3Mel"
      },
      "source": [
        "####(Note the following given information. You will see questions in continuation to this, in the subsequent sections)\n",
        "\n",
        "This situation has caused enough concern that the CEO is considering buying another factory, identical to the third, and using it permanently. Assuming that all 4 factorys are on line, what production do you recommend to meet the current demand (5000, 8500, 10000)? In general, what can you say about any increased flexibility that the 4th factory might provide?"
      ]
    },
    {
      "cell_type": "markdown",
      "metadata": {
        "id": "IcbiTq8zpzhx"
      },
      "source": [
        "Let the number of barrels used by factory $A$, $B$, $C$ and $D$ are $x$, $y$, $z$ and $w$ respectively.\n",
        "\n",
        "Then the system of linear equations will be\n",
        "\n",
        "$$20x + 4y + 4z + 4w = 5000$$\n",
        "\n",
        "$$10x + 14y + 5z + 5w = 8500$$\n",
        "\n",
        "$$5x + 5y + 12z + 12w = 10000$$\n",
        "\n",
        "The above system of linear equation has fewer equations than variables, hence it is *underdetermined* and cannot have a unique solution. In this case, there are either infinitely many solutions or no exact solution. We can solve it by keeping $w$ as constant and using [rref](http://linear.ups.edu/html/section-RREF.html) form to solve the system of linear equation.\n",
        "\n",
        "To know about rref implementation in python refer [here](https://docs.sympy.org/latest/tutorial/matrices.html#rref)."
      ]
    },
    {
      "cell_type": "code",
      "metadata": {
        "id": "DnCYG65tB8gp",
        "colab": {
          "base_uri": "https://localhost:8080/"
        },
        "outputId": "3d03e6c2-548a-4bd4-bd59-5a2d8ca3a291"
      },
      "source": [
        "import sympy as sy\n",
        "\n",
        "# create symbol 'w'\n",
        "w = sy.Symbol(\"w\")\n",
        "A_aug = sy.Matrix([[20, 4, 4, 5000-4*w],\n",
        "                   [10, 14, 5, 8500-5*w],\n",
        "                   [5, 5, 12, 10000-12*w]])\n",
        "# show rref form\n",
        "A_aug.rref()"
      ],
      "execution_count": null,
      "outputs": [
        {
          "output_type": "execute_result",
          "data": {
            "text/plain": [
              "(Matrix([\n",
              " [1, 0, 0,   195/4],\n",
              " [0, 1, 0,  1325/4],\n",
              " [0, 0, 1, 675 - w]]),\n",
              " (0, 1, 2))"
            ]
          },
          "metadata": {},
          "execution_count": 22
        }
      ]
    },
    {
      "cell_type": "markdown",
      "metadata": {
        "id": "1lcEL3n5pzhz"
      },
      "source": [
        "From the above result, it can be seen that 4th factory will share the number of barrels required by the 3rd factory only, while the requirement of 1st and 2nd factory will remain unaffected."
      ]
    },
    {
      "cell_type": "markdown",
      "metadata": {
        "id": "yE9hCfAMpzhz"
      },
      "source": [
        "### Calculate the amount of Paraffin supplied (1 point)"
      ]
    },
    {
      "cell_type": "markdown",
      "metadata": {
        "id": "u9HSGUeZquXD"
      },
      "source": [
        "The company has just found a candle company that will buy its paraffin. Under the current conditions (i.e, after buying another factory) for demand (5000, 8500, 10000), how much can be supplied to them per day?"
      ]
    },
    {
      "cell_type": "markdown",
      "metadata": {
        "id": "ilEui1GHA3Oh"
      },
      "source": [
        "According to the problem statement, factory $A$ has 3 gallons of paraffin to dispose of per barrel of crude oil, factory $B$ 5 gallons, and factory $C$ 2 gallons."
      ]
    },
    {
      "cell_type": "code",
      "metadata": {
        "id": "gJnUalG2_r0i",
        "colab": {
          "base_uri": "https://localhost:8080/"
        },
        "outputId": "8718ca3c-95bd-450c-da63-a620b59a9235"
      },
      "source": [
        "# YOUR CODE HERE\n",
        "# Define the coefficients of the equations\n",
        "aug_mat_paraffin_A_B_C = Matrix([[20, 4, 4, 5000], [10, 14, 5, 8500], [5, 5, 12, 10000]])\n",
        "\n",
        "# Find the RREF of the augmented matrix\n",
        "aug_mat_paraffin_A_B_C_rref, _ = aug_mat_paraffin_A_B_C.rref()\n",
        "# Back-substitute to find the solution\n",
        "barrels_for_paraffin = [aug_mat_paraffin_A_B_C_rref[i, -1] for i in range(3)]\n",
        "\n",
        "# Print the solution\n",
        "print(f\"Barrels used factory A(x) = {math.ceil(barrels_for_paraffin[0])}\")\n",
        "print(f\"Barrels used factory B(y) = {math.ceil(barrels_for_paraffin[1])}\")\n",
        "print(f\"Barrels used factory C(z) = {math.ceil(barrels_for_paraffin[2])}\")"
      ],
      "execution_count": null,
      "outputs": [
        {
          "output_type": "stream",
          "name": "stdout",
          "text": [
            "Barrels used factory A(x) = 49\n",
            "Barrels used factory B(y) = 332\n",
            "Barrels used factory C(z) = 675\n"
          ]
        }
      ]
    },
    {
      "cell_type": "code",
      "source": [
        "total_paraffin = 3 * math.ceil(barrels_for_paraffin[0]) + 5 * math.ceil(barrels_for_paraffin[1]) + 2 * math.ceil(barrels_for_paraffin[2])\n",
        "print(f\"supply to candle company each day:{total_paraffin} gallons\")"
      ],
      "metadata": {
        "colab": {
          "base_uri": "https://localhost:8080/"
        },
        "id": "pDx4KMrhNIjb",
        "outputId": "c19d19ef-42a2-48c3-e52a-3bdec9f4dc85"
      },
      "execution_count": null,
      "outputs": [
        {
          "output_type": "stream",
          "name": "stdout",
          "text": [
            "supply to candle company each day:3157 gallons\n"
          ]
        }
      ]
    },
    {
      "cell_type": "markdown",
      "metadata": {
        "id": "sSpnIH4Ypzh0"
      },
      "source": [
        "### Selling the first factory (1 point)"
      ]
    },
    {
      "cell_type": "markdown",
      "metadata": {
        "id": "8l3c1GN14EDp"
      },
      "source": [
        "The management is also considering selling the first factory due to aging equipment and high workman's compensation costs for the state it is located in. They would like to know what this would do to their production capability. Specifically, they would like an example of a demand they could not meet with only factorys 2 and 3, and also what effect having factory 4 has (recall it is identical to factory 3). They would also like an example of a demand that they could meet with just factorys 2 and 3. Any general statements you could make here would be helpful."
      ]
    },
    {
      "cell_type": "markdown",
      "metadata": {
        "id": "qYz46wb2GTo7"
      },
      "source": [
        "Let the number of barrels used by factory $B$, $C$ and $D$ are $y$, $z$ and $w$ respectively.\n",
        "\n",
        "When considering only factorys 2 and 3, and demand (5000, 8500, 10000) then we have\n",
        "\n",
        "$$4y + 4z = 5000$$\n",
        "\n",
        "$$14y + 5z = 8500$$\n",
        "\n",
        "$$5y + 12z = 10000$$"
      ]
    },
    {
      "cell_type": "code",
      "source": [
        "# using least squares\n",
        "prod_capacity_B_C = np.array([[4, 4], [14, 5], [5, 12]])\n",
        "demand_moil_doil_gas = np.array([5000, 8500, 10000])\n",
        "\n",
        "# Find the least-squares solution to the system of linear equations\n",
        "barrels_per_day_B_C, _, _, _ = np.linalg.lstsq(prod_capacity_B_C, demand_moil_doil_gas, rcond=None)\n",
        "\n",
        "# Print the solution\n",
        "print(f\"Barrels used factory B(y) = {math.ceil(barrels_per_day_B_C[0])}\")\n",
        "print(f\"Barrels used factory C(z) = {math.ceil(barrels_per_day_B_C[1])}\")"
      ],
      "metadata": {
        "colab": {
          "base_uri": "https://localhost:8080/"
        },
        "id": "H3qM8w5UQ-Td",
        "outputId": "a91609c1-83e2-42ce-847d-863e6888c8a4"
      },
      "execution_count": null,
      "outputs": [
        {
          "output_type": "stream",
          "name": "stdout",
          "text": [
            "Barrels used factory B(y) = 370\n",
            "Barrels used factory C(z) = 696\n"
          ]
        }
      ]
    },
    {
      "cell_type": "markdown",
      "source": [
        "**When we take only factory B and C , we have more equations, so the system is overdetermined. There are no exact solutions which satisfies all 3 equations simultaneously. Considering this if we back substitute, we get that we are falling short of fulfilling the demand of 5000 gallons of motor oil by running only factories B and C**"
      ],
      "metadata": {
        "id": "MHVMLZyY6a52"
      }
    },
    {
      "cell_type": "code",
      "source": [
        "# Using AtransposeA and getting b into the column space of Atranspose A\n",
        "# Define the symbols\n",
        "#x, y, z = sy.symbols('x y z')\n",
        "\n",
        "# Define the matrix of coefficients\n",
        "prod_capacity_B_C = Matrix([[4, 4], [14, 5], [5, 12]])\n",
        "\n",
        "# Define the vector of constants\n",
        "demand_moil_doil_gas = Matrix([5000, 8500, 10000])\n",
        "\n",
        "# Compute the transpose of A\n",
        "prod_capacity_B_Ct = prod_capacity_B_C.T\n",
        "\n",
        "# Compute the product of (A^T * A)^-1 * A^T * b\n",
        "barrels_per_day_B_C = (prod_capacity_B_Ct * prod_capacity_B_C).inv() * prod_capacity_B_Ct * demand_moil_doil_gas\n",
        "\n",
        "# Print the solution\n",
        "print(f\"Barrels used factory B(y) = {math.ceil(barrels_per_day_B_C[0])}\")\n",
        "print(f\"Barrels used factory C(z) = {math.ceil(barrels_per_day_B_C[1])}\")"
      ],
      "metadata": {
        "colab": {
          "base_uri": "https://localhost:8080/"
        },
        "id": "Zt7g42g8RPtt",
        "outputId": "c3b9084e-23da-44d3-e19c-a6105800446f"
      },
      "execution_count": null,
      "outputs": [
        {
          "output_type": "stream",
          "name": "stdout",
          "text": [
            "Barrels used factory B(y) = 370\n",
            "Barrels used factory C(z) = 696\n"
          ]
        }
      ]
    },
    {
      "cell_type": "code",
      "source": [
        "# YOUR CODE HERE\n",
        "prod_capacity_B_C = Matrix([[4, 4], [14, 5], [5, 12]])\n",
        "demand_moil_doil_gas = Matrix([5000, 8500, 10000])\n",
        "# Find the solution to the system of linear equations\n",
        "barrels_per_day_B_C = prod_capacity_B_C.pinv() * demand_moil_doil_gas\n",
        "\n",
        "# Print the solution\n",
        "print(f\"Barrels used factory B(y) = {math.ceil(barrels_per_day_B_C[0])}\")\n",
        "print(f\"Barrels used factory C(z) = {math.ceil(barrels_per_day_B_C[1])}\")"
      ],
      "metadata": {
        "colab": {
          "base_uri": "https://localhost:8080/"
        },
        "id": "n42FdQib5_85",
        "outputId": "ae352293-a7d7-40c6-a16b-4cf6a06c8019"
      },
      "execution_count": null,
      "outputs": [
        {
          "output_type": "stream",
          "name": "stdout",
          "text": [
            "Barrels used factory B(y) = 370\n",
            "Barrels used factory C(z) = 696\n"
          ]
        }
      ]
    },
    {
      "cell_type": "markdown",
      "metadata": {
        "id": "bLsK1-zNEP0T"
      },
      "source": [
        "Taking 4th factory into consideration.\n",
        "Let the number of barrels used by factory $B$, $C$ and $D$ are $y$, $z$ and $w$ respectively.\n",
        "\n",
        "Then for demand (5000, 8500, 10000) the system of linear equations will be\n",
        "\n",
        "$$4y + 4z + 4w = 5000$$\n",
        "\n",
        "$$14y + 5z + 5w = 8500$$\n",
        "\n",
        "$$5y + 12z + 12w = 10000$$\n",
        "\n",
        "Solve it using rref form."
      ]
    },
    {
      "cell_type": "code",
      "metadata": {
        "id": "5lqPcpJ9F9xx",
        "colab": {
          "base_uri": "https://localhost:8080/"
        },
        "outputId": "0b63ee7e-c8df-4df5-dd5d-f2841ee248c3"
      },
      "source": [
        "# YOUR CODE HERE\n",
        "w = Symbol('w')\n",
        "A_aug = Matrix([[4, 4, 4, 5000],\n",
        "                   [14, 5, 5, 8500],\n",
        "                   [5, 12, 12, 10000]])\n",
        "A_aug.rref()"
      ],
      "execution_count": null,
      "outputs": [
        {
          "output_type": "execute_result",
          "data": {
            "text/plain": [
              "(Matrix([\n",
              " [1, 0, 0, 0],\n",
              " [0, 1, 1, 0],\n",
              " [0, 0, 0, 1]]),\n",
              " (0, 1, 3))"
            ]
          },
          "metadata": {},
          "execution_count": 28
        }
      ]
    },
    {
      "cell_type": "code",
      "source": [
        "# Find the RREF of the augmented matrix\n",
        "# here it is an overfit,\n",
        "rref, _ = A_aug.rref()\n",
        "# Back-substitute to find the solution\n",
        "x = [rref[i, -1] for i in range(3)]\n",
        "\n",
        "# Print the solution\n",
        "print(f\"y = {math.ceil(x[0]):.0f}\")\n",
        "print(f\"z = {math.ceil(x[1]):.0f}\")\n",
        "print(f\"w = {math.ceil(x[2]):.0f}\")"
      ],
      "metadata": {
        "colab": {
          "base_uri": "https://localhost:8080/"
        },
        "id": "KJcz9GPgaWX7",
        "outputId": "42a78b37-2088-4f92-bac2-d16445a03113"
      },
      "execution_count": null,
      "outputs": [
        {
          "output_type": "stream",
          "name": "stdout",
          "text": [
            "y = 0\n",
            "z = 0\n",
            "w = 1\n"
          ]
        }
      ]
    },
    {
      "cell_type": "markdown",
      "source": [
        "**No unique solution exists since the above set of equations are linearly dependent**"
      ],
      "metadata": {
        "id": "boZszdXZ903M"
      }
    },
    {
      "cell_type": "code",
      "source": [
        "# using least squares\n",
        "prod_capacity_B_C_D = np.array([[4, 4, 4], [14, 5, 5], [5, 12, 12]])\n",
        "demand_moil_doil_gas = np.array([5000, 8500, 10000])\n",
        "\n",
        "# Find the least-squares solution to the system of linear equations\n",
        "barrels_per_day_B_C_D, _, _, _ = np.linalg.lstsq(prod_capacity_B_C_D, demand_moil_doil_gas, rcond=None)\n",
        "\n",
        "# Print the solution\n",
        "print(f\"Barrels used factory B(y) = {math.ceil(barrels_per_day_B_C_D[0])}\")\n",
        "print(f\"Barrels used factory C(z) = {math.ceil(barrels_per_day_B_C_D[1])}\")\n",
        "print(f\"Barrels used factory D(w) = {math.ceil(barrels_per_day_B_C_D[2])}\")"
      ],
      "metadata": {
        "colab": {
          "base_uri": "https://localhost:8080/"
        },
        "id": "lKJwEGXt7ZBg",
        "outputId": "b5b518fd-4331-48f7-edde-99512da44231"
      },
      "execution_count": null,
      "outputs": [
        {
          "output_type": "stream",
          "name": "stdout",
          "text": [
            "Barrels used factory B(y) = 370\n",
            "Barrels used factory C(z) = 348\n",
            "Barrels used factory D(w) = 348\n"
          ]
        }
      ]
    },
    {
      "cell_type": "markdown",
      "metadata": {
        "id": "u7SDjgFkP5fj"
      },
      "source": [
        "Now, changing demand to (6600, 5100, 3100) and solving the system of equation using rref form."
      ]
    },
    {
      "cell_type": "code",
      "metadata": {
        "id": "nwSpgbqAGlON",
        "colab": {
          "base_uri": "https://localhost:8080/"
        },
        "outputId": "01f87334-f6c3-4b34-87e8-4418cece0f21"
      },
      "source": [
        "# YOUR CODE HERE\n",
        "A_aug = sy.Matrix([[4, 4, 4, 6600],\n",
        "                   [14, 5, 5, 5100],\n",
        "                   [5, 12, 12, 3100]])\n",
        "A_aug.rref()"
      ],
      "execution_count": null,
      "outputs": [
        {
          "output_type": "execute_result",
          "data": {
            "text/plain": [
              "(Matrix([\n",
              " [1, 0, 0, 0],\n",
              " [0, 1, 1, 0],\n",
              " [0, 0, 0, 1]]),\n",
              " (0, 1, 3))"
            ]
          },
          "metadata": {},
          "execution_count": 31
        }
      ]
    },
    {
      "cell_type": "markdown",
      "source": [
        "**Change of demand doesn't let us find a unique solution for the set of equations**"
      ],
      "metadata": {
        "id": "0onJFBrUQFdc"
      }
    },
    {
      "cell_type": "code",
      "source": [
        "# Define the coefficients of the equations\n",
        "# using least squares\n",
        "demand_moil_doil_gas = np.array([6600, 5100, 3100])\n",
        "\n",
        "# Find the least-squares solution to the system of linear equations\n",
        "barrels_per_day_B_C_D, _, _, _ = np.linalg.lstsq(prod_capacity_B_C_D, demand_moil_doil_gas, rcond=None)\n",
        "\n",
        "# Print the solution\n",
        "print(f\"Barrels used factory B(y) = {math.ceil(barrels_per_day_B_C_D[0])}\")\n",
        "print(f\"Barrels used factory C(z) = {math.ceil(barrels_per_day_B_C_D[1])}\")\n",
        "print(f\"Barrels used factory D(w) = {math.ceil(barrels_per_day_B_C_D[2])}\")"
      ],
      "metadata": {
        "colab": {
          "base_uri": "https://localhost:8080/"
        },
        "id": "PnHyz0k1fqUR",
        "outputId": "6184242f-4503-4b0e-cc44-2002520c3cf4"
      },
      "execution_count": null,
      "outputs": [
        {
          "output_type": "stream",
          "name": "stdout",
          "text": [
            "Barrels used factory B(y) = 353\n",
            "Barrels used factory C(z) = 102\n",
            "Barrels used factory D(w) = 102\n"
          ]
        }
      ]
    },
    {
      "cell_type": "code",
      "source": [
        "A = Matrix([[4, 4, 4], [14, 5 ,5], [5, 12,12]])\n",
        "B = Matrix([6600, 5100, 3100])\n",
        "\n",
        "# Find the solution to the system of linear equations\n",
        "x = A.pinv() * B\n",
        "\n",
        "# Print the solution\n",
        "print(f\"y = {math.ceil(x[0]):.0f}\")\n",
        "print(f\"z = {math.ceil(x[1]):.0f}\")\n",
        "print(f\"w = {math.ceil(x[2]):.0f}\")"
      ],
      "metadata": {
        "colab": {
          "base_uri": "https://localhost:8080/"
        },
        "id": "0R7h5ndygl5v",
        "outputId": "33beeeb5-f770-4ec5-cc1f-70ed360b9b1d"
      },
      "execution_count": null,
      "outputs": [
        {
          "output_type": "stream",
          "name": "stdout",
          "text": [
            "y = 353\n",
            "z = 102\n",
            "w = 102\n"
          ]
        }
      ]
    },
    {
      "cell_type": "markdown",
      "metadata": {
        "id": "fngUPMK_pzh1"
      },
      "source": [
        "### Set rates for Products (1 point)"
      ]
    },
    {
      "cell_type": "markdown",
      "metadata": {
        "id": "8Go0tQYtpzh1"
      },
      "source": [
        "Company wants to set the rates of motor oil, diesel oil, and gasoline. For this purpose they have few suggestions given as follows:\n",
        "\n",
        "* 100, 66, 102 Rupees per gallon,\n",
        "\n",
        "* 104, 64, 100 Rupees per gallon,\n",
        "\n",
        "* 102, 68, 98 Rupees per gallon, and\n",
        "\n",
        "* 96, 68, 100 Rupees per gallon\n",
        "\n",
        "for motor oil, diesel oil, and gasoline respectively.\n",
        "\n",
        "Using matrix multiplication, find the rates which result in maximum total price."
      ]
    },
    {
      "cell_type": "markdown",
      "metadata": {
        "id": "9yRue5zIpzh1"
      },
      "source": [
        "Let $M$ denote the matrix such that rows represents different factorys (A, B and C), columns represents different products (motor oil, diesel oil and gasoline) and each value represents production of that product from one barrel of crude oil for that factory.\n",
        "\n",
        "$$M = \\begin{bmatrix}\n",
        "20 & 10 & 5 \\\\\n",
        "4 & 14 & 5  \\\\\n",
        " 4 & 5 & 12  \n",
        "\\end{bmatrix}$$\n",
        "\n",
        "Also, $R$ is a matrix having different rates as its columns.\n",
        "\n",
        "$$R = \\begin{bmatrix}\n",
        "100 & 104 & 102 & 96 \\\\\n",
        "66 & 64 & 68 & 68  \\\\\n",
        "102 & 100 & 98 & 100  \n",
        "\\end{bmatrix}$$"
      ]
    },
    {
      "cell_type": "code",
      "metadata": {
        "id": "Sz5Bef3npzh1",
        "colab": {
          "base_uri": "https://localhost:8080/"
        },
        "outputId": "f6214e00-42a2-4b50-b923-49022fbcc38e"
      },
      "source": [
        "# YOUR CODE HERE\n",
        "# Define the matrices A and B\n",
        "M = np.array([[20,10,5], [4,14,5],[4,5,12]])\n",
        "R = np.array([[100, 104, 102, 96], [66, 64, 68, 68], [102, 100, 98, 100]])\n",
        "\n",
        "# Compute the matrix product of A and B\n",
        "Price = np.dot(M, R)\n",
        "total_price = sum(Price)\n",
        "print(\"Price: \", total_price)\n",
        "\n",
        "# Get index of highest value in array\n",
        "index = np.argmax(total_price)\n",
        "\n",
        "# Extract desired rates\n",
        "rate = R[:,index]\n",
        "print(index)\n",
        "print(\"Desired rate: \", rate)"
      ],
      "execution_count": null,
      "outputs": [
        {
          "output_type": "stream",
          "name": "stdout",
          "text": [
            "Price:  [6958 6968 6984 6860]\n",
            "2\n",
            "Desired rate:  [102  68  98]\n"
          ]
        }
      ]
    },
    {
      "cell_type": "markdown",
      "metadata": {
        "id": "cga8JrkApzh1"
      },
      "source": [
        "### Marginal Cost (1 point)"
      ]
    },
    {
      "cell_type": "markdown",
      "metadata": {
        "id": "8nN5V5NXpzh2"
      },
      "source": [
        "The total cost $C(x)$ in Rupees, associated with the production of $x$ gallons of gasoline is given by\n",
        "\n",
        "$$C(x) = 0.005 x^3 – 0.02 x^2 + 30x + 5000$$\n",
        "\n",
        "Find the marginal cost when $22$ gallons are produced, where, marginal cost means the instantaneous rate of change of total cost at any level of output."
      ]
    },
    {
      "cell_type": "code",
      "metadata": {
        "id": "rO-HMED3pzh2",
        "colab": {
          "base_uri": "https://localhost:8080/"
        },
        "outputId": "57ab972a-10ae-4d33-8061-b6fdf3878318"
      },
      "source": [
        "# YOUR CODE HERE\n",
        "x = Symbol('x')\n",
        "# Define the expression\n",
        "C = 0.005*(x**3)-0.02*(x**2)+30*x+5000\n",
        "marginal_cost = diff(C, x)\n",
        "print(f\"Marginal Cost when 22 gallons of gasoline are produced:{marginal_cost.subs(x,22)}\")"
      ],
      "execution_count": null,
      "outputs": [
        {
          "output_type": "stream",
          "name": "stdout",
          "text": [
            "Marginal Cost when 22 gallons of gasoline are produced:36.3800000000000\n"
          ]
        }
      ]
    },
    {
      "cell_type": "markdown",
      "metadata": {
        "id": "qOMlrDEhpzh2"
      },
      "source": [
        "### Marginal Revenue (1 point)"
      ]
    },
    {
      "cell_type": "markdown",
      "metadata": {
        "id": "bfS88lmWpzh2"
      },
      "source": [
        "The total revenue in Rupees received from the sale of $x$ gallons of a motor oil is given by $$R(x) = 3x^2 + 36x + 5.$$\n",
        "\n",
        "Find the marginal revenue, when $x = 28$, where, marginal revenue means the rate of change of total revenue with respect to the number of items sold at an instant."
      ]
    },
    {
      "cell_type": "code",
      "metadata": {
        "id": "rb0h6p49pzh2",
        "colab": {
          "base_uri": "https://localhost:8080/"
        },
        "outputId": "19589994-d2a2-4f8f-9655-d62b3ab2e218"
      },
      "source": [
        "# YOUR CODE HERE\n",
        "# YOUR CODE HERE\n",
        "x = Symbol('x')\n",
        "# Define the expression\n",
        "R = 3*(x**2)+36*x+5\n",
        "marginal_revenue = diff(R, x)\n",
        "print(f\"Marginal revenue when 28 gallons of motor oil sold:{marginal_revenue.subs(x,28)}\")"
      ],
      "execution_count": null,
      "outputs": [
        {
          "output_type": "stream",
          "name": "stdout",
          "text": [
            "Marginal revenue when 28 gallons of motor oil sold:204\n"
          ]
        }
      ]
    },
    {
      "cell_type": "markdown",
      "metadata": {
        "id": "ZKb5VuM_pzh2"
      },
      "source": [
        "### Pouring crude oil in tank (1 point)"
      ]
    },
    {
      "cell_type": "markdown",
      "metadata": {
        "id": "TD9zv5jPpzh2"
      },
      "source": [
        "In a cylindrical tank of radius 10 meter, crude oil is being poured at the rate of 314 cubic meter per hour. Then find\n",
        "\n",
        "* the rate at which the height of crude oil is increasing in the tank, and\n",
        "* the height of crude oil in tank after 2 hours."
      ]
    },
    {
      "cell_type": "code",
      "metadata": {
        "id": "g6ntcdNypzh2",
        "colab": {
          "base_uri": "https://localhost:8080/"
        },
        "outputId": "bd78fded-6e4d-4998-8f55-e3df3f8c563f"
      },
      "source": [
        "# YOUR CODE HERE\n",
        "import math\n",
        "radius = 10\n",
        "pour_rate = 314\n",
        "t = Symbol('t')\n",
        "height = (pour_rate)/(math.pi * (radius**2)) * t\n",
        "rate_height_change = diff(height,t)\n",
        "print(f\"The rate of height change per hour of the tank is {rate_height_change:.2f} meter per hour\")\n",
        "print(f\"The height of crude oil in tank 2 hours is {rate_height_change * 2:.2f} meter\")"
      ],
      "execution_count": null,
      "outputs": [
        {
          "output_type": "stream",
          "name": "stdout",
          "text": [
            "The rate of height change per hour of the tank is 1.00 meter per hour\n",
            "The height of crude oil in tank 2 hours is 2.00 meter\n"
          ]
        }
      ]
    }
  ]
}