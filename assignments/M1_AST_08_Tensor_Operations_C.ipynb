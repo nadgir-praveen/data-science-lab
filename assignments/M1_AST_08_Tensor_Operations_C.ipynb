{
  "nbformat": 4,
  "nbformat_minor": 0,
  "metadata": {
    "colab": {
      "provenance": [],
      "include_colab_link": true
    },
    "kernelspec": {
      "display_name": "Python 3",
      "language": "python",
      "name": "python3"
    },
    "language_info": {
      "codemirror_mode": {
        "name": "ipython",
        "version": 3
      },
      "file_extension": ".py",
      "mimetype": "text/x-python",
      "name": "python",
      "nbconvert_exporter": "python",
      "pygments_lexer": "ipython3",
      "version": "3.7.1"
    }
  },
  "cells": [
    {
      "cell_type": "markdown",
      "metadata": {
        "id": "view-in-github",
        "colab_type": "text"
      },
      "source": [
        "<a href=\"https://colab.research.google.com/github/nadgir-praveen/data-science-lab/blob/main/assignments/M1_AST_08_Tensor_Operations_C.ipynb\" target=\"_parent\"><img src=\"https://colab.research.google.com/assets/colab-badge.svg\" alt=\"Open In Colab\"/></a>"
      ]
    },
    {
      "cell_type": "markdown",
      "metadata": {
        "id": "xNe7dVP19Pb8"
      },
      "source": [
        "# Advanced Certification Program in Computational Data Science\n",
        "## A program by IISc and TalentSprint\n",
        "### Assignment 8: Tensor Operations"
      ]
    },
    {
      "cell_type": "markdown",
      "metadata": {
        "id": "jDWUyCYxQRAK"
      },
      "source": [
        "## Learning Objectives"
      ]
    },
    {
      "cell_type": "markdown",
      "metadata": {
        "id": "-vPeurvKNAEz"
      },
      "source": [
        "At the end of the experiment, you will be able to\n",
        "* understand Tensors and their application\n",
        "* define/form Tensors\n",
        "* perform different operations of Tensor using NumPy and Tensorflow library"
      ]
    },
    {
      "cell_type": "markdown",
      "metadata": {
        "id": "nr4zv0uVTA9j"
      },
      "source": [
        "## Information"
      ]
    },
    {
      "cell_type": "markdown",
      "metadata": {
        "id": "fhjkrEeSUIgu"
      },
      "source": [
        "**Tensors**: Tensor, in relation to machine learning, is a generalization of scalars, vectors, and matrices as seen in the table below.\n",
        "\n",
        "![img](https://cdn.iisc.talentsprint.com/CDS/Images/tensors.JPG)"
      ]
    },
    {
      "cell_type": "markdown",
      "metadata": {
        "id": "qQUX9GMPFl2U"
      },
      "source": [
        "* From the above explanation, you might have understood that Tensor operations are nothing but matrix operations.\n",
        "\n",
        "**Tensorflow**:\n",
        "We are introducing Tensorflow here, a widely used library for Machine Learning, specifically deep learning. Tensorflow's name is directly derived from its core framework: Tensor and all the computations carried out involve Tensor and its operations.TensorFlow was developed by the Google Brain team and first released under the Apache License 2.0 in 2015.\n",
        "* In the following sections, we will see few commonly used operations of Tensor using both NumPy and TensorFlow Library."
      ]
    },
    {
      "cell_type": "markdown",
      "metadata": {
        "id": "BNLA8HiKxQhc"
      },
      "source": [
        "### Setup Steps:"
      ]
    },
    {
      "cell_type": "code",
      "metadata": {
        "id": "2YzfoPvJDiTX"
      },
      "source": [
        "#@title Please enter your registration id to start: { run: \"auto\", display-mode: \"form\" }\n",
        "Id = \"2301978\" #@param {type:\"string\"}"
      ],
      "execution_count": null,
      "outputs": []
    },
    {
      "cell_type": "code",
      "metadata": {
        "id": "AjoZJWGErxGf"
      },
      "source": [
        "#@title Please enter your password (your registered phone number) to continue: { run: \"auto\", display-mode: \"form\" }\n",
        "password = \"9844001418\" #@param {type:\"string\"}"
      ],
      "execution_count": null,
      "outputs": []
    },
    {
      "cell_type": "code",
      "metadata": {
        "id": "WBPPuGmBlDIN",
        "cellView": "form",
        "colab": {
          "base_uri": "https://localhost:8080/",
          "height": 34
        },
        "outputId": "d9e5984a-61d5-4bac-c073-86c595b75aad"
      },
      "source": [
        "#@title Run this cell to complete the setup for this Notebook\n",
        "from IPython import get_ipython\n",
        "\n",
        "ipython = get_ipython()\n",
        "\n",
        "notebook= \"M1_AST_08_Tensor_Operations_C\" #name of the notebook\n",
        "\n",
        "def setup():\n",
        "#  ipython.magic(\"sx pip3 install torch\")\n",
        "    from IPython.display import HTML, display\n",
        "    display(HTML('<script src=\"https://dashboard.talentsprint.com/aiml/record_ip.html?traineeId={0}&recordId={1}\"></script>'.format(getId(),submission_id)))\n",
        "    print(\"Setup completed successfully\")\n",
        "    return\n",
        "\n",
        "def submit_notebook():\n",
        "    ipython.magic(\"notebook -e \"+ notebook + \".ipynb\")\n",
        "\n",
        "    import requests, json, base64, datetime\n",
        "\n",
        "    url = \"https://dashboard.talentsprint.com/xp/app/save_notebook_attempts\"\n",
        "    if not submission_id:\n",
        "      data = {\"id\" : getId(), \"notebook\" : notebook, \"mobile\" : getPassword()}\n",
        "      r = requests.post(url, data = data)\n",
        "      r = json.loads(r.text)\n",
        "\n",
        "      if r[\"status\"] == \"Success\":\n",
        "          return r[\"record_id\"]\n",
        "      elif \"err\" in r:\n",
        "        print(r[\"err\"])\n",
        "        return None\n",
        "      else:\n",
        "        print (\"Something is wrong, the notebook will not be submitted for grading\")\n",
        "        return None\n",
        "\n",
        "    elif getAnswer() and getComplexity() and getAdditional() and getConcepts() and getComments() and getMentorSupport():\n",
        "      f = open(notebook + \".ipynb\", \"rb\")\n",
        "      file_hash = base64.b64encode(f.read())\n",
        "\n",
        "      data = {\"complexity\" : Complexity, \"additional\" :Additional,\n",
        "              \"concepts\" : Concepts, \"record_id\" : submission_id,\n",
        "              \"answer\" : Answer, \"id\" : Id, \"file_hash\" : file_hash,\n",
        "              \"notebook\" : notebook,\n",
        "              \"feedback_experiments_input\" : Comments,\n",
        "              \"feedback_mentor_support\": Mentor_support}\n",
        "      r = requests.post(url, data = data)\n",
        "      r = json.loads(r.text)\n",
        "      if \"err\" in r:\n",
        "        print(r[\"err\"])\n",
        "        return None\n",
        "      else:\n",
        "        print(\"Your submission is successful.\")\n",
        "        print(\"Ref Id:\", submission_id)\n",
        "        print(\"Date of submission: \", r[\"date\"])\n",
        "        print(\"Time of submission: \", r[\"time\"])\n",
        "        print(\"View your submissions: https://cds-iisc.talentsprint.com/notebook_submissions\")\n",
        "        #print(\"For any queries/discrepancies, please connect with mentors through the chat icon in LMS dashboard.\")\n",
        "        return submission_id\n",
        "    else: submission_id\n",
        "\n",
        "\n",
        "def getAdditional():\n",
        "  try:\n",
        "    if not Additional:\n",
        "      raise NameError\n",
        "    else:\n",
        "      return Additional\n",
        "  except NameError:\n",
        "    print (\"Please answer Additional Question\")\n",
        "    return None\n",
        "\n",
        "def getComplexity():\n",
        "  try:\n",
        "    if not Complexity:\n",
        "      raise NameError\n",
        "    else:\n",
        "      return Complexity\n",
        "  except NameError:\n",
        "    print (\"Please answer Complexity Question\")\n",
        "    return None\n",
        "\n",
        "def getConcepts():\n",
        "  try:\n",
        "    if not Concepts:\n",
        "      raise NameError\n",
        "    else:\n",
        "      return Concepts\n",
        "  except NameError:\n",
        "    print (\"Please answer Concepts Question\")\n",
        "    return None\n",
        "\n",
        "\n",
        "# def getWalkthrough():\n",
        "#   try:\n",
        "#     if not Walkthrough:\n",
        "#       raise NameError\n",
        "#     else:\n",
        "#       return Walkthrough\n",
        "#   except NameError:\n",
        "#     print (\"Please answer Walkthrough Question\")\n",
        "#     return None\n",
        "\n",
        "def getComments():\n",
        "  try:\n",
        "    if not Comments:\n",
        "      raise NameError\n",
        "    else:\n",
        "      return Comments\n",
        "  except NameError:\n",
        "    print (\"Please answer Comments Question\")\n",
        "    return None\n",
        "\n",
        "\n",
        "def getMentorSupport():\n",
        "  try:\n",
        "    if not Mentor_support:\n",
        "      raise NameError\n",
        "    else:\n",
        "      return Mentor_support\n",
        "  except NameError:\n",
        "    print (\"Please answer Mentor support Question\")\n",
        "    return None\n",
        "\n",
        "def getAnswer():\n",
        "  try:\n",
        "    if not Answer:\n",
        "      raise NameError\n",
        "    else:\n",
        "      return Answer\n",
        "  except NameError:\n",
        "    print (\"Please answer Question\")\n",
        "    return None\n",
        "\n",
        "\n",
        "def getId():\n",
        "  try:\n",
        "    return Id if Id else None\n",
        "  except NameError:\n",
        "    return None\n",
        "\n",
        "def getPassword():\n",
        "  try:\n",
        "    return password if password else None\n",
        "  except NameError:\n",
        "    return None\n",
        "\n",
        "submission_id = None\n",
        "### Setup\n",
        "if getPassword() and getId():\n",
        "  submission_id = submit_notebook()\n",
        "  if submission_id:\n",
        "    setup()\n",
        "else:\n",
        "  print (\"Please complete Id and Password cells before running setup\")\n",
        "\n"
      ],
      "execution_count": null,
      "outputs": [
        {
          "output_type": "display_data",
          "data": {
            "text/plain": [
              "<IPython.core.display.HTML object>"
            ],
            "text/html": [
              "<script src=\"https://dashboard.talentsprint.com/aiml/record_ip.html?traineeId=2301978&recordId=1277\"></script>"
            ]
          },
          "metadata": {}
        },
        {
          "output_type": "stream",
          "name": "stdout",
          "text": [
            "Setup completed successfully\n"
          ]
        }
      ]
    },
    {
      "cell_type": "markdown",
      "metadata": {
        "id": "ynL2MOaMNDrg"
      },
      "source": [
        "#### Importing Required Packages"
      ]
    },
    {
      "cell_type": "code",
      "metadata": {
        "id": "7-9RvK3wugWC"
      },
      "source": [
        "import numpy as np\n",
        "import tensorflow as tf"
      ],
      "execution_count": null,
      "outputs": []
    },
    {
      "cell_type": "markdown",
      "metadata": {
        "id": "YGkLfp--LidI"
      },
      "source": [
        "### Defining and slicing a 2D/1D-Tensor"
      ]
    },
    {
      "cell_type": "markdown",
      "metadata": {
        "id": "1HrS-aWEhrZV"
      },
      "source": [
        "#### NumPy"
      ]
    },
    {
      "cell_type": "code",
      "metadata": {
        "id": "u9ar1fwPwmf1",
        "colab": {
          "base_uri": "https://localhost:8080/"
        },
        "outputId": "d5f7d045-dfa4-4339-bf46-e2042843f5f4"
      },
      "source": [
        "a=np.array([[1,2],[2,3],[6,7]])             # Defining a 2D array in Numpy\n",
        "print(a)                                    # printing the array\n",
        "print('shape = ',a.shape)                   # '.shape' method gives the number of rows and columns in the form of a tuple\n",
        "print('dimension = ',a.ndim)                # It gives dimension of the array\n",
        "print('size =',np.size(a))                  # size always gives total number of elements in any array\n",
        "print('lengths = ',len(a))                  # In 2D it gives the number of rows in an array\n",
        "print('data structure type : ',type(a))     # It gives the type of data structure\n",
        "a.dtype                                     # it gives type of data stored in array"
      ],
      "execution_count": null,
      "outputs": [
        {
          "output_type": "stream",
          "name": "stdout",
          "text": [
            "[[1 2]\n",
            " [2 3]\n",
            " [6 7]]\n",
            "shape =  (3, 2)\n",
            "dimension =  2\n",
            "size = 6\n",
            "lengths =  3\n",
            "data structure type :  <class 'numpy.ndarray'>\n"
          ]
        },
        {
          "output_type": "execute_result",
          "data": {
            "text/plain": [
              "dtype('int64')"
            ]
          },
          "metadata": {},
          "execution_count": 5
        }
      ]
    },
    {
      "cell_type": "markdown",
      "metadata": {
        "id": "NWwnaFk7YA9H"
      },
      "source": [
        "##### Slicing: We are going to define a 2D Matrix as given in the image below and apply the slicing operations.\n",
        "\n",
        "![2Dimg](https://cdn.iisc.talentsprint.com/CDS/Images/2D_array_slicing.JPG)"
      ]
    },
    {
      "cell_type": "code",
      "metadata": {
        "id": "PNFzlFt2QfoI",
        "colab": {
          "base_uri": "https://localhost:8080/"
        },
        "outputId": "1b062ece-ea24-473d-e230-ee7983494792"
      },
      "source": [
        "## Creating a 2D array\n",
        "a2d = np.array([[1, 2, 3, 4], [4, 5, 6, 7], [7, 8, 9, 10]])\n",
        "a2d"
      ],
      "execution_count": null,
      "outputs": [
        {
          "output_type": "execute_result",
          "data": {
            "text/plain": [
              "array([[ 1,  2,  3,  4],\n",
              "       [ 4,  5,  6,  7],\n",
              "       [ 7,  8,  9, 10]])"
            ]
          },
          "metadata": {},
          "execution_count": 6
        }
      ]
    },
    {
      "cell_type": "code",
      "metadata": {
        "id": "8hiI6vCpQryb",
        "colab": {
          "base_uri": "https://localhost:8080/"
        },
        "outputId": "9e74c459-ddd9-4087-9383-5fd8eafa4d9e"
      },
      "source": [
        "# slicing the 2nd index row\n",
        "a2d[2]"
      ],
      "execution_count": null,
      "outputs": [
        {
          "output_type": "execute_result",
          "data": {
            "text/plain": [
              "array([ 7,  8,  9, 10])"
            ]
          },
          "metadata": {},
          "execution_count": 7
        }
      ]
    },
    {
      "cell_type": "code",
      "metadata": {
        "id": "2tGDuWBbQvBn",
        "colab": {
          "base_uri": "https://localhost:8080/"
        },
        "outputId": "48b117b3-b95d-4bcf-aad3-36959f51f973"
      },
      "source": [
        "# zeroth row\n",
        "a2d[0]"
      ],
      "execution_count": null,
      "outputs": [
        {
          "output_type": "execute_result",
          "data": {
            "text/plain": [
              "array([1, 2, 3, 4])"
            ]
          },
          "metadata": {},
          "execution_count": 8
        }
      ]
    },
    {
      "cell_type": "code",
      "metadata": {
        "id": "rKtiyYnBQzbH",
        "colab": {
          "base_uri": "https://localhost:8080/"
        },
        "outputId": "9286a33a-b89e-4ecc-b3e1-a861e0e13a3f"
      },
      "source": [
        "# The first value before coma is for row index and the second value after coma is for column index.\n",
        "a2d[1,3]"
      ],
      "execution_count": null,
      "outputs": [
        {
          "output_type": "execute_result",
          "data": {
            "text/plain": [
              "7"
            ]
          },
          "metadata": {},
          "execution_count": 9
        }
      ]
    },
    {
      "cell_type": "code",
      "metadata": {
        "id": "Db2mLx6mQ354",
        "colab": {
          "base_uri": "https://localhost:8080/"
        },
        "outputId": "86161628-f023-4fee-de26-c599db760906"
      },
      "source": [
        "# This can also used.\n",
        "a2d[1][3]"
      ],
      "execution_count": null,
      "outputs": [
        {
          "output_type": "execute_result",
          "data": {
            "text/plain": [
              "7"
            ]
          },
          "metadata": {},
          "execution_count": 10
        }
      ]
    },
    {
      "cell_type": "code",
      "metadata": {
        "id": "rNWmrrTGQ9Gx",
        "colab": {
          "base_uri": "https://localhost:8080/"
        },
        "outputId": "6d04ec10-5b26-42c6-a602-e11ba39bf649"
      },
      "source": [
        "# Using negative index\n",
        "a2d[-2,-3]"
      ],
      "execution_count": null,
      "outputs": [
        {
          "output_type": "execute_result",
          "data": {
            "text/plain": [
              "5"
            ]
          },
          "metadata": {},
          "execution_count": 11
        }
      ]
    },
    {
      "cell_type": "code",
      "metadata": {
        "id": "L3ZmrbauRETu",
        "colab": {
          "base_uri": "https://localhost:8080/"
        },
        "outputId": "8df68e13-205b-434a-f5ad-4979b35f164d"
      },
      "source": [
        "# from the very beginning to -2 indexed row (i.e -3 and -2 indexed row) and -3,-4 indexed columns are sliced\n",
        "a2d[:-1,:-2]"
      ],
      "execution_count": null,
      "outputs": [
        {
          "output_type": "execute_result",
          "data": {
            "text/plain": [
              "array([[1, 2],\n",
              "       [4, 5]])"
            ]
          },
          "metadata": {},
          "execution_count": 12
        }
      ]
    },
    {
      "cell_type": "code",
      "metadata": {
        "id": "WL3-HuniRJWl",
        "colab": {
          "base_uri": "https://localhost:8080/"
        },
        "outputId": "c0103ee6-3436-46eb-eff0-2d537347b194"
      },
      "source": [
        "# from the very beginning to 1 indexed row, i.e 0 and 1 index row sliced. 2 is not included.\n",
        "a2d[:2]"
      ],
      "execution_count": null,
      "outputs": [
        {
          "output_type": "execute_result",
          "data": {
            "text/plain": [
              "array([[1, 2, 3, 4],\n",
              "       [4, 5, 6, 7]])"
            ]
          },
          "metadata": {},
          "execution_count": 13
        }
      ]
    },
    {
      "cell_type": "code",
      "metadata": {
        "id": "IuirfsDkRRXB",
        "colab": {
          "base_uri": "https://localhost:8080/"
        },
        "outputId": "a3b75677-d409-4f84-cb9b-dd7c652aba9e"
      },
      "source": [
        "# ( 0 ,1 ) indexed rows and 2 to last indexed columns are sliced.\n",
        "a2d[:2, 2:]"
      ],
      "execution_count": null,
      "outputs": [
        {
          "output_type": "execute_result",
          "data": {
            "text/plain": [
              "array([[3, 4],\n",
              "       [6, 7]])"
            ]
          },
          "metadata": {},
          "execution_count": 14
        }
      ]
    },
    {
      "cell_type": "code",
      "metadata": {
        "id": "OAaf6o7VRbFq",
        "colab": {
          "base_uri": "https://localhost:8080/"
        },
        "outputId": "8863fce4-87b7-4fe9-e7e0-8428093c2b60"
      },
      "source": [
        "# 1 indexed row and (0,1) indexed columns are sliced .\n",
        "a2d[1, :2]"
      ],
      "execution_count": null,
      "outputs": [
        {
          "output_type": "execute_result",
          "data": {
            "text/plain": [
              "array([4, 5])"
            ]
          },
          "metadata": {},
          "execution_count": 15
        }
      ]
    },
    {
      "cell_type": "code",
      "metadata": {
        "id": "P9toXdxKRYG-",
        "colab": {
          "base_uri": "https://localhost:8080/"
        },
        "outputId": "cc2501c0-cdb0-4313-82b7-eacf123a83c1"
      },
      "source": [
        "# Explain yourself?\n",
        "a2d[:2, 2]"
      ],
      "execution_count": null,
      "outputs": [
        {
          "output_type": "execute_result",
          "data": {
            "text/plain": [
              "array([3, 6])"
            ]
          },
          "metadata": {},
          "execution_count": 16
        }
      ]
    },
    {
      "cell_type": "code",
      "metadata": {
        "id": "WGBZjVkSRfe1",
        "colab": {
          "base_uri": "https://localhost:8080/"
        },
        "outputId": "57bb86c6-d43a-4897-ddd9-7034afb2b910"
      },
      "source": [
        "# All rows and 0 column ( from the very beginning, but 1 not included i.e. zeroth column ) sliced.\n",
        "a2d[:, :1]"
      ],
      "execution_count": null,
      "outputs": [
        {
          "output_type": "execute_result",
          "data": {
            "text/plain": [
              "array([[1],\n",
              "       [4],\n",
              "       [7]])"
            ]
          },
          "metadata": {},
          "execution_count": 17
        }
      ]
    },
    {
      "cell_type": "code",
      "metadata": {
        "id": "tMemWat8Rklm",
        "colab": {
          "base_uri": "https://localhost:8080/"
        },
        "outputId": "2106dde2-3c25-41c0-9353-cf302191586c"
      },
      "source": [
        "print('Initial Matrix = ',a2d)\n",
        "# This is an assignment operation, a2d  itself gets changed.\n",
        "a2d[:2, 1:] = 0\n",
        "print('Matrix after above assigned operations = ',a2d)"
      ],
      "execution_count": null,
      "outputs": [
        {
          "output_type": "stream",
          "name": "stdout",
          "text": [
            "Initial Matrix =  [[ 1  2  3  4]\n",
            " [ 4  5  6  7]\n",
            " [ 7  8  9 10]]\n",
            "Matrix after above assigned operations =  [[ 1  0  0  0]\n",
            " [ 4  0  0  0]\n",
            " [ 7  8  9 10]]\n"
          ]
        }
      ]
    },
    {
      "cell_type": "markdown",
      "metadata": {
        "id": "ftyZwvizMjaP"
      },
      "source": [
        "#### TensorFlow\n",
        "**tf.Variable**: There are multiple ways of defining/forming a Tensor in Tensorflow, tf.Variable is one of those. A tf.Variable represents a tensor whose value can be changed by running operations on it. Specific operations allow you to read and modify the values of this tensor. Higher-level libraries like tf.keras use tf.Variable to store model parameters that keep changing/updating with subsequent learning steps.\n",
        "\n",
        "**tf.Constant**: This is another way of creating a Tensor but the tensor made through this cannot be updated but can be called multiple times with only 1 copy in the memory."
      ]
    },
    {
      "cell_type": "code",
      "metadata": {
        "id": "G_pY-WC8J5rH",
        "colab": {
          "base_uri": "https://localhost:8080/"
        },
        "outputId": "29791c8a-7f0b-488b-f163-70234d8e0e64"
      },
      "source": [
        "a_tf = tf.Variable([[1,2],[2,3],[6,7]])\n",
        "print(a_tf)\n",
        "print(\"Shape of the input tensor is\", tf.shape(a_tf)) # Returns a tensor containing the shape of the input tensor\n",
        "print(\"Rank of the input tensor is\", tf.rank(a_tf)) # Returns the rank of a tensor\n",
        "# print(a_tf.ndim) -->  This operation is not valid for tf.variable object.\n",
        "print(\"Size of the input tensor is\", tf.size(a_tf)) # Returns the size of a tensor"
      ],
      "execution_count": null,
      "outputs": [
        {
          "output_type": "stream",
          "name": "stdout",
          "text": [
            "<tf.Variable 'Variable:0' shape=(3, 2) dtype=int32, numpy=\n",
            "array([[1, 2],\n",
            "       [2, 3],\n",
            "       [6, 7]], dtype=int32)>\n",
            "Shape of the input tensor is tf.Tensor([3 2], shape=(2,), dtype=int32)\n",
            "Rank of the input tensor is tf.Tensor(2, shape=(), dtype=int32)\n",
            "Size of the input tensor is tf.Tensor(6, shape=(), dtype=int32)\n"
          ]
        }
      ]
    },
    {
      "cell_type": "markdown",
      "metadata": {
        "id": "FQMtT9VYOdI-"
      },
      "source": [
        "##### Slicing: Similar to Numpy array slicing."
      ]
    },
    {
      "cell_type": "code",
      "metadata": {
        "id": "QSJ1nBOQ9Z1s",
        "colab": {
          "base_uri": "https://localhost:8080/"
        },
        "outputId": "9a910076-5f13-476c-f4e2-a63962670cec"
      },
      "source": [
        "a_tf[:,1]"
      ],
      "execution_count": null,
      "outputs": [
        {
          "output_type": "execute_result",
          "data": {
            "text/plain": [
              "<tf.Tensor: shape=(3,), dtype=int32, numpy=array([2, 3, 7], dtype=int32)>"
            ]
          },
          "metadata": {},
          "execution_count": 20
        }
      ]
    },
    {
      "cell_type": "markdown",
      "metadata": {
        "id": "r-kOKgPcgK6V"
      },
      "source": [
        "#### Note the difference between 1D tensor, 2D row tensor, and 2D column tensor, explained with an example below."
      ]
    },
    {
      "cell_type": "markdown",
      "metadata": {
        "id": "Rh-ROINnhl5A"
      },
      "source": [
        "##### NumPy"
      ]
    },
    {
      "cell_type": "code",
      "metadata": {
        "id": "eCmq5aI0gm_6",
        "colab": {
          "base_uri": "https://localhost:8080/"
        },
        "outputId": "1c49a8b1-42e5-4867-d4bb-b0536d675273"
      },
      "source": [
        "# This is a 1D tensor\n",
        "V1 = np.array([1,2,3])\n",
        "print(V1,'\\n')\n",
        "print(V1.shape)"
      ],
      "execution_count": null,
      "outputs": [
        {
          "output_type": "stream",
          "name": "stdout",
          "text": [
            "[1 2 3] \n",
            "\n",
            "(3,)\n"
          ]
        }
      ]
    },
    {
      "cell_type": "code",
      "metadata": {
        "id": "p06yVFCShM50",
        "colab": {
          "base_uri": "https://localhost:8080/"
        },
        "outputId": "385e0ee7-7502-4320-bff4-a951e66ffc4b"
      },
      "source": [
        "# This is a 2D tensor having 1 row and 3 columns, i.e. 2D row tensor as it contains only one row.\n",
        "V2 = np.array([[1,2,3]])\n",
        "print(V2,'\\n')\n",
        "print(V2.shape)"
      ],
      "execution_count": null,
      "outputs": [
        {
          "output_type": "stream",
          "name": "stdout",
          "text": [
            "[[1 2 3]] \n",
            "\n",
            "(1, 3)\n"
          ]
        }
      ]
    },
    {
      "cell_type": "code",
      "metadata": {
        "id": "U19HA23rgnPN",
        "colab": {
          "base_uri": "https://localhost:8080/"
        },
        "outputId": "c7add5be-736e-40bc-85f7-d690be4f772a"
      },
      "source": [
        "# This is a 2D tensor having 3 rows and 1 column, ie. a 2D column tensor as it contains only one column.\n",
        "V3 = np.array([[1],[2],[3]])\n",
        "print(V3,'\\n')\n",
        "print(V3.shape)"
      ],
      "execution_count": null,
      "outputs": [
        {
          "output_type": "stream",
          "name": "stdout",
          "text": [
            "[[1]\n",
            " [2]\n",
            " [3]] \n",
            "\n",
            "(3, 1)\n"
          ]
        }
      ]
    },
    {
      "cell_type": "markdown",
      "metadata": {
        "id": "c24mn429h452"
      },
      "source": [
        "##### TensorFlow"
      ]
    },
    {
      "cell_type": "code",
      "metadata": {
        "id": "Fgpl2e6Nh_Hy",
        "colab": {
          "base_uri": "https://localhost:8080/"
        },
        "outputId": "5b36a258-ef55-4149-df1b-0517dab7cb32"
      },
      "source": [
        "V1_tf = tf.Variable([1,2,3])\n",
        "print(V1_tf)"
      ],
      "execution_count": null,
      "outputs": [
        {
          "output_type": "stream",
          "name": "stdout",
          "text": [
            "<tf.Variable 'Variable:0' shape=(3,) dtype=int32, numpy=array([1, 2, 3], dtype=int32)>\n"
          ]
        }
      ]
    },
    {
      "cell_type": "code",
      "metadata": {
        "id": "2eMy_zz-iL2J",
        "colab": {
          "base_uri": "https://localhost:8080/"
        },
        "outputId": "c2fa37c5-a779-40a2-b2be-ac0328317443"
      },
      "source": [
        "V2_tf = tf.Variable([[1,2,3]])\n",
        "print(V2_tf)"
      ],
      "execution_count": null,
      "outputs": [
        {
          "output_type": "stream",
          "name": "stdout",
          "text": [
            "<tf.Variable 'Variable:0' shape=(1, 3) dtype=int32, numpy=array([[1, 2, 3]], dtype=int32)>\n"
          ]
        }
      ]
    },
    {
      "cell_type": "code",
      "metadata": {
        "id": "G8a5oDGuiaLG",
        "colab": {
          "base_uri": "https://localhost:8080/"
        },
        "outputId": "cf63d489-1218-4f4a-d10e-c6b7f5ed13ae"
      },
      "source": [
        "V3_tf = tf.Variable([[1],[2],[3]])\n",
        "print(V3_tf)"
      ],
      "execution_count": null,
      "outputs": [
        {
          "output_type": "stream",
          "name": "stdout",
          "text": [
            "<tf.Variable 'Variable:0' shape=(3, 1) dtype=int32, numpy=\n",
            "array([[1],\n",
            "       [2],\n",
            "       [3]], dtype=int32)>\n"
          ]
        }
      ]
    },
    {
      "cell_type": "markdown",
      "metadata": {
        "id": "qrF7byEzdr4p"
      },
      "source": [
        "### Transpose\n",
        "The new matrix obtained by interchanging the rows and columns of the original matrix is referred to as the transpose of the matrix."
      ]
    },
    {
      "cell_type": "markdown",
      "metadata": {
        "id": "xCrBefyBivx1"
      },
      "source": [
        "#### NumPy"
      ]
    },
    {
      "cell_type": "code",
      "metadata": {
        "id": "a9wOlq2nduLQ",
        "colab": {
          "base_uri": "https://localhost:8080/"
        },
        "outputId": "d1166864-056b-41bc-b4e6-cac271410dd9"
      },
      "source": [
        "print(a2d,'\\n')\n",
        "print(a2d.T)"
      ],
      "execution_count": null,
      "outputs": [
        {
          "output_type": "stream",
          "name": "stdout",
          "text": [
            "[[ 1  0  0  0]\n",
            " [ 4  0  0  0]\n",
            " [ 7  8  9 10]] \n",
            "\n",
            "[[ 1  4  7]\n",
            " [ 0  0  8]\n",
            " [ 0  0  9]\n",
            " [ 0  0 10]]\n"
          ]
        }
      ]
    },
    {
      "cell_type": "markdown",
      "metadata": {
        "id": "k_rdmqffeeJQ"
      },
      "source": [
        "#### TensorFlow"
      ]
    },
    {
      "cell_type": "code",
      "metadata": {
        "id": "8HXArIhveA7e",
        "colab": {
          "base_uri": "https://localhost:8080/"
        },
        "outputId": "06957b05-6136-4b21-96f1-14d14813803a"
      },
      "source": [
        "# Creating a 2D tensor\n",
        "a2d_tf = tf.Variable([[1, 2, 3, 4], [4, 5, 6, 7], [7, 8, 9, 10]])\n",
        "print(a2d_tf)\n",
        "tf.transpose(a2d_tf)"
      ],
      "execution_count": null,
      "outputs": [
        {
          "output_type": "stream",
          "name": "stdout",
          "text": [
            "<tf.Variable 'Variable:0' shape=(3, 4) dtype=int32, numpy=\n",
            "array([[ 1,  2,  3,  4],\n",
            "       [ 4,  5,  6,  7],\n",
            "       [ 7,  8,  9, 10]], dtype=int32)>\n"
          ]
        },
        {
          "output_type": "execute_result",
          "data": {
            "text/plain": [
              "<tf.Tensor: shape=(4, 3), dtype=int32, numpy=\n",
              "array([[ 1,  4,  7],\n",
              "       [ 2,  5,  8],\n",
              "       [ 3,  6,  9],\n",
              "       [ 4,  7, 10]], dtype=int32)>"
            ]
          },
          "metadata": {},
          "execution_count": 29
        }
      ]
    },
    {
      "cell_type": "markdown",
      "metadata": {
        "id": "ivm4y0dGpgei"
      },
      "source": [
        "### Scalar Addition and Multiplication\n",
        "Addition or Multiplication of any higher-order tensor with a scalar quantity(zero-order tensor)."
      ]
    },
    {
      "cell_type": "markdown",
      "metadata": {
        "id": "I8j5Izfyh9AI"
      },
      "source": [
        "#### NumPy"
      ]
    },
    {
      "cell_type": "code",
      "metadata": {
        "id": "rLPFRvaf4Xu8",
        "colab": {
          "base_uri": "https://localhost:8080/"
        },
        "outputId": "6c877da8-febf-423d-900f-60ef72bd0ea2"
      },
      "source": [
        "print(a)\n",
        "a+2 # 2 is added to each element of the initial matrix a."
      ],
      "execution_count": null,
      "outputs": [
        {
          "output_type": "stream",
          "name": "stdout",
          "text": [
            "[[1 2]\n",
            " [2 3]\n",
            " [6 7]]\n"
          ]
        },
        {
          "output_type": "execute_result",
          "data": {
            "text/plain": [
              "array([[3, 4],\n",
              "       [4, 5],\n",
              "       [8, 9]])"
            ]
          },
          "metadata": {},
          "execution_count": 30
        }
      ]
    },
    {
      "cell_type": "code",
      "metadata": {
        "id": "JY1H890u4jqH",
        "colab": {
          "base_uri": "https://localhost:8080/"
        },
        "outputId": "2c1036f8-d0d6-4eb3-b73c-f0ef32c7c00a"
      },
      "source": [
        "a*2 # Each element of the initial matrix is multiplied by 2."
      ],
      "execution_count": null,
      "outputs": [
        {
          "output_type": "execute_result",
          "data": {
            "text/plain": [
              "array([[ 2,  4],\n",
              "       [ 4,  6],\n",
              "       [12, 14]])"
            ]
          },
          "metadata": {},
          "execution_count": 31
        }
      ]
    },
    {
      "cell_type": "markdown",
      "metadata": {
        "id": "kIRD0ZLF5PNI"
      },
      "source": [
        "#### TensorFlow"
      ]
    },
    {
      "cell_type": "code",
      "metadata": {
        "id": "zRqRXSLl4YH7",
        "colab": {
          "base_uri": "https://localhost:8080/"
        },
        "outputId": "7cff150c-db5c-4506-c121-1759536a946c"
      },
      "source": [
        "print(a_tf)\n",
        "tf.add(a_tf,2)"
      ],
      "execution_count": null,
      "outputs": [
        {
          "output_type": "stream",
          "name": "stdout",
          "text": [
            "<tf.Variable 'Variable:0' shape=(3, 2) dtype=int32, numpy=\n",
            "array([[1, 2],\n",
            "       [2, 3],\n",
            "       [6, 7]], dtype=int32)>\n"
          ]
        },
        {
          "output_type": "execute_result",
          "data": {
            "text/plain": [
              "<tf.Tensor: shape=(3, 2), dtype=int32, numpy=\n",
              "array([[3, 4],\n",
              "       [4, 5],\n",
              "       [8, 9]], dtype=int32)>"
            ]
          },
          "metadata": {},
          "execution_count": 32
        }
      ]
    },
    {
      "cell_type": "code",
      "metadata": {
        "id": "4dPKvGka4YTg",
        "colab": {
          "base_uri": "https://localhost:8080/"
        },
        "outputId": "9732848c-891c-4480-eb31-fad0677099ac"
      },
      "source": [
        "tf.multiply(a_tf,2)"
      ],
      "execution_count": null,
      "outputs": [
        {
          "output_type": "execute_result",
          "data": {
            "text/plain": [
              "<tf.Tensor: shape=(3, 2), dtype=int32, numpy=\n",
              "array([[ 2,  4],\n",
              "       [ 4,  6],\n",
              "       [12, 14]], dtype=int32)>"
            ]
          },
          "metadata": {},
          "execution_count": 33
        }
      ]
    },
    {
      "cell_type": "markdown",
      "metadata": {
        "id": "AP_xsfdfiy3a"
      },
      "source": [
        "### Addition and Subtraction between tensors\n",
        "When the shape of the tensors is same, element-wise addition and subtraction can be carried out"
      ]
    },
    {
      "cell_type": "markdown",
      "metadata": {
        "id": "oPhAW5R6iBfi"
      },
      "source": [
        "#### NumPy"
      ]
    },
    {
      "cell_type": "code",
      "metadata": {
        "id": "g3eOutTlbSJr",
        "colab": {
          "base_uri": "https://localhost:8080/"
        },
        "outputId": "b56c52a7-2bd8-4ff3-bb03-6f2955d9186e"
      },
      "source": [
        "b = np.array([[1,2],[2,3]])\n",
        "c = np.array([[3,4],[5,6]])\n",
        "print('b = ','\\n',b,'\\n','c = ','\\n',c)"
      ],
      "execution_count": null,
      "outputs": [
        {
          "output_type": "stream",
          "name": "stdout",
          "text": [
            "b =  \n",
            " [[1 2]\n",
            " [2 3]] \n",
            " c =  \n",
            " [[3 4]\n",
            " [5 6]]\n"
          ]
        }
      ]
    },
    {
      "cell_type": "code",
      "metadata": {
        "id": "JHePyXEFbSX-",
        "colab": {
          "base_uri": "https://localhost:8080/"
        },
        "outputId": "d7e78cb8-c653-4326-d85f-811b6e437fd1"
      },
      "source": [
        "print(b+c,'\\n')\n",
        "print(b-c)"
      ],
      "execution_count": null,
      "outputs": [
        {
          "output_type": "stream",
          "name": "stdout",
          "text": [
            "[[4 6]\n",
            " [7 9]] \n",
            "\n",
            "[[-2 -2]\n",
            " [-3 -3]]\n"
          ]
        }
      ]
    },
    {
      "cell_type": "markdown",
      "metadata": {
        "id": "jDej96KvbRRb"
      },
      "source": [
        "#### TensorFlow"
      ]
    },
    {
      "cell_type": "code",
      "metadata": {
        "id": "kpNgf3rvZa2Z",
        "colab": {
          "base_uri": "https://localhost:8080/"
        },
        "outputId": "fdcef031-7197-4658-d2da-31f6e03b1317"
      },
      "source": [
        "b_tf = tf.Variable([[1,2],[2,3]])\n",
        "c_tf = tf.Variable([[3,4],[5,6]])\n",
        "print(b_tf,'\\n',c_tf)\n"
      ],
      "execution_count": null,
      "outputs": [
        {
          "output_type": "stream",
          "name": "stdout",
          "text": [
            "<tf.Variable 'Variable:0' shape=(2, 2) dtype=int32, numpy=\n",
            "array([[1, 2],\n",
            "       [2, 3]], dtype=int32)> \n",
            " <tf.Variable 'Variable:0' shape=(2, 2) dtype=int32, numpy=\n",
            "array([[3, 4],\n",
            "       [5, 6]], dtype=int32)>\n"
          ]
        }
      ]
    },
    {
      "cell_type": "code",
      "metadata": {
        "id": "tywFTUvUZbME",
        "colab": {
          "base_uri": "https://localhost:8080/"
        },
        "outputId": "625f00c4-b856-487a-db77-9fcbc621a421"
      },
      "source": [
        "tf.add(b_tf,c_tf) # Addition"
      ],
      "execution_count": null,
      "outputs": [
        {
          "output_type": "execute_result",
          "data": {
            "text/plain": [
              "<tf.Tensor: shape=(2, 2), dtype=int32, numpy=\n",
              "array([[4, 6],\n",
              "       [7, 9]], dtype=int32)>"
            ]
          },
          "metadata": {},
          "execution_count": 37
        }
      ]
    },
    {
      "cell_type": "code",
      "metadata": {
        "id": "Z-qhr0OPabAS",
        "colab": {
          "base_uri": "https://localhost:8080/"
        },
        "outputId": "6842f859-3fb2-4be3-fe99-59ee8dc42c08"
      },
      "source": [
        "tf.subtract(b_tf,c_tf) # subtraction"
      ],
      "execution_count": null,
      "outputs": [
        {
          "output_type": "execute_result",
          "data": {
            "text/plain": [
              "<tf.Tensor: shape=(2, 2), dtype=int32, numpy=\n",
              "array([[-2, -2],\n",
              "       [-3, -3]], dtype=int32)>"
            ]
          },
          "metadata": {},
          "execution_count": 38
        }
      ]
    },
    {
      "cell_type": "markdown",
      "metadata": {
        "id": "GQ3iD_93hBgB"
      },
      "source": [
        "### Concept of Broadcasting\n",
        "\n",
        "Understand by going through the examples given below."
      ]
    },
    {
      "cell_type": "markdown",
      "metadata": {
        "id": "91xEYRpZnWtB"
      },
      "source": [
        "#### NumPy\n",
        "\n",
        "To know more about broadcasting click [here](https://numpy.org/devdocs/user/theory.broadcasting.html)."
      ]
    },
    {
      "cell_type": "code",
      "metadata": {
        "id": "ttoVSau6kQUg",
        "colab": {
          "base_uri": "https://localhost:8080/"
        },
        "outputId": "4c0899d2-0ad9-46d7-b51e-342cb04aeffc"
      },
      "source": [
        "M1 = np.array([[1,2,3],[4,5,6]])\n",
        "print(M1)\n",
        "M1.shape"
      ],
      "execution_count": null,
      "outputs": [
        {
          "output_type": "stream",
          "name": "stdout",
          "text": [
            "[[1 2 3]\n",
            " [4 5 6]]\n"
          ]
        },
        {
          "output_type": "execute_result",
          "data": {
            "text/plain": [
              "(2, 3)"
            ]
          },
          "metadata": {},
          "execution_count": 39
        }
      ]
    },
    {
      "cell_type": "code",
      "metadata": {
        "id": "J7FGP8DxkQj4",
        "colab": {
          "base_uri": "https://localhost:8080/"
        },
        "outputId": "56e16c51-15f1-44b8-b060-03bffc42719a"
      },
      "source": [
        "M2 = np.array([[8],[9]])\n",
        "print(M2)\n",
        "M2.shape"
      ],
      "execution_count": null,
      "outputs": [
        {
          "output_type": "stream",
          "name": "stdout",
          "text": [
            "[[8]\n",
            " [9]]\n"
          ]
        },
        {
          "output_type": "execute_result",
          "data": {
            "text/plain": [
              "(2, 1)"
            ]
          },
          "metadata": {},
          "execution_count": 40
        }
      ]
    },
    {
      "cell_type": "markdown",
      "metadata": {
        "id": "xDi6j-RhniBt"
      },
      "source": [
        "Mathematically M1 and M2 cannot be added as the shape doesn't match, but in NumPy, they can be added. M2 has the same number of rows as that of M1. Its column gets replicated so that its shape becomes equal to M1, and then, both are added. This process of replication is broadcasting. M2 gets broadcasted in the direction of the column of M1. We will see the result after replication and sum operation. Broadcasted M2 is not visible, it is a hidden step. See the result below:"
      ]
    },
    {
      "cell_type": "code",
      "metadata": {
        "id": "1XflAQ3qkQwx",
        "colab": {
          "base_uri": "https://localhost:8080/"
        },
        "outputId": "cbcfaf32-5671-4ae3-f723-c6291db7c354"
      },
      "source": [
        "M1+M2"
      ],
      "execution_count": null,
      "outputs": [
        {
          "output_type": "execute_result",
          "data": {
            "text/plain": [
              "array([[ 9, 10, 11],\n",
              "       [13, 14, 15]])"
            ]
          },
          "metadata": {},
          "execution_count": 41
        }
      ]
    },
    {
      "cell_type": "code",
      "metadata": {
        "id": "ubKLjJ09oMGI",
        "colab": {
          "base_uri": "https://localhost:8080/"
        },
        "outputId": "95446892-18da-43e0-b6bd-42661da4bbee"
      },
      "source": [
        "# Making another array M3\n",
        "M3 = np.array([[10,20,30]])\n",
        "print(M3)\n",
        "M3.shape"
      ],
      "execution_count": null,
      "outputs": [
        {
          "output_type": "stream",
          "name": "stdout",
          "text": [
            "[[10 20 30]]\n"
          ]
        },
        {
          "output_type": "execute_result",
          "data": {
            "text/plain": [
              "(1, 3)"
            ]
          },
          "metadata": {},
          "execution_count": 42
        }
      ]
    },
    {
      "cell_type": "markdown",
      "metadata": {
        "id": "anTMwjQQoNa1"
      },
      "source": [
        "Mathematically M1 and M3 can not be added as the shape doesn't match, but in NumPy, they can be added. M3 has the same number of columns as that of M1. Its rows get replicated so that its shape becomes equal to M1, and then, both are added. This process of replication is broadcasting. M3 gets broadcasted in the direction of the rows of M1. We will see the result after replication and sum operation. Broadcasted M3 is not visible, it is a hidden step. See the result below:"
      ]
    },
    {
      "cell_type": "code",
      "metadata": {
        "id": "4pQOgvvxoglK",
        "colab": {
          "base_uri": "https://localhost:8080/"
        },
        "outputId": "10672574-9e59-4f36-a5c7-8a293879b5bf"
      },
      "source": [
        "M1+M3"
      ],
      "execution_count": null,
      "outputs": [
        {
          "output_type": "execute_result",
          "data": {
            "text/plain": [
              "array([[11, 22, 33],\n",
              "       [14, 25, 36]])"
            ]
          },
          "metadata": {},
          "execution_count": 43
        }
      ]
    },
    {
      "cell_type": "markdown",
      "metadata": {
        "id": "L-wXIU9zcdxr"
      },
      "source": [
        "#### TensorFlow\n",
        " Similar to NumPy."
      ]
    },
    {
      "cell_type": "code",
      "metadata": {
        "id": "n19AdpclcnFg",
        "colab": {
          "base_uri": "https://localhost:8080/"
        },
        "outputId": "823d6fe4-2744-4e24-d798-fcbe15bb8ca6"
      },
      "source": [
        "M1_tf = tf.Variable([[1,2,3],[4,5,6]])\n",
        "print(M1_tf,'\\n')\n",
        "M2_tf = tf.Variable([[8],[9]])\n",
        "print(M2_tf)"
      ],
      "execution_count": null,
      "outputs": [
        {
          "output_type": "stream",
          "name": "stdout",
          "text": [
            "<tf.Variable 'Variable:0' shape=(2, 3) dtype=int32, numpy=\n",
            "array([[1, 2, 3],\n",
            "       [4, 5, 6]], dtype=int32)> \n",
            "\n",
            "<tf.Variable 'Variable:0' shape=(2, 1) dtype=int32, numpy=\n",
            "array([[8],\n",
            "       [9]], dtype=int32)>\n"
          ]
        }
      ]
    },
    {
      "cell_type": "code",
      "metadata": {
        "id": "HOUYvim9dFnO",
        "colab": {
          "base_uri": "https://localhost:8080/"
        },
        "outputId": "78fa4336-b302-4889-bfaa-0b18cec98e09"
      },
      "source": [
        "tf.add(M1_tf,M2_tf)"
      ],
      "execution_count": null,
      "outputs": [
        {
          "output_type": "execute_result",
          "data": {
            "text/plain": [
              "<tf.Tensor: shape=(2, 3), dtype=int32, numpy=\n",
              "array([[ 9, 10, 11],\n",
              "       [13, 14, 15]], dtype=int32)>"
            ]
          },
          "metadata": {},
          "execution_count": 45
        }
      ]
    },
    {
      "cell_type": "markdown",
      "metadata": {
        "id": "RreRdEds5oJ_"
      },
      "source": [
        "### Hadamard Product or Element-wise Multiplication\n",
        "If the two Tensors have the same size, operations are carried out elementwise by default."
      ]
    },
    {
      "cell_type": "markdown",
      "metadata": {
        "id": "aNq-VJpqhF4V"
      },
      "source": [
        "#### NumPy"
      ]
    },
    {
      "cell_type": "code",
      "metadata": {
        "id": "5hhcBj8x6Kfv",
        "colab": {
          "base_uri": "https://localhost:8080/"
        },
        "outputId": "49463795-bfb2-4b65-b676-74b406978441"
      },
      "source": [
        "# Using previously defined matrix a by using  Numpy\n",
        "a"
      ],
      "execution_count": null,
      "outputs": [
        {
          "output_type": "execute_result",
          "data": {
            "text/plain": [
              "array([[1, 2],\n",
              "       [2, 3],\n",
              "       [6, 7]])"
            ]
          },
          "metadata": {},
          "execution_count": 46
        }
      ]
    },
    {
      "cell_type": "code",
      "metadata": {
        "id": "lUO_-LgF7r7u",
        "colab": {
          "base_uri": "https://localhost:8080/"
        },
        "outputId": "4b9d3b27-613c-49dc-a78d-4390adddac54"
      },
      "source": [
        "# Defining another matrix b\n",
        "b = np.array([[2,3],[1,2],[4,5]])\n",
        "b"
      ],
      "execution_count": null,
      "outputs": [
        {
          "output_type": "execute_result",
          "data": {
            "text/plain": [
              "array([[2, 3],\n",
              "       [1, 2],\n",
              "       [4, 5]])"
            ]
          },
          "metadata": {},
          "execution_count": 47
        }
      ]
    },
    {
      "cell_type": "code",
      "metadata": {
        "id": "aiwerU6u7_uJ",
        "colab": {
          "base_uri": "https://localhost:8080/"
        },
        "outputId": "477cc6a5-2808-4391-8fdb-a0fd49a90704"
      },
      "source": [
        "# Here the shape of a  and b matches thus default product is Hadamard multiplication. Note: This is not matrix multiplication.\n",
        "a*b"
      ],
      "execution_count": null,
      "outputs": [
        {
          "output_type": "execute_result",
          "data": {
            "text/plain": [
              "array([[ 2,  6],\n",
              "       [ 2,  6],\n",
              "       [24, 35]])"
            ]
          },
          "metadata": {},
          "execution_count": 48
        }
      ]
    },
    {
      "cell_type": "markdown",
      "metadata": {
        "id": "GfEjgkI68RKU"
      },
      "source": [
        "#### TensorFlow"
      ]
    },
    {
      "cell_type": "code",
      "metadata": {
        "id": "jZJenXZc8XHU",
        "colab": {
          "base_uri": "https://localhost:8080/"
        },
        "outputId": "8c86eb0d-be9f-45a3-a6dd-dac812863b56"
      },
      "source": [
        "a_tf"
      ],
      "execution_count": null,
      "outputs": [
        {
          "output_type": "execute_result",
          "data": {
            "text/plain": [
              "<tf.Variable 'Variable:0' shape=(3, 2) dtype=int32, numpy=\n",
              "array([[1, 2],\n",
              "       [2, 3],\n",
              "       [6, 7]], dtype=int32)>"
            ]
          },
          "metadata": {},
          "execution_count": 49
        }
      ]
    },
    {
      "cell_type": "code",
      "metadata": {
        "id": "SWu0-Wzm8XyA",
        "colab": {
          "base_uri": "https://localhost:8080/"
        },
        "outputId": "c5c373f7-f6ff-4318-ec00-cc694d68762b"
      },
      "source": [
        "b_tf = tf.Variable([[2,3],[1,2],[4,5]])\n",
        "b_tf"
      ],
      "execution_count": null,
      "outputs": [
        {
          "output_type": "execute_result",
          "data": {
            "text/plain": [
              "<tf.Variable 'Variable:0' shape=(3, 2) dtype=int32, numpy=\n",
              "array([[2, 3],\n",
              "       [1, 2],\n",
              "       [4, 5]], dtype=int32)>"
            ]
          },
          "metadata": {},
          "execution_count": 50
        }
      ]
    },
    {
      "cell_type": "code",
      "metadata": {
        "id": "TwYRQO2I8nQM",
        "colab": {
          "base_uri": "https://localhost:8080/"
        },
        "outputId": "a15478e9-9080-4c6e-d39d-2ca2a5853e0f"
      },
      "source": [
        "a_tf * b_tf # Hadamard Multiplication\n",
        "# OR tf.multiply(a_tf,b_tf)"
      ],
      "execution_count": null,
      "outputs": [
        {
          "output_type": "execute_result",
          "data": {
            "text/plain": [
              "<tf.Tensor: shape=(3, 2), dtype=int32, numpy=\n",
              "array([[ 2,  6],\n",
              "       [ 2,  6],\n",
              "       [24, 35]], dtype=int32)>"
            ]
          },
          "metadata": {},
          "execution_count": 51
        }
      ]
    },
    {
      "cell_type": "markdown",
      "metadata": {
        "id": "TVpqaHzr5jtl"
      },
      "source": [
        "### Matrix Multiplication\n",
        "* For multiplying matrix a and matrix b, the number of columns of matrix a and the number of rows of matrix b must match.\n",
        "* Note: Matrix Multiplication is not commutative (i.e.AB != BA)"
      ]
    },
    {
      "cell_type": "markdown",
      "metadata": {
        "id": "94hv851SXRR5"
      },
      "source": [
        "Matrix multiplication process\n",
        "![img](https://cdn.iisc.talentsprint.com/CDS/Images/Tensor_matmul.JPG)"
      ]
    },
    {
      "cell_type": "markdown",
      "metadata": {
        "id": "5rKaS_tBZ8b5"
      },
      "source": [
        "#### NumPy"
      ]
    },
    {
      "cell_type": "code",
      "metadata": {
        "id": "srzIkcio_dIg",
        "colab": {
          "base_uri": "https://localhost:8080/"
        },
        "outputId": "2f06114e-86a9-484a-f3f1-8cade637db16"
      },
      "source": [
        "a1 = np.array([[1,2,3],[4,5,6]])\n",
        "print(a1,'\\n','Shape = ',a1.shape)\n",
        "b1 = np.array([[2,1],[3,2],[4,3]])\n",
        "print(b1,'\\n','Shape = ',b1.shape)"
      ],
      "execution_count": null,
      "outputs": [
        {
          "output_type": "stream",
          "name": "stdout",
          "text": [
            "[[1 2 3]\n",
            " [4 5 6]] \n",
            " Shape =  (2, 3)\n",
            "[[2 1]\n",
            " [3 2]\n",
            " [4 3]] \n",
            " Shape =  (3, 2)\n"
          ]
        }
      ]
    },
    {
      "cell_type": "code",
      "metadata": {
        "id": "8reX_9Xr_dZK",
        "colab": {
          "base_uri": "https://localhost:8080/"
        },
        "outputId": "eafc1aed-8a00-4b4d-af25-010d7bcabd95"
      },
      "source": [
        "# Matrix multiplication between a1 and b1 is possible as\n",
        "# the number of columns of matrix a and the number of rows of matrix b are equal.\n",
        "np.dot(a1,b1) # OR\n",
        "a1.dot(b1)"
      ],
      "execution_count": null,
      "outputs": [
        {
          "output_type": "execute_result",
          "data": {
            "text/plain": [
              "array([[20, 14],\n",
              "       [47, 32]])"
            ]
          },
          "metadata": {},
          "execution_count": 53
        }
      ]
    },
    {
      "cell_type": "markdown",
      "metadata": {
        "id": "kJO9YLfsaAMW"
      },
      "source": [
        "#### TensorFlow"
      ]
    },
    {
      "cell_type": "code",
      "metadata": {
        "id": "GW14bfECaFHp",
        "colab": {
          "base_uri": "https://localhost:8080/"
        },
        "outputId": "3f629bb1-16a9-493e-a5fd-feb1c5684696"
      },
      "source": [
        "a1_tf = tf.Variable([[1,2,3],[4,5,6]])\n",
        "print(a1_tf,'\\n')\n",
        "b1_tf = tf.Variable([[2,1],[3,2],[4,3]])\n",
        "print(b1_tf)"
      ],
      "execution_count": null,
      "outputs": [
        {
          "output_type": "stream",
          "name": "stdout",
          "text": [
            "<tf.Variable 'Variable:0' shape=(2, 3) dtype=int32, numpy=\n",
            "array([[1, 2, 3],\n",
            "       [4, 5, 6]], dtype=int32)> \n",
            "\n",
            "<tf.Variable 'Variable:0' shape=(3, 2) dtype=int32, numpy=\n",
            "array([[2, 1],\n",
            "       [3, 2],\n",
            "       [4, 3]], dtype=int32)>\n"
          ]
        }
      ]
    },
    {
      "cell_type": "code",
      "metadata": {
        "id": "MDHyEVavbGWJ",
        "colab": {
          "base_uri": "https://localhost:8080/"
        },
        "outputId": "9552d3f3-9a2c-45ac-f755-76ee0bd35ca8"
      },
      "source": [
        "tf.linalg.matmul(a1_tf,b1_tf)"
      ],
      "execution_count": null,
      "outputs": [
        {
          "output_type": "execute_result",
          "data": {
            "text/plain": [
              "<tf.Tensor: shape=(2, 2), dtype=int32, numpy=\n",
              "array([[20, 14],\n",
              "       [47, 32]], dtype=int32)>"
            ]
          },
          "metadata": {},
          "execution_count": 55
        }
      ]
    },
    {
      "cell_type": "markdown",
      "metadata": {
        "id": "XGOqVzIUthCA"
      },
      "source": [
        "### Tensordot or Tensor Contraction\n",
        "Tensordot operation is carried out between input arrays based on the respective axes ( passed as an arg.) along which the sum-reductions are intended.\n",
        "The axes that take part in sum-reduction are removed in the output, and all of the remaining axes from the input arrays are spread out as different axes in the output, keeping the order in which the input arrays are fed.\n",
        "\n",
        "#### NumPy\n",
        "\n",
        "Go through the examples given below and visit the reference to comprehend it properly.\n",
        "\n",
        "To know more tensordot in numpy, refer the [link](https://numpy.org/doc/stable/reference/generated/numpy.tensordot.html)"
      ]
    },
    {
      "cell_type": "code",
      "metadata": {
        "id": "e3GpfJ0FtmSC",
        "colab": {
          "base_uri": "https://localhost:8080/"
        },
        "outputId": "71dd8cac-e5be-41c3-c462-4c0a899a098e"
      },
      "source": [
        "# Defining tensors\n",
        "a1 = np.array([[1,2,3],[2,3,1]])\n",
        "a2 = np.array([[1,2],[3,4],[2,3]])\n",
        "print(\"Tensor1 is: \\n \", a1)\n",
        "print(\"Tensor2 is: \\n\", a2)\n",
        "\n",
        "# Calculating tensordot\n",
        "r1 = np.tensordot(a1, a2, axes=([0,1])) # Same when axes are passed as -->  axes=([0],[1])  OR   axes=([[0],[1]])\n",
        "print(\"Tensordot of these tensors is:\\n\", r1)\n",
        "print(\"Shape : \", r1.shape)"
      ],
      "execution_count": null,
      "outputs": [
        {
          "output_type": "stream",
          "name": "stdout",
          "text": [
            "Tensor1 is: \n",
            "  [[1 2 3]\n",
            " [2 3 1]]\n",
            "Tensor2 is: \n",
            " [[1 2]\n",
            " [3 4]\n",
            " [2 3]]\n",
            "Tensordot of these tensors is:\n",
            " [[ 5 11  8]\n",
            " [ 8 18 13]\n",
            " [ 5 13  9]]\n",
            "Shape :  (3, 3)\n"
          ]
        }
      ]
    },
    {
      "cell_type": "markdown",
      "metadata": {
        "id": "58g7_DCqtrLm"
      },
      "source": [
        "* When a and b are matrices (order 2), the case axes = 1 is equivalent to matrix multiplication.\n",
        "* When a and b are matrices (order 2), the case axes = [[1], [0]] is equivalent to matrix multiplication."
      ]
    },
    {
      "cell_type": "code",
      "metadata": {
        "id": "Nmi1DVR4ttgu",
        "colab": {
          "base_uri": "https://localhost:8080/"
        },
        "outputId": "f62e752d-1161-4e2c-ad88-14ab16139d46"
      },
      "source": [
        "r1 = np.tensordot(a1, a2,axes=1)\n",
        "r1"
      ],
      "execution_count": null,
      "outputs": [
        {
          "output_type": "execute_result",
          "data": {
            "text/plain": [
              "array([[13, 19],\n",
              "       [13, 19]])"
            ]
          },
          "metadata": {},
          "execution_count": 57
        }
      ]
    },
    {
      "cell_type": "code",
      "metadata": {
        "id": "7XH6udkVtvrC",
        "colab": {
          "base_uri": "https://localhost:8080/"
        },
        "outputId": "da31d93a-921d-4a01-ed86-5c09342e9973"
      },
      "source": [
        "r1 = np.tensordot(a1, a2,axes=([1,0]))  # Same when axes are passed as -->  axes=([1],[0])  OR   axes=([[1],[0]])\n",
        "r1"
      ],
      "execution_count": null,
      "outputs": [
        {
          "output_type": "execute_result",
          "data": {
            "text/plain": [
              "array([[13, 19],\n",
              "       [13, 19]])"
            ]
          },
          "metadata": {},
          "execution_count": 58
        }
      ]
    },
    {
      "cell_type": "markdown",
      "metadata": {
        "id": "4OQ84P9UtylH"
      },
      "source": [
        "* When a and b are matrices (order 2), the case axes=0 gives the outer product, a tensor of order 4."
      ]
    },
    {
      "cell_type": "code",
      "metadata": {
        "id": "owAqXOjDt1kT",
        "colab": {
          "base_uri": "https://localhost:8080/"
        },
        "outputId": "d58dde84-114b-4edb-9af4-8888e45d8cbe"
      },
      "source": [
        "r1 = np.tensordot(a1, a2,axes=0)       # Outer Product\n",
        "print(\"Resulting Tensor : \\n\", r1)\n",
        "r1.shape"
      ],
      "execution_count": null,
      "outputs": [
        {
          "output_type": "stream",
          "name": "stdout",
          "text": [
            "Resulting Tensor : \n",
            " [[[[ 1  2]\n",
            "   [ 3  4]\n",
            "   [ 2  3]]\n",
            "\n",
            "  [[ 2  4]\n",
            "   [ 6  8]\n",
            "   [ 4  6]]\n",
            "\n",
            "  [[ 3  6]\n",
            "   [ 9 12]\n",
            "   [ 6  9]]]\n",
            "\n",
            "\n",
            " [[[ 2  4]\n",
            "   [ 6  8]\n",
            "   [ 4  6]]\n",
            "\n",
            "  [[ 3  6]\n",
            "   [ 9 12]\n",
            "   [ 6  9]]\n",
            "\n",
            "  [[ 1  2]\n",
            "   [ 3  4]\n",
            "   [ 2  3]]]]\n"
          ]
        },
        {
          "output_type": "execute_result",
          "data": {
            "text/plain": [
              "(2, 3, 3, 2)"
            ]
          },
          "metadata": {},
          "execution_count": 59
        }
      ]
    },
    {
      "cell_type": "markdown",
      "metadata": {
        "id": "w_H9RBJ_t7QT"
      },
      "source": [
        "#### TensorFlow\n",
        "\n",
        "Similar as NumPy.\n",
        "\n",
        "To know more about tensordot, refer the [link](https://www.tensorflow.org/api_docs/python/tf/tensordot)"
      ]
    },
    {
      "cell_type": "code",
      "metadata": {
        "id": "jhV65XRTt-HJ",
        "colab": {
          "base_uri": "https://localhost:8080/"
        },
        "outputId": "b1f97064-1574-4750-8e5a-439083a7d8d3"
      },
      "source": [
        "# Defining tensors\n",
        "a1_tf = tf.Variable([[1,2,3],[2,3,1]])\n",
        "a2_tf = tf.Variable([[1,2],[3,4],[2,3]])\n",
        "print(\"Tensor1 is: \\n \", a1_tf)\n",
        "print(\"Tensor2 is: \\n\", a2_tf)\n",
        "\n",
        "# Calculating tensordot\n",
        "r1_tf = tf.tensordot(a1_tf, a2_tf, axes=([0,1]))  # Same when axes are passed as -->  axes=([0],[1])  OR   axes=([[0],[1]])\n",
        "print(\"Tensordot of these tensors is:\\n\", r1_tf)\n",
        "print(\"Shape : \", tf.shape(r1_tf))"
      ],
      "execution_count": null,
      "outputs": [
        {
          "output_type": "stream",
          "name": "stdout",
          "text": [
            "Tensor1 is: \n",
            "  <tf.Variable 'Variable:0' shape=(2, 3) dtype=int32, numpy=\n",
            "array([[1, 2, 3],\n",
            "       [2, 3, 1]], dtype=int32)>\n",
            "Tensor2 is: \n",
            " <tf.Variable 'Variable:0' shape=(3, 2) dtype=int32, numpy=\n",
            "array([[1, 2],\n",
            "       [3, 4],\n",
            "       [2, 3]], dtype=int32)>\n",
            "Tensordot of these tensors is:\n",
            " tf.Tensor(\n",
            "[[ 5 11  8]\n",
            " [ 8 18 13]\n",
            " [ 5 13  9]], shape=(3, 3), dtype=int32)\n",
            "Shape :  tf.Tensor([3 3], shape=(2,), dtype=int32)\n"
          ]
        }
      ]
    },
    {
      "cell_type": "code",
      "metadata": {
        "id": "v07hqXWIuBlQ",
        "colab": {
          "base_uri": "https://localhost:8080/"
        },
        "outputId": "629523cb-f297-4c8d-d19a-35a65512e488"
      },
      "source": [
        "r1_tf = tf.tensordot(a1_tf, a2_tf,axes=0)  # Outer Product\n",
        "print(\"Resulting Tensor : \\n\", r1_tf)\n",
        "tf.shape(r1_tf)"
      ],
      "execution_count": null,
      "outputs": [
        {
          "output_type": "stream",
          "name": "stdout",
          "text": [
            "Resulting Tensor : \n",
            " tf.Tensor(\n",
            "[[[[ 1  2]\n",
            "   [ 3  4]\n",
            "   [ 2  3]]\n",
            "\n",
            "  [[ 2  4]\n",
            "   [ 6  8]\n",
            "   [ 4  6]]\n",
            "\n",
            "  [[ 3  6]\n",
            "   [ 9 12]\n",
            "   [ 6  9]]]\n",
            "\n",
            "\n",
            " [[[ 2  4]\n",
            "   [ 6  8]\n",
            "   [ 4  6]]\n",
            "\n",
            "  [[ 3  6]\n",
            "   [ 9 12]\n",
            "   [ 6  9]]\n",
            "\n",
            "  [[ 1  2]\n",
            "   [ 3  4]\n",
            "   [ 2  3]]]], shape=(2, 3, 3, 2), dtype=int32)\n"
          ]
        },
        {
          "output_type": "execute_result",
          "data": {
            "text/plain": [
              "<tf.Tensor: shape=(4,), dtype=int32, numpy=array([2, 3, 3, 2], dtype=int32)>"
            ]
          },
          "metadata": {},
          "execution_count": 61
        }
      ]
    },
    {
      "cell_type": "markdown",
      "metadata": {
        "id": "7wDe_I_4uFY9"
      },
      "source": [
        "**Note:** we have illustrated only 2nd order Tensordot operation. For operations on higher-order Tensors visit the reference mentioned above."
      ]
    },
    {
      "cell_type": "markdown",
      "metadata": {
        "id": "FCc93fa64WSA"
      },
      "source": [
        "### Reduction:\n",
        "Calculating the sum across all elements of a tensor along with any one or multiple dimensions."
      ]
    },
    {
      "cell_type": "markdown",
      "metadata": {
        "id": "Kwo8ZhF6hPRa"
      },
      "source": [
        "#### NumPy"
      ]
    },
    {
      "cell_type": "code",
      "metadata": {
        "id": "GfcsaOqtmyT4",
        "colab": {
          "base_uri": "https://localhost:8080/"
        },
        "outputId": "5c3e4736-0aa7-4741-ce8f-87be1349809f"
      },
      "source": [
        "a   # Using the matrix/tensor defined above using Numpy"
      ],
      "execution_count": null,
      "outputs": [
        {
          "output_type": "execute_result",
          "data": {
            "text/plain": [
              "array([[1, 2],\n",
              "       [2, 3],\n",
              "       [6, 7]])"
            ]
          },
          "metadata": {},
          "execution_count": 62
        }
      ]
    },
    {
      "cell_type": "code",
      "metadata": {
        "id": "uu7riudtmybD",
        "colab": {
          "base_uri": "https://localhost:8080/"
        },
        "outputId": "d4469f22-7995-49f9-9870-08ec03f29d3f"
      },
      "source": [
        "print(a.sum())  # OR\n",
        "print(np.sum(a))"
      ],
      "execution_count": null,
      "outputs": [
        {
          "output_type": "stream",
          "name": "stdout",
          "text": [
            "21\n",
            "21\n"
          ]
        }
      ]
    },
    {
      "cell_type": "markdown",
      "metadata": {
        "id": "rfeANjHNraXN"
      },
      "source": [
        "* Summation along any one dimension: Here axis=0 means down the rows and axis=1 means along the columns."
      ]
    },
    {
      "cell_type": "code",
      "metadata": {
        "id": "hSnGy0-MrRNg",
        "colab": {
          "base_uri": "https://localhost:8080/"
        },
        "outputId": "8859617c-2cc3-4f2b-bffa-17e97744f9f8"
      },
      "source": [
        "print(a.sum(axis=0))  # OR\n",
        "print(np.sum(a,axis=0))"
      ],
      "execution_count": null,
      "outputs": [
        {
          "output_type": "stream",
          "name": "stdout",
          "text": [
            "[ 9 12]\n",
            "[ 9 12]\n"
          ]
        }
      ]
    },
    {
      "cell_type": "code",
      "metadata": {
        "id": "_NSRx4JtrVIr",
        "colab": {
          "base_uri": "https://localhost:8080/"
        },
        "outputId": "459bc66a-4fb0-4bd0-f4d2-610c96e6b42b"
      },
      "source": [
        "print(a.sum(axis=1))  # OR\n",
        "print(np.sum(a,axis=1))"
      ],
      "execution_count": null,
      "outputs": [
        {
          "output_type": "stream",
          "name": "stdout",
          "text": [
            "[ 3  5 13]\n",
            "[ 3  5 13]\n"
          ]
        }
      ]
    },
    {
      "cell_type": "markdown",
      "metadata": {
        "id": "kj2qsYVdsGjg"
      },
      "source": [
        "**Notice the code below and find the difference between the above and below operations.**"
      ]
    },
    {
      "cell_type": "code",
      "metadata": {
        "id": "s4RSKkf2r9kO",
        "colab": {
          "base_uri": "https://localhost:8080/"
        },
        "outputId": "2b83dd74-bb0d-42a6-916b-9a1099c6f90f"
      },
      "source": [
        "print(a.sum(axis=1,keepdims=True))  # OR\n",
        "print(np.sum(a,axis=1,keepdims=True))"
      ],
      "execution_count": null,
      "outputs": [
        {
          "output_type": "stream",
          "name": "stdout",
          "text": [
            "[[ 3]\n",
            " [ 5]\n",
            " [13]]\n",
            "[[ 3]\n",
            " [ 5]\n",
            " [13]]\n"
          ]
        }
      ]
    },
    {
      "cell_type": "markdown",
      "metadata": {
        "id": "jacCEzGirHNQ"
      },
      "source": [
        "#### TensorFlow"
      ]
    },
    {
      "cell_type": "code",
      "metadata": {
        "id": "Qmd9pOnjmyjT",
        "colab": {
          "base_uri": "https://localhost:8080/"
        },
        "outputId": "4f98111f-7eff-48a5-c408-1ac7257bbccf"
      },
      "source": [
        "a_tf    # Using the tensor a_tf defined using Tensorflow"
      ],
      "execution_count": null,
      "outputs": [
        {
          "output_type": "execute_result",
          "data": {
            "text/plain": [
              "<tf.Variable 'Variable:0' shape=(3, 2) dtype=int32, numpy=\n",
              "array([[1, 2],\n",
              "       [2, 3],\n",
              "       [6, 7]], dtype=int32)>"
            ]
          },
          "metadata": {},
          "execution_count": 67
        }
      ]
    },
    {
      "cell_type": "code",
      "metadata": {
        "id": "U7RBXWZ_s1-S",
        "colab": {
          "base_uri": "https://localhost:8080/"
        },
        "outputId": "6d184c47-121b-46a0-e657-1f2a5cc44ae0"
      },
      "source": [
        "tf.reduce_sum(a_tf)"
      ],
      "execution_count": null,
      "outputs": [
        {
          "output_type": "execute_result",
          "data": {
            "text/plain": [
              "<tf.Tensor: shape=(), dtype=int32, numpy=21>"
            ]
          },
          "metadata": {},
          "execution_count": 68
        }
      ]
    },
    {
      "cell_type": "code",
      "metadata": {
        "id": "g0cnA5fus2MC",
        "colab": {
          "base_uri": "https://localhost:8080/"
        },
        "outputId": "9b1c74e9-0969-4c89-8d91-c22a1003a601"
      },
      "source": [
        "tf.reduce_sum(a_tf,0)  # down the rows"
      ],
      "execution_count": null,
      "outputs": [
        {
          "output_type": "execute_result",
          "data": {
            "text/plain": [
              "<tf.Tensor: shape=(2,), dtype=int32, numpy=array([ 9, 12], dtype=int32)>"
            ]
          },
          "metadata": {},
          "execution_count": 69
        }
      ]
    },
    {
      "cell_type": "code",
      "metadata": {
        "id": "G420vLmzs2XK",
        "colab": {
          "base_uri": "https://localhost:8080/"
        },
        "outputId": "bcc0e7c1-a5f0-43c6-8e8f-38cd94e0b6a5"
      },
      "source": [
        "tf.reduce_sum(a_tf,1) # along the columns"
      ],
      "execution_count": null,
      "outputs": [
        {
          "output_type": "execute_result",
          "data": {
            "text/plain": [
              "<tf.Tensor: shape=(3,), dtype=int32, numpy=array([ 3,  5, 13], dtype=int32)>"
            ]
          },
          "metadata": {},
          "execution_count": 70
        }
      ]
    },
    {
      "cell_type": "markdown",
      "metadata": {
        "id": "mrNWUO_HveDC"
      },
      "source": [
        "### Tensor/Matrix Determinant & Inversion\n",
        "* The matrix inversion is only valid for non-singular matrix i.e. matrix with non zero determinants. All columns of the matrix must be linearly independent.\n",
        "* Inversion is only calculated for the square matrix."
      ]
    },
    {
      "cell_type": "markdown",
      "metadata": {
        "id": "XVgSUCPAg5N0"
      },
      "source": [
        "#### NumPy"
      ]
    },
    {
      "cell_type": "code",
      "metadata": {
        "id": "0_vBuCpBtZf5",
        "colab": {
          "base_uri": "https://localhost:8080/"
        },
        "outputId": "9bd55da2-b8ff-452e-e80f-d6379fb594c5"
      },
      "source": [
        "X = np.array([[2,3],[5,9]])\n",
        "X"
      ],
      "execution_count": null,
      "outputs": [
        {
          "output_type": "execute_result",
          "data": {
            "text/plain": [
              "array([[2, 3],\n",
              "       [5, 9]])"
            ]
          },
          "metadata": {},
          "execution_count": 71
        }
      ]
    },
    {
      "cell_type": "code",
      "metadata": {
        "id": "0IM4Kf6QtZyI",
        "colab": {
          "base_uri": "https://localhost:8080/"
        },
        "outputId": "9b43fee1-bf09-49b9-cd39-77867389d528"
      },
      "source": [
        "np.linalg.det(X) # Determinant calculation"
      ],
      "execution_count": null,
      "outputs": [
        {
          "output_type": "execute_result",
          "data": {
            "text/plain": [
              "3.0000000000000004"
            ]
          },
          "metadata": {},
          "execution_count": 72
        }
      ]
    },
    {
      "cell_type": "code",
      "metadata": {
        "id": "ffr898zyxdd3",
        "colab": {
          "base_uri": "https://localhost:8080/"
        },
        "outputId": "2637d437-ab0e-4ac0-b9f7-53b5bcaa74f1"
      },
      "source": [
        "X_inv = np.linalg.inv(X)\n",
        "X_inv"
      ],
      "execution_count": null,
      "outputs": [
        {
          "output_type": "execute_result",
          "data": {
            "text/plain": [
              "array([[ 3.        , -1.        ],\n",
              "       [-1.66666667,  0.66666667]])"
            ]
          },
          "metadata": {},
          "execution_count": 73
        }
      ]
    },
    {
      "cell_type": "code",
      "metadata": {
        "id": "7DryrhzGxlC_",
        "colab": {
          "base_uri": "https://localhost:8080/"
        },
        "outputId": "86fe67e8-03cb-49b2-8beb-ab5ab5bb0d08"
      },
      "source": [
        "np.dot(X,X_inv)"
      ],
      "execution_count": null,
      "outputs": [
        {
          "output_type": "execute_result",
          "data": {
            "text/plain": [
              "array([[ 1.00000000e+00, -1.11022302e-16],\n",
              "       [ 1.33226763e-15,  1.00000000e+00]])"
            ]
          },
          "metadata": {},
          "execution_count": 74
        }
      ]
    },
    {
      "cell_type": "markdown",
      "metadata": {
        "id": "CYQy5bDgxyRK"
      },
      "source": [
        "#### TensorFlow"
      ]
    },
    {
      "cell_type": "code",
      "metadata": {
        "id": "W0Cjj6Aax0lC",
        "colab": {
          "base_uri": "https://localhost:8080/"
        },
        "outputId": "6a2a1332-4403-4c00-9774-219c6ad9b4b8"
      },
      "source": [
        "# To get inverse, make sure that  tensor has entries as float\n",
        "X_tf = tf.Variable([[2.,3.],[5.,9.]])\n",
        "X_tf"
      ],
      "execution_count": null,
      "outputs": [
        {
          "output_type": "execute_result",
          "data": {
            "text/plain": [
              "<tf.Variable 'Variable:0' shape=(2, 2) dtype=float32, numpy=\n",
              "array([[2., 3.],\n",
              "       [5., 9.]], dtype=float32)>"
            ]
          },
          "metadata": {},
          "execution_count": 75
        }
      ]
    },
    {
      "cell_type": "code",
      "metadata": {
        "id": "6k5tmZEUyqx9",
        "colab": {
          "base_uri": "https://localhost:8080/"
        },
        "outputId": "bc5b2e30-fbbf-41b9-c092-bbdf8eb59896"
      },
      "source": [
        "# Determinant Calculation\n",
        "tf.linalg.det(X_tf)"
      ],
      "execution_count": null,
      "outputs": [
        {
          "output_type": "execute_result",
          "data": {
            "text/plain": [
              "<tf.Tensor: shape=(), dtype=float32, numpy=3.0000007>"
            ]
          },
          "metadata": {},
          "execution_count": 76
        }
      ]
    },
    {
      "cell_type": "code",
      "metadata": {
        "id": "kzmfqXYN0WXN",
        "colab": {
          "base_uri": "https://localhost:8080/"
        },
        "outputId": "66ece17d-5c4e-4450-9483-25e853ef4cec"
      },
      "source": [
        "## To get only the final result, add --> .numpy() at the end as given below. Valid everywhere.\n",
        "tf.linalg.det(X_tf).numpy()"
      ],
      "execution_count": null,
      "outputs": [
        {
          "output_type": "execute_result",
          "data": {
            "text/plain": [
              "3.0000007"
            ]
          },
          "metadata": {},
          "execution_count": 77
        }
      ]
    },
    {
      "cell_type": "code",
      "metadata": {
        "id": "zPnSRvrbx03Q",
        "colab": {
          "base_uri": "https://localhost:8080/"
        },
        "outputId": "56d1646e-d76f-4263-e3d7-f9162ed7f770"
      },
      "source": [
        "X_tf_inv = tf.linalg.inv(X_tf)\n",
        "X_tf_inv"
      ],
      "execution_count": null,
      "outputs": [
        {
          "output_type": "execute_result",
          "data": {
            "text/plain": [
              "<tf.Tensor: shape=(2, 2), dtype=float32, numpy=\n",
              "array([[ 2.9999993, -0.9999997],\n",
              "       [-1.6666663,  0.6666665]], dtype=float32)>"
            ]
          },
          "metadata": {},
          "execution_count": 78
        }
      ]
    },
    {
      "cell_type": "code",
      "metadata": {
        "id": "jD__pHJxy2Ze",
        "colab": {
          "base_uri": "https://localhost:8080/"
        },
        "outputId": "f6ff6cf5-aead-456e-e832-da1450fc8089"
      },
      "source": [
        "tf.matmul(X_tf,X_tf_inv)"
      ],
      "execution_count": null,
      "outputs": [
        {
          "output_type": "execute_result",
          "data": {
            "text/plain": [
              "<tf.Tensor: shape=(2, 2), dtype=float32, numpy=\n",
              "array([[9.9999952e-01, 1.1920929e-07],\n",
              "       [0.0000000e+00, 1.0000000e+00]], dtype=float32)>"
            ]
          },
          "metadata": {},
          "execution_count": 79
        }
      ]
    },
    {
      "cell_type": "markdown",
      "metadata": {
        "id": "9wUj5bkbXoJV"
      },
      "source": [
        "### Higher-order tensor\n",
        "A colored image consists of three channels of pixels one for Red color, one for Green color, and one for Blue color. Each channel is a 2D matrix. That means, any colored image is represented by a 3-tensor of pixels composed of three 2D matrices stacked one after another and each 2D matrix is called a channel. Say we have an image of 32 megapixels then the shape of the tensor representation of this image is (32,32,3),i.e. three 32X32 matrices are stacked one after another. So this is a tensor of order/rank 3 and it is used for the representation of an image.\n",
        "\n",
        "![img1](https://cdn.iisc.talentsprint.com/CDS/Images/RGB_Channel.JPG)"
      ]
    },
    {
      "cell_type": "markdown",
      "metadata": {
        "id": "Cqo8QwnSk-AI"
      },
      "source": [
        "Now, say there are 100 such images, then the tensor will be of 4th order and the shape will be (100,32,32,3). So the tensor contains information of 100 images each consists of RGB  channels of 32 by 32 megapixel.\n",
        "#### NumPy"
      ]
    },
    {
      "cell_type": "code",
      "metadata": {
        "id": "Yp4GwRO_kkWQ",
        "colab": {
          "base_uri": "https://localhost:8080/"
        },
        "outputId": "53fd21d5-f633-4273-d56f-ec299be77848"
      },
      "source": [
        "# Making a 3 rank/order tensor filled with zeros\n",
        "np.zeros([3,2,3])"
      ],
      "execution_count": null,
      "outputs": [
        {
          "output_type": "execute_result",
          "data": {
            "text/plain": [
              "array([[[0., 0., 0.],\n",
              "        [0., 0., 0.]],\n",
              "\n",
              "       [[0., 0., 0.],\n",
              "        [0., 0., 0.]],\n",
              "\n",
              "       [[0., 0., 0.],\n",
              "        [0., 0., 0.]]])"
            ]
          },
          "metadata": {},
          "execution_count": 80
        }
      ]
    },
    {
      "cell_type": "code",
      "metadata": {
        "id": "yd4eXWN2obzr",
        "colab": {
          "base_uri": "https://localhost:8080/"
        },
        "outputId": "79ae886d-78dc-4394-f742-32ec20160c05"
      },
      "source": [
        "# Making a 4 rank/order tensor filled with zeros\n",
        "np.zeros([2,3,2,3])"
      ],
      "execution_count": null,
      "outputs": [
        {
          "output_type": "execute_result",
          "data": {
            "text/plain": [
              "array([[[[0., 0., 0.],\n",
              "         [0., 0., 0.]],\n",
              "\n",
              "        [[0., 0., 0.],\n",
              "         [0., 0., 0.]],\n",
              "\n",
              "        [[0., 0., 0.],\n",
              "         [0., 0., 0.]]],\n",
              "\n",
              "\n",
              "       [[[0., 0., 0.],\n",
              "         [0., 0., 0.]],\n",
              "\n",
              "        [[0., 0., 0.],\n",
              "         [0., 0., 0.]],\n",
              "\n",
              "        [[0., 0., 0.],\n",
              "         [0., 0., 0.]]]])"
            ]
          },
          "metadata": {},
          "execution_count": 81
        }
      ]
    },
    {
      "cell_type": "markdown",
      "metadata": {
        "id": "HHQmSvGFqajN"
      },
      "source": [
        "#### TensorFlow"
      ]
    },
    {
      "cell_type": "code",
      "metadata": {
        "id": "tTxz6fZZnkQD",
        "colab": {
          "base_uri": "https://localhost:8080/"
        },
        "outputId": "557a0b0f-de89-4238-96f7-7aac10838120"
      },
      "source": [
        "tf.zeros([3,2,3])"
      ],
      "execution_count": null,
      "outputs": [
        {
          "output_type": "execute_result",
          "data": {
            "text/plain": [
              "<tf.Tensor: shape=(3, 2, 3), dtype=float32, numpy=\n",
              "array([[[0., 0., 0.],\n",
              "        [0., 0., 0.]],\n",
              "\n",
              "       [[0., 0., 0.],\n",
              "        [0., 0., 0.]],\n",
              "\n",
              "       [[0., 0., 0.],\n",
              "        [0., 0., 0.]]], dtype=float32)>"
            ]
          },
          "metadata": {},
          "execution_count": 82
        }
      ]
    },
    {
      "cell_type": "code",
      "metadata": {
        "id": "EDcCe5RakZkw",
        "colab": {
          "base_uri": "https://localhost:8080/"
        },
        "outputId": "f18ed295-c3fd-4b0b-8cd0-af08ee66bb3b"
      },
      "source": [
        "tf.zeros([2,3,2,3])"
      ],
      "execution_count": null,
      "outputs": [
        {
          "output_type": "execute_result",
          "data": {
            "text/plain": [
              "<tf.Tensor: shape=(2, 3, 2, 3), dtype=float32, numpy=\n",
              "array([[[[0., 0., 0.],\n",
              "         [0., 0., 0.]],\n",
              "\n",
              "        [[0., 0., 0.],\n",
              "         [0., 0., 0.]],\n",
              "\n",
              "        [[0., 0., 0.],\n",
              "         [0., 0., 0.]]],\n",
              "\n",
              "\n",
              "       [[[0., 0., 0.],\n",
              "         [0., 0., 0.]],\n",
              "\n",
              "        [[0., 0., 0.],\n",
              "         [0., 0., 0.]],\n",
              "\n",
              "        [[0., 0., 0.],\n",
              "         [0., 0., 0.]]]], dtype=float32)>"
            ]
          },
          "metadata": {},
          "execution_count": 83
        }
      ]
    },
    {
      "cell_type": "markdown",
      "metadata": {
        "id": "W263Lyklop8B"
      },
      "source": [
        "### Converting NumPy Tensor into TensorFlow Tensor and vice-versa :"
      ]
    },
    {
      "cell_type": "code",
      "metadata": {
        "id": "4qzVJJoeo4FJ",
        "colab": {
          "base_uri": "https://localhost:8080/"
        },
        "outputId": "aa1397e8-7f03-44b8-ab34-7189ced39963"
      },
      "source": [
        "x = tf.constant([[1, 2, 3], [4, 5, 6]])\n",
        "x"
      ],
      "execution_count": null,
      "outputs": [
        {
          "output_type": "execute_result",
          "data": {
            "text/plain": [
              "<tf.Tensor: shape=(2, 3), dtype=int32, numpy=\n",
              "array([[1, 2, 3],\n",
              "       [4, 5, 6]], dtype=int32)>"
            ]
          },
          "metadata": {},
          "execution_count": 84
        }
      ]
    },
    {
      "cell_type": "code",
      "metadata": {
        "id": "LxF0-D75pD8z",
        "colab": {
          "base_uri": "https://localhost:8080/"
        },
        "outputId": "b74903d9-0dfe-4aa8-a320-4c23b0c89a8b"
      },
      "source": [
        "x_np = x.numpy()\n",
        "x_np"
      ],
      "execution_count": null,
      "outputs": [
        {
          "output_type": "execute_result",
          "data": {
            "text/plain": [
              "array([[1, 2, 3],\n",
              "       [4, 5, 6]], dtype=int32)"
            ]
          },
          "metadata": {},
          "execution_count": 85
        }
      ]
    },
    {
      "cell_type": "code",
      "metadata": {
        "id": "I_3gsLeQpXdT",
        "colab": {
          "base_uri": "https://localhost:8080/"
        },
        "outputId": "0a58e34c-316c-4a4f-bbaa-b52fb91e2feb"
      },
      "source": [
        "x_tf = tf.convert_to_tensor(x_np)\n",
        "x_tf"
      ],
      "execution_count": null,
      "outputs": [
        {
          "output_type": "execute_result",
          "data": {
            "text/plain": [
              "<tf.Tensor: shape=(2, 3), dtype=int32, numpy=\n",
              "array([[1, 2, 3],\n",
              "       [4, 5, 6]], dtype=int32)>"
            ]
          },
          "metadata": {},
          "execution_count": 86
        }
      ]
    },
    {
      "cell_type": "markdown",
      "metadata": {
        "id": "oQ0n9U2DQRCb"
      },
      "source": [
        "**Comparison** Tensor in NumPy and TensorFlow: We have carried out different operations of Tensor using both NumPy and TensorFlow libraries. In general, the Tensors defined in NumPy are called Nd-Arrays whereas in TensorFlow they are called Tensors.\n",
        "* Do NumPy arrays differ from Tensors?\n",
        "\n",
        "There is no difference between Tensors defined through both the libraries apart from the syntactical difference (that we have seen in the above operations) but a Tensor is a more suitable choice if we are going to use GPUs/TPUs as it can reside in accelerators memory. This is the main reasoning behind the application of TensorFlow in deep learning."
      ]
    },
    {
      "cell_type": "markdown",
      "metadata": {
        "id": "O1kyY1mt6vdv"
      },
      "source": [
        "To explore more about other operations click [here](https://www.tensorflow.org/guide/tensor)."
      ]
    },
    {
      "cell_type": "markdown",
      "metadata": {
        "id": "GvdJCvc_Quyu"
      },
      "source": [
        "**Ungraded practice problems**"
      ]
    },
    {
      "cell_type": "markdown",
      "metadata": {
        "id": "vlhK-Gx6QRCd"
      },
      "source": [
        "**Q.1. Two tensors having different shapes**\n",
        "\n",
        "a) can not be added.\n",
        "\n",
        "b) can be added mathematically.\n",
        "\n",
        "c) can be added in NumPy but not in TensorFlow.\n",
        "\n",
        "d) can be added in both NumPy and TensorFlow.\n",
        "\n",
        "Answer : d)"
      ]
    },
    {
      "cell_type": "markdown",
      "metadata": {
        "id": "1Z-OmWwTQRCe"
      },
      "source": [
        "**Q.2. Which of the following are not true about matrix multiplication?**\n",
        "\n",
        "a) Hadamard and Matrix Multiplication are the same operations.\n",
        "\n",
        "b) Matrix Multiplication can only be done between matrices of the same shape.\n",
        "\n",
        "c) Element-wise multiplication is the same as that of Matrix Multiplication.\n",
        "\n",
        "d) Number of columns of the first matrix and number of rows of the second matrix must match for matrix multiplication.\n",
        "\n",
        "Answer: a),b) and c)"
      ]
    },
    {
      "cell_type": "markdown",
      "metadata": {
        "id": "s-aEdMM0QRCe"
      },
      "source": [
        "**Q.3. The concept of broadcasting is related to**\n",
        "\n",
        "a) Inverse of a matrix.\n",
        "\n",
        "b) Multiplication of matrix.\n",
        "\n",
        "c) Addition of matrix.\n",
        "\n",
        "d) Subtraction of Matrix.\n",
        "\n",
        "Answer: Both c) and d)"
      ]
    },
    {
      "cell_type": "markdown",
      "metadata": {
        "id": "VHfHdGCP_n6Y"
      },
      "source": [
        "### Please answer the questions below to complete the experiment:\n",
        "\n",
        "\n"
      ]
    },
    {
      "cell_type": "code",
      "metadata": {
        "id": "VgSwVENIPcM6"
      },
      "source": [
        "# @title Which of the following may be the shape of a tensor representing 10 color images of size 64 X 64? { run: \"auto\", form-width: \"500px\", display-mode: \"form\" }\n",
        "Answer = \"10 x 3 x 64 x 64\" #@param [\"\",\"10 x 3 x 64 x 64\",\"10 x 64 x 3\", \"64 x 10 x 3 x 64\", \"4 x 64 x 10 x 3\"]"
      ],
      "execution_count": null,
      "outputs": []
    },
    {
      "cell_type": "code",
      "metadata": {
        "id": "NMzKSbLIgFzQ"
      },
      "source": [
        "#@title How was the experiment? { run: \"auto\", form-width: \"500px\", display-mode: \"form\" }\n",
        "Complexity = \"Good and Challenging for me\" #@param [\"\",\"Too Simple, I am wasting time\", \"Good, But Not Challenging for me\", \"Good and Challenging for me\", \"Was Tough, but I did it\", \"Too Difficult for me\"]\n"
      ],
      "execution_count": null,
      "outputs": []
    },
    {
      "cell_type": "code",
      "metadata": {
        "id": "DjcH1VWSFI2l"
      },
      "source": [
        "#@title If it was too easy, what more would you have liked to be added? If it was very difficult, what would you have liked to have been removed? { run: \"auto\", display-mode: \"form\" }\n",
        "Additional = \"No comments\" #@param {type:\"string\"}\n"
      ],
      "execution_count": null,
      "outputs": []
    },
    {
      "cell_type": "code",
      "metadata": {
        "id": "4VBk_4VTAxCM"
      },
      "source": [
        "#@title Can you identify the concepts from the lecture which this experiment covered? { run: \"auto\", vertical-output: true, display-mode: \"form\" }\n",
        "Concepts = \"Yes\" #@param [\"\",\"Yes\", \"No\"]\n"
      ],
      "execution_count": null,
      "outputs": []
    },
    {
      "cell_type": "code",
      "metadata": {
        "id": "XH91cL1JWH7m"
      },
      "source": [
        "#@title  Text and image description/explanation and code comments within the experiment: { run: \"auto\", vertical-output: true, display-mode: \"form\" }\n",
        "Comments = \"Very Useful\" #@param [\"\",\"Very Useful\", \"Somewhat Useful\", \"Not Useful\", \"Didn't use\"]\n"
      ],
      "execution_count": null,
      "outputs": []
    },
    {
      "cell_type": "code",
      "metadata": {
        "id": "z8xLqj7VWIKW"
      },
      "source": [
        "#@title Mentor Support: { run: \"auto\", vertical-output: true, display-mode: \"form\" }\n",
        "Mentor_support = \"Very Useful\" #@param [\"\",\"Very Useful\", \"Somewhat Useful\", \"Not Useful\", \"Didn't use\"]\n"
      ],
      "execution_count": null,
      "outputs": []
    },
    {
      "cell_type": "code",
      "metadata": {
        "id": "FzAZHt1zw-Y-",
        "cellView": "form",
        "colab": {
          "base_uri": "https://localhost:8080/"
        },
        "outputId": "2043ddc6-46b8-46a4-c1eb-f4cb366c596d"
      },
      "source": [
        "#@title Run this cell to submit your notebook for grading { vertical-output: true }\n",
        "try:\n",
        "  if submission_id:\n",
        "      return_id = submit_notebook()\n",
        "      if return_id : submission_id = return_id\n",
        "  else:\n",
        "      print(\"Please complete the setup first.\")\n",
        "except NameError:\n",
        "  print (\"Please complete the setup first.\")"
      ],
      "execution_count": null,
      "outputs": [
        {
          "output_type": "stream",
          "name": "stdout",
          "text": [
            "Your submission is successful.\n",
            "Ref Id: 1277\n",
            "Date of submission:  19 Jan 2024\n",
            "Time of submission:  12:07:54\n",
            "View your submissions: https://cds-iisc.talentsprint.com/notebook_submissions\n"
          ]
        }
      ]
    }
  ]
}